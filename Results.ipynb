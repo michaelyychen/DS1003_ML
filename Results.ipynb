{
 "cells": [
  {
   "cell_type": "markdown",
   "metadata": {},
   "source": [
    "# Result\n",
    "Here are some of the result on the dataset\n",
    "\n",
    "training: 2014,2015,2016 regular season\n",
    "\n",
    "dev: 0.1 of the training set\n",
    "\n",
    "test: 2017 regular season"
   ]
  },
  {
   "cell_type": "code",
   "execution_count": 47,
   "metadata": {},
   "outputs": [],
   "source": [
    "import pandas as pd\n",
    "import numpy as np\n",
    "import math\n",
    "import torch\n",
    "from torch.autograd import Variable\n",
    "from torch import nn\n",
    "from torch.nn import functional as F\n",
    "\n",
    "import matplotlib.pyplot as plt\n",
    "\n",
    "from sklearn.metrics import confusion_matrix"
   ]
  },
  {
   "cell_type": "code",
   "execution_count": 94,
   "metadata": {},
   "outputs": [
    {
     "name": "stdout",
     "output_type": "stream",
     "text": [
      "Feature length:25\n",
      "Loading Data/MLB_2014/MLB_PitchFX_2014_RegularSeason.csv\n",
      "Loading Data/MLB_2014/MLB_PitchFX_2014_PostSeason.csv\n",
      "(658428, 28)\n",
      "(8837, 28)\n",
      "Loading Data/MLB_2015/MLB_PitchFX_2015_RegularSeason.csv\n",
      "(667265, 28)\n",
      "(672271, 28)\n",
      "Loading Data/MLB_2015/MLB_PitchFX_2015_PostSeason.csv\n",
      "(1339536, 28)\n",
      "(10277, 28)\n",
      "Loading Data/MLB_2016/MLB_PitchFX_2016_RegularSeason.csv\n",
      "(1349813, 28)\n",
      "(703809, 28)\n",
      "Loading Data/MLB_2016/MLB_PitchFX_2016_PostSeason.csv\n",
      "(2053622, 28)\n",
      "(10076, 28)\n",
      "Loading test file Data/MLB_2017/MLB_PitchFX_2017_RegularSeason.csv\n",
      "Loading test file Data/MLB_2017/MLB_PitchFX_2017_PostSeason.csv\n"
     ]
    }
   ],
   "source": [
    "base_dir = \"Data/\"\n",
    "\n",
    "label2one = {'B':0,'S':1,'X':2}\n",
    "one2label = {0:'B', 1:'S', 2:'X'}\n",
    "\n",
    "def normalize(data):\n",
    "    mu = np.mean(data, axis=0)\n",
    "    std = np.std(data, axis=0)\n",
    "    return mu, std, (data-mu)/std\n",
    "\n",
    "vfunc = np.vectorize(lambda x:label2one[x])\n",
    "\n",
    "input_labels = ['pitcher','batter', 'pitch_type','x0','x','y','ax','ay','az','px','pz','sz_top','sz_bot',\n",
    "             'vx0','vy0','vz0','pfx_x','z0','start_speed','end_speed',\n",
    "             'break_y','break_angle','break_length','spin_dir','spin_rate',\n",
    "             'inning','balls','strikes'\n",
    "             ]\n",
    "#input_labels = ['pitcher','batter', 'pitch_type','balls', 'strikes','inning','pitch_count']\n",
    "#input_labels = ['pitcher','batter', \n",
    "       #'on_1b', 'on_2b', 'on_3b', 'pitch_type', 'side', \n",
    "       #'inning', 'pitch_count', 'balls', 'strikes','offense_score', 'defense_score', \n",
    "#       'ay', 'px', 'ax',  \n",
    "#       'sz_bot', 'vz0', 'vy0', 'pfx_x',\n",
    "#       'type_confidence', 'z0', 'tfs', 'pz', 'start_speed', 'az', 'zone',\n",
    "#       'break_angle', 'spin_dir', 'end_speed', 'vx0', 'sz_top', 'nasty',\n",
    "#       'pfx_z', 'break_y', 'x', 'spin_rate',\n",
    "#       'y0', 'break_length', 'y', 'x0'\n",
    "#       ]\n",
    "feature_length = len(input_labels)-3\n",
    "print(\"Feature length:{}\".format(feature_length))\n",
    "train_years = [4,5,6]\n",
    "dev_years = [7]\n",
    "\n",
    "\n",
    "train_x = {}\n",
    "train_y = {}\n",
    "ctr = 0\n",
    "for y in train_years:\n",
    "    filename= base_dir+\"MLB_201{0}/MLB_PitchFX_201{0}_RegularSeason.csv\".format(str(y))\n",
    "    print(\"Loading {}\".format(filename))\n",
    "    f = pd.read_csv(filename)\n",
    "    \n",
    "    tmp_x = f[input_labels]\n",
    "    tmp_y = f['umpcall']\n",
    "\n",
    "    tmp_x = tmp_x.as_matrix()\n",
    "    tmp_y = tmp_y.as_matrix()\n",
    "    tmp_y = vfunc(tmp_y)\n",
    "\n",
    "    if ctr==0:\n",
    "        ctr=1\n",
    "        train_x = tmp_x\n",
    "        train_y = tmp_y\n",
    "    else:\n",
    "        print(train_x.shape)\n",
    "        print(tmp_x.shape)\n",
    "        train_x = np.concatenate((train_x, tmp_x), axis=0)\n",
    "        train_y = np.concatenate((train_y, tmp_y), axis=0)\n",
    "    \n",
    "    filename= base_dir+\"MLB_201{0}/MLB_PitchFX_201{0}_PostSeason.csv\".format(str(y))\n",
    "    print(\"Loading {}\".format(filename))\n",
    "    f = pd.read_csv(filename)\n",
    "    \n",
    "    tmp_x = f[input_labels]\n",
    "    tmp_y = f['umpcall']\n",
    "\n",
    "    tmp_x = tmp_x.as_matrix()\n",
    "    tmp_y = tmp_y.as_matrix()\n",
    "    tmp_y = vfunc(tmp_y)\n",
    "    if ctr==0:\n",
    "        ctr=1\n",
    "        train_x = tmp_x\n",
    "        train_y = tmp_y\n",
    "    else:\n",
    "        print(train_x.shape)\n",
    "        print(tmp_x.shape)\n",
    "        train_x = np.concatenate((train_x, tmp_x), axis=0)\n",
    "        train_y = np.concatenate((train_y, tmp_y), axis=0)\n",
    "\n",
    "filename = base_dir+\"MLB_2017/MLB_PitchFX_2017_RegularSeason.csv\"\n",
    "print(\"Loading test file {}\".format(filename))\n",
    "f2 = pd.read_csv(filename)\n",
    "test_x = f2[input_labels]\n",
    "test_y = f2['umpcall']\n",
    "\n",
    "test_x = test_x.as_matrix()\n",
    "test_y = test_y.as_matrix()\n",
    "test_y = vfunc(test_y)\n",
    "\n",
    "filename = base_dir+\"MLB_2017/MLB_PitchFX_2017_PostSeason.csv\"\n",
    "print(\"Loading test file {}\".format(filename))\n",
    "f2 = pd.read_csv(filename)\n",
    "\n",
    "tmp_x = f2[input_labels]\n",
    "tmp_y = f2['umpcall']\n",
    "\n",
    "tmp_x = tmp_x.as_matrix()\n",
    "tmp_y = tmp_y.as_matrix()\n",
    "tmp_y = vfunc(tmp_y)\n",
    "\n",
    "test_x = np.concatenate((test_x, tmp_x), axis=0)\n",
    "test_y = np.concatenate((test_y, tmp_y), axis=0)"
   ]
  },
  {
   "cell_type": "code",
   "execution_count": 95,
   "metadata": {},
   "outputs": [],
   "source": [
    "vv = np.vectorize(lambda x: (isinstance(x, float) and math.isnan(x) ))\n",
    "idx = ~np.logical_or(vv(train_x[:,0]), vv(train_x[:,1]))\n",
    "train_x = train_x[idx]\n",
    "train_y = train_y[idx]"
   ]
  },
  {
   "cell_type": "code",
   "execution_count": 96,
   "metadata": {},
   "outputs": [],
   "source": [
    "from sklearn.model_selection import train_test_split\n",
    "train_x, dev_x, train_y, dev_y = train_test_split(train_x, train_y, test_size=0.1, random_state=0, shuffle=True)"
   ]
  },
  {
   "cell_type": "code",
   "execution_count": 97,
   "metadata": {},
   "outputs": [],
   "source": [
    "def criterion(pred, y):\n",
    "    s = 0;\n",
    "    for i in range(pred.shape[0]):\n",
    "        s -= np.log(pred[i,y[i]])\n",
    "    return s/y.shape[0]"
   ]
  },
  {
   "cell_type": "code",
   "execution_count": 98,
   "metadata": {},
   "outputs": [],
   "source": [
    "def accuracy(pred, y):\n",
    "    s = np.sum(pred==y)\n",
    "    return s/y.shape[0]"
   ]
  },
  {
   "cell_type": "markdown",
   "metadata": {},
   "source": [
    "## Baseline\n",
    "We can simply predict the output to be all 1 as the 'S' is the most outcome in our training data. The accuracy of this simple prediction function is:"
   ]
  },
  {
   "cell_type": "markdown",
   "metadata": {},
   "source": [
    "The accuracy on the test set is: 0.47999643589058183\n",
    "\n",
    "The cross-entropy on the test set is: 1.0986122886679723\n",
    "\n",
    "The confusion matrix is:\n",
    "```text\n",
    "array([[   0, 4009,    0],\n",
    "       [   0, 5387,    0],\n",
    "       [   0, 1827,    0]])\n",
    "```"
   ]
  },
  {
   "cell_type": "code",
   "execution_count": 99,
   "metadata": {},
   "outputs": [],
   "source": [
    "prob_y = np.zeros((1,3))\n",
    "for i in test_y:\n",
    "    prob_y[0,i] +=1\n",
    "prob_y = prob_y/np.sum(prob_y)\n",
    "prob_y = np.repeat(prob_y, test_y.shape[0], axis=0)\n",
    "pred_y = np.argmax(prob_y, 1)\n"
   ]
  },
  {
   "cell_type": "code",
   "execution_count": 100,
   "metadata": {},
   "outputs": [
    {
     "data": {
      "text/plain": [
       "1.031404418480492"
      ]
     },
     "execution_count": 100,
     "metadata": {},
     "output_type": "execute_result"
    }
   ],
   "source": [
    "criterion(prob_y, test_y)"
   ]
  },
  {
   "cell_type": "code",
   "execution_count": 101,
   "metadata": {},
   "outputs": [
    {
     "data": {
      "text/plain": [
       "0.45906764268809513"
      ]
     },
     "execution_count": 101,
     "metadata": {},
     "output_type": "execute_result"
    }
   ],
   "source": [
    "accuracy(pred_y, test_y)"
   ]
  },
  {
   "cell_type": "code",
   "execution_count": 102,
   "metadata": {},
   "outputs": [
    {
     "data": {
      "image/png": "[encoded data removed]",
      "text/plain": [
       "<matplotlib.figure.Figure at 0x7fd1975e2160>"
      ]
     },
     "metadata": {},
     "output_type": "display_data"
    }
   ],
   "source": [
    "cf = confusion_matrix(test_y, pred_y) / test_y.shape[0]\n",
    "plt.matshow(cf, vmin=0, vmax=1)\n",
    "plt.colorbar()\n",
    "plt.show()"
   ]
  },
  {
   "cell_type": "markdown",
   "metadata": {},
   "source": [
    "# Baseline 2\n",
    "We explore the effect of combining strike, balls as single categorical variable."
   ]
  },
  {
   "cell_type": "code",
   "execution_count": 103,
   "metadata": {},
   "outputs": [],
   "source": [
    "cum_ctrs = {}\n",
    "for i in range(train_y.shape[0]):\n",
    "    b = str(train_x[i, -2])\n",
    "    s = str(train_x[i, -1])\n",
    "    lab = b + ' ' + s\n",
    "    if lab not in cum_ctrs:\n",
    "        cum_ctrs[lab] = [0,0,0]\n",
    "    else:\n",
    "        cum_ctrs[lab][train_y[i]] += 1"
   ]
  },
  {
   "cell_type": "code",
   "execution_count": 104,
   "metadata": {},
   "outputs": [],
   "source": [
    "prob_y = np.zeros((test_y.shape[0], 3))\n",
    "for i in range(test_y.shape[0]):\n",
    "    b = str(test_x[i, -2])\n",
    "    s = str(test_x[i, -1])\n",
    "    lab = b + ' ' + s\n",
    "    prob_y[i,:] = cum_ctrs[lab] / np.sum(cum_ctrs[lab])\n",
    "pred_y = np.argmax(prob_y, 1)"
   ]
  },
  {
   "cell_type": "code",
   "execution_count": 106,
   "metadata": {
    "scrolled": true
   },
   "outputs": [
    {
     "data": {
      "text/plain": [
       "1.0159492954611336"
      ]
     },
     "execution_count": 106,
     "metadata": {},
     "output_type": "execute_result"
    }
   ],
   "source": [
    "criterion(prob_y, test_y)"
   ]
  },
  {
   "cell_type": "code",
   "execution_count": 107,
   "metadata": {},
   "outputs": [
    {
     "data": {
      "text/plain": [
       "0.46632863668886565"
      ]
     },
     "execution_count": 107,
     "metadata": {},
     "output_type": "execute_result"
    }
   ],
   "source": [
    "accuracy(pred_y, test_y)"
   ]
  },
  {
   "cell_type": "code",
   "execution_count": 108,
   "metadata": {},
   "outputs": [
    {
     "data": {
      "image/png": "[encoded data removed]",
      "text/plain": [
       "<matplotlib.figure.Figure at 0x7fd19c14be48>"
      ]
     },
     "metadata": {},
     "output_type": "display_data"
    }
   ],
   "source": [
    "cf = confusion_matrix(test_y, pred_y) / test_y.shape[0]\n",
    "plt.matshow(cf, vmin=0, vmax=1)\n",
    "plt.colorbar()\n",
    "plt.show()"
   ]
  },
  {
   "cell_type": "markdown",
   "metadata": {},
   "source": [
    "# Shallow NN w/ Post + Avg. Gen.\n",
    "In this model, we first train our shallow Net with data including the post pitch features. And use a generative model to make the prediction."
   ]
  },
  {
   "cell_type": "markdown",
   "metadata": {},
   "source": [
    "We use all of the following features as our input:\n",
    "``` text\n",
    "'pitcher','batter', 'pitch_type','x0','x','y','ax','ay','az','px','pz','sz_top','sz_bot',\n",
    " 'vx0','vy0','vz0','pfx_x','z0','start_speed','end_speed',\n",
    " 'break_y','break_angle','break_length','spin_dir','spin_rate',\n",
    " 'inning','balls','strikes'```"
   ]
  },
  {
   "cell_type": "markdown",
   "metadata": {},
   "source": [
    "This is the structure of the shallow NN:\n",
    "```text\n",
    "Fcc(\n",
    "  (embedding): PlayerEmbedding(\n",
    "    (embedding1): Embedding(1120, 100)\n",
    "    (embedding2): Embedding(1445, 100)\n",
    "  )\n",
    "  (drop1): Dropout(p=0.1)\n",
    "  (lin1): Linear(in_features=225, out_features=100, bias=True)\n",
    "  (lin2): Linear(in_features=100, out_features=100, bias=True)\n",
    "  (lin3): Linear(in_features=100, out_features=50, bias=True)\n",
    "  (lin4): Linear(in_features=50, out_features=3, bias=True)\n",
    ")```\n",
    "After 30 epoch of training:"
   ]
  },
  {
   "cell_type": "markdown",
   "metadata": {},
   "source": [
    "The accuracy on the test set is: 0.7106440969731745\n",
    "\n",
    "The cross-entropy on the test set is: 0.6153840772368059\n",
    "\n",
    "The confusion matrix is:\n",
    "```text\n",
    "array([[3276,  721,   12],\n",
    "       [ 658, 4446,  283],\n",
    "       [  92, 1446,  289]])\n",
    "```"
   ]
  },
  {
   "cell_type": "markdown",
   "metadata": {},
   "source": [
    "One observation is that the 'X'(2) classes is likely to be predicted as 'S'(1). This coincide to our knowledge of the baseball."
   ]
  },
  {
   "cell_type": "markdown",
   "metadata": {},
   "source": [
    "## The Generation Model\n",
    "Since we do not have most of the pitch/fx features. We average the feature from the training data grouped by pitcher,batter and pitch_type"
   ]
  },
  {
   "cell_type": "markdown",
   "metadata": {},
   "source": [
    "The accuracy on the test set is: 0.450325224984407\n",
    "\n",
    "The cross-entropy on the test set is: 1.7214855619830554\n",
    "\n",
    "The confusion matrix is:\n",
    "```text\n",
    "array([[  99, 3454,  456],\n",
    "       [ 124, 4656,  607],\n",
    "       [  30, 1498,  299]])\n",
    "```"
   ]
  },
  {
   "cell_type": "markdown",
   "metadata": {},
   "source": [
    "From the confusion matrix, we can see that most of the prediction is 'S'. This might be dut to we are averaging dataset to generate input and most entries in the dataset are 'S'."
   ]
  },
  {
   "cell_type": "markdown",
   "metadata": {},
   "source": [
    "# Shallow NN w/o Post Features\n",
    "We use the same structure as the previous model but with only the input features:\n",
    "```text\n",
    "'pitcher','batter','balls', 'strikes','inning','pitch_count'\n",
    "```"
   ]
  },
  {
   "cell_type": "markdown",
   "metadata": {},
   "source": [
    "The accuracy on the test set is: 0.47042509443886577\n",
    "\n",
    "The cross-entropy on the test set is: 0.9997494564191931\n",
    "\n",
    "The confusion matrix is:\n",
    "```text\n",
    "array([[ 928, 3066,   15],\n",
    "       [ 866, 4489,   32],\n",
    "       [ 326, 1485,   16]])\n",
    "```"
   ]
  },
  {
   "cell_type": "markdown",
   "metadata": {},
   "source": [
    "# Deep Model w/ Post + Avg. Gen\n",
    "We follow the same procedure in the shallow model."
   ]
  },
  {
   "cell_type": "markdown",
   "metadata": {},
   "source": [
    "We use all of the following features as our input:\n",
    "``` text\n",
    "'pitcher','batter', 'pitch_type','x0','x','y','ax','ay','az','px','pz','sz_top','sz_bot',\n",
    " 'vx0','vy0','vz0','pfx_x','z0','start_speed','end_speed',\n",
    " 'break_y','break_angle','break_length','spin_dir','spin_rate',\n",
    " 'inning','balls','strikes'```"
   ]
  },
  {
   "cell_type": "markdown",
   "metadata": {},
   "source": [
    "```text\n",
    "Fcc(\n",
    "  (embedding): PlayerEmbedding(\n",
    "    (embedding1): Embedding(1120, 100)\n",
    "    (embedding2): Embedding(1445, 100)\n",
    "    (conv1): Conv1d(2, 32, kernel_size=(1,), stride=(1,))\n",
    "    (conv2): Conv1d(32, 32, kernel_size=(1,), stride=(1,))\n",
    "    (conv3): Conv1d(32, 32, kernel_size=(1,), stride=(1,))\n",
    "    (maxpol): MaxPool1d(kernel_size=2, stride=2, padding=0, dilation=1, ceil_mode=False)\n",
    "  )\n",
    "  (bn): BatchNorm1d(25, eps=1e-05, momentum=0.1, affine=True)\n",
    "  (fea1): Linear(in_features=25, out_features=64, bias=True)\n",
    "  (feares2): ResNet(\n",
    "    (lin1): Linear(in_features=64, out_features=64, bias=True)\n",
    "    (lin2): Linear(in_features=64, out_features=64, bias=True)\n",
    "  )\n",
    "  (fea3): Linear(in_features=64, out_features=64, bias=True)\n",
    "  (lin1): Linear(in_features=1664, out_features=1024, bias=True)\n",
    "  (res2): ResNet(\n",
    "    (lin1): Linear(in_features=1024, out_features=1024, bias=True)\n",
    "    (lin2): Linear(in_features=1024, out_features=1024, bias=True)\n",
    "  )\n",
    "  (res3): ResNet(\n",
    "    (lin1): Linear(in_features=1024, out_features=1024, bias=True)\n",
    "    (lin2): Linear(in_features=1024, out_features=1024, bias=True)\n",
    "  )\n",
    "  (lin3): Linear(in_features=1024, out_features=256, bias=True)\n",
    "  (res4): ResNet(\n",
    "    (lin1): Linear(in_features=256, out_features=256, bias=True)\n",
    "    (lin2): Linear(in_features=256, out_features=256, bias=True)\n",
    "  )\n",
    "  (res5): ResNet(\n",
    "    (lin1): Linear(in_features=256, out_features=256, bias=True)\n",
    "    (lin2): Linear(in_features=256, out_features=256, bias=True)\n",
    "  )\n",
    "  (lin8): Linear(in_features=256, out_features=3, bias=True)\n",
    ")```"
   ]
  },
  {
   "cell_type": "markdown",
   "metadata": {},
   "source": [
    "After 10 epoch of training,\n",
    "\n",
    "The accuracy on the test set is: 0.743473224627996\n",
    "\n",
    "The cross-entropy on the test set is: 0.6006864595759783\n",
    "\n",
    "The confusion matrix is:\n",
    "```text\n",
    "array([[3404,  598,    7],\n",
    "       [ 453, 4488,  446],\n",
    "       [  44, 1331,  452]])\n",
    "```"
   ]
  },
  {
   "cell_type": "markdown",
   "metadata": {},
   "source": [
    "## The Generation Model\n",
    "Since we do not have most of the pitch/fx features. We average the feature from the training data grouped by pitcher,batter and pitch_type"
   ]
  },
  {
   "cell_type": "markdown",
   "metadata": {},
   "source": [
    "The accuracy on the test set is: 0.4631560188897799 <- 0.450325224984407\n",
    "\n",
    "The cross-entropy on the test set is: 1.7626901821693999 <- 1.7214855619830554\n",
    "\n",
    "The confusion matrix is:\n",
    "```text\n",
    "array([[ 130, 3624,  255],\n",
    "       [ 166, 4894,  327],\n",
    "       [  51, 1602,  174]])\n",
    "```"
   ]
  },
  {
   "cell_type": "markdown",
   "metadata": {},
   "source": [
    "# Deep NN w/o Post Features\n",
    "We use the same structure as the previous model but with only the input features:\n",
    "```text\n",
    "'pitcher','batter','balls', 'strikes','inning','pitch_count'\n",
    "```"
   ]
  },
  {
   "cell_type": "markdown",
   "metadata": {},
   "source": [
    "After 5 epoch,\n",
    "\n",
    "The accuracy on the test set is: 0.48730286019780805\n",
    "\n",
    "The cross-entropy on the test set is: 0.9971903735363663\n",
    "\n",
    "The confusion matrix is:\n",
    "```text\n",
    "array([[ 846, 3163,    0],\n",
    "       [ 764, 4623,    0],\n",
    "       [ 290, 1537,    0]])\n",
    "```"
   ]
  },
  {
   "cell_type": "markdown",
   "metadata": {},
   "source": [
    "Interesting, the model never predict the outcome as 'X'."
   ]
  },
  {
   "cell_type": "markdown",
   "metadata": {},
   "source": [
    "# Comparison between Deep and Shallow NN\n",
    "One of the observation is that the embedding layer of shallow NN is more likely to diverge, that is, the loss of validation set goes up without ever converging."
   ]
  },
  {
   "cell_type": "code",
   "execution_count": null,
   "metadata": {},
   "outputs": [],
   "source": []
  }
 ],
 "metadata": {
  "kernelspec": {
   "display_name": "Python 3",
   "language": "python",
   "name": "python3"
  },
  "language_info": {
   "codemirror_mode": {
    "name": "ipython",
    "version": 3
   },
   "file_extension": ".py",
   "mimetype": "text/x-python",
   "name": "python",
   "nbconvert_exporter": "python",
   "pygments_lexer": "ipython3",
   "version": "3.5.2"
  }
 },
 "nbformat": 4,
 "nbformat_minor": 2
}
