{
 "cells": [
  {
   "cell_type": "code",
   "execution_count": 1,
   "metadata": {
    "collapsed": true
   },
   "outputs": [],
   "source": [
    "import pandas as pd\n",
    "import numpy as np\n",
    "import math"
   ]
  },
  {
   "cell_type": "code",
   "execution_count": 2,
   "metadata": {
    "collapsed": true
   },
   "outputs": [],
   "source": [
    "base_dir = \"Data/\"\n",
    "p = pd.read_csv(base_dir+ \"MLB_Players.csv\")\n",
    "f = pd.read_csv(base_dir+ \"MLB_2017/MLB_PitchFX_2017_RegularSeason.csv\")"
   ]
  },
  {
   "cell_type": "code",
   "execution_count": 4,
   "metadata": {
    "collapsed": true
   },
   "outputs": [],
   "source": [
    "def distance(pitch_id, batter_id,balls,strikes, pitch_count, inning, c=10):\n",
    "    def id_dis(id1, id2):\n",
    "        return 0 if id1 == id2 else c\n",
    "    def dis(x):\n",
    "        sqdis = (x['balls']-balls)**2+\\\n",
    "        (x['strikes']-strikes)**2+\\\n",
    "        (x['pitch_count']-pitch_count)**2+\\\n",
    "        (x['inning']-inning)**2+\\\n",
    "        id_dis(pitch_id,x['pitcher'])+\\\n",
    "        id_dis(batter_id,x['batter'])\n",
    "        return sqdis\n",
    "    return dis\n",
    "def predict(all_data,pitch_id, batter_id,balls,strikes, pitch_count,inning,\n",
    "            num_of_neighbor=5, c=10):\n",
    "    f_l=distance(pitch_id,batter_id,balls,strikes,pitch_count,inning,c=c)\n",
    "    all_data[\"dis\"]=all_data.apply(f_l,axis=1)\n",
    "    sort_results=all_data.sort_values(by=[\"dis\"])\n",
    "    select_umpcall = sort_results[0:num_of_neighbor][\"umpcall\"]\n",
    "    \n",
    "    #count weighted states\n",
    "    X = 0\n",
    "    S = 0\n",
    "    B = 0\n",
    "    i = 0\n",
    "    for state in select_umpcall:\n",
    "        tmp = math.exp(-i/num_of_neighbor*3)\n",
    "        if state == \"X\":\n",
    "            X+=tmp\n",
    "        elif state == \"S\":\n",
    "            S+=tmp\n",
    "        else:\n",
    "            B+=tmp\n",
    "        i+=1\n",
    "    XBS = X+S+B\n",
    "    print(sort_results[[\"dis\",\"umpcall\"]])\n",
    "    return {\"S\": S/XBS,\n",
    "            \"B\": B/XBS,\n",
    "            \"X\": X/XBS}"
   ]
  },
  {
   "cell_type": "code",
   "execution_count": null,
   "metadata": {
    "collapsed": true
   },
   "outputs": [],
   "source": [
    "f_l=distance(\"greinza01\",\"spande01\",1,1,3,1,c=10)\n",
    "f[\"dis\"]=f.apply(f_l,axis=1)"
   ]
  },
  {
   "cell_type": "code",
   "execution_count": null,
   "metadata": {
    "collapsed": true
   },
   "outputs": [],
   "source": [
    "select_umpcall = f.sort_values(by=[\"dis\"])[0:10][\"umpcall\"]\n",
    "print(f.sort_values(by=[\"dis\"])[0:10][[\"dis\",\"umpcall\"]])"
   ]
  },
  {
   "cell_type": "code",
   "execution_count": null,
   "metadata": {
    "collapsed": true
   },
   "outputs": [],
   "source": [
    "print(predict(f,\"holdejo02\",\"sanchga02\",1,2,16,7,num_of_neighbor=7, c=10))"
   ]
  },
  {
   "cell_type": "markdown",
   "metadata": {
    "collapsed": true
   },
   "source": [
    "# Use Sklearn to improve Performance"
   ]
  },
  {
   "cell_type": "code",
   "execution_count": 5,
   "metadata": {
    "collapsed": true
   },
   "outputs": [],
   "source": [
    "from sklearn.neighbors import NearestNeighbors\n",
    "f.columns.values\n",
    "label2one = {'B':[1,0,0],'S':[0,1,0],'X':[0,0,1]}\n",
    "one2label = {0:'B', 1:'S', 2:'X'}"
   ]
  },
  {
   "cell_type": "code",
   "execution_count": 6,
   "metadata": {
    "collapsed": true
   },
   "outputs": [],
   "source": [
    "def normalize(data):\n",
    "    mu = np.mean(data, axis=0)\n",
    "    std = np.std(data, axis=0)\n",
    "    return mu, std, (data-mu)/std\n",
    "import random\n",
    "def dis(x,y):\n",
    "    return random.randrange(1,20)"
   ]
  },
  {
   "cell_type": "code",
   "execution_count": 3,
   "metadata": {},
   "outputs": [
    {
     "data": {
      "text/html": [
       "<div>\n",
       "<style>\n",
       "    .dataframe thead tr:only-child th {\n",
       "        text-align: right;\n",
       "    }\n",
       "\n",
       "    .dataframe thead th {\n",
       "        text-align: left;\n",
       "    }\n",
       "\n",
       "    .dataframe tbody tr th {\n",
       "        vertical-align: top;\n",
       "    }\n",
       "</style>\n",
       "<table border=\"1\" class=\"dataframe\">\n",
       "  <thead>\n",
       "    <tr style=\"text-align: right;\">\n",
       "      <th></th>\n",
       "      <th>date</th>\n",
       "      <th>stadium</th>\n",
       "      <th>inning</th>\n",
       "      <th>side</th>\n",
       "      <th>pitcher</th>\n",
       "      <th>pitch_count</th>\n",
       "      <th>batter</th>\n",
       "      <th>balls</th>\n",
       "      <th>strikes</th>\n",
       "      <th>ay</th>\n",
       "      <th>...</th>\n",
       "      <th>p_height</th>\n",
       "      <th>p_weight</th>\n",
       "      <th>p_age</th>\n",
       "      <th>throws</th>\n",
       "      <th>b_last</th>\n",
       "      <th>b_first</th>\n",
       "      <th>b_height</th>\n",
       "      <th>b_weight</th>\n",
       "      <th>b_age</th>\n",
       "      <th>bats</th>\n",
       "    </tr>\n",
       "  </thead>\n",
       "  <tbody>\n",
       "    <tr>\n",
       "      <th>0</th>\n",
       "      <td>2017-04-02</td>\n",
       "      <td>Chase Field</td>\n",
       "      <td>1</td>\n",
       "      <td>top</td>\n",
       "      <td>greinza01</td>\n",
       "      <td>1</td>\n",
       "      <td>spande01</td>\n",
       "      <td>0</td>\n",
       "      <td>0</td>\n",
       "      <td>27.9950</td>\n",
       "      <td>...</td>\n",
       "      <td>74.0</td>\n",
       "      <td>200.0</td>\n",
       "      <td>34.437163</td>\n",
       "      <td>R</td>\n",
       "      <td>Span</td>\n",
       "      <td>Denard</td>\n",
       "      <td>72.0</td>\n",
       "      <td>210.0</td>\n",
       "      <td>34.083973</td>\n",
       "      <td>L</td>\n",
       "    </tr>\n",
       "    <tr>\n",
       "      <th>1</th>\n",
       "      <td>2017-04-02</td>\n",
       "      <td>Chase Field</td>\n",
       "      <td>1</td>\n",
       "      <td>top</td>\n",
       "      <td>greinza01</td>\n",
       "      <td>2</td>\n",
       "      <td>spande01</td>\n",
       "      <td>0</td>\n",
       "      <td>1</td>\n",
       "      <td>25.3700</td>\n",
       "      <td>...</td>\n",
       "      <td>74.0</td>\n",
       "      <td>200.0</td>\n",
       "      <td>34.437163</td>\n",
       "      <td>R</td>\n",
       "      <td>Span</td>\n",
       "      <td>Denard</td>\n",
       "      <td>72.0</td>\n",
       "      <td>210.0</td>\n",
       "      <td>34.083973</td>\n",
       "      <td>L</td>\n",
       "    </tr>\n",
       "    <tr>\n",
       "      <th>2</th>\n",
       "      <td>2017-04-02</td>\n",
       "      <td>Chase Field</td>\n",
       "      <td>1</td>\n",
       "      <td>top</td>\n",
       "      <td>greinza01</td>\n",
       "      <td>3</td>\n",
       "      <td>spande01</td>\n",
       "      <td>1</td>\n",
       "      <td>1</td>\n",
       "      <td>18.4741</td>\n",
       "      <td>...</td>\n",
       "      <td>74.0</td>\n",
       "      <td>200.0</td>\n",
       "      <td>34.437163</td>\n",
       "      <td>R</td>\n",
       "      <td>Span</td>\n",
       "      <td>Denard</td>\n",
       "      <td>72.0</td>\n",
       "      <td>210.0</td>\n",
       "      <td>34.083973</td>\n",
       "      <td>L</td>\n",
       "    </tr>\n",
       "    <tr>\n",
       "      <th>3</th>\n",
       "      <td>2017-04-02</td>\n",
       "      <td>Chase Field</td>\n",
       "      <td>2</td>\n",
       "      <td>top</td>\n",
       "      <td>greinza01</td>\n",
       "      <td>42</td>\n",
       "      <td>spande01</td>\n",
       "      <td>0</td>\n",
       "      <td>0</td>\n",
       "      <td>27.3046</td>\n",
       "      <td>...</td>\n",
       "      <td>74.0</td>\n",
       "      <td>200.0</td>\n",
       "      <td>34.437163</td>\n",
       "      <td>R</td>\n",
       "      <td>Span</td>\n",
       "      <td>Denard</td>\n",
       "      <td>72.0</td>\n",
       "      <td>210.0</td>\n",
       "      <td>34.083973</td>\n",
       "      <td>L</td>\n",
       "    </tr>\n",
       "    <tr>\n",
       "      <th>4</th>\n",
       "      <td>2017-04-02</td>\n",
       "      <td>Chase Field</td>\n",
       "      <td>2</td>\n",
       "      <td>top</td>\n",
       "      <td>greinza01</td>\n",
       "      <td>43</td>\n",
       "      <td>spande01</td>\n",
       "      <td>1</td>\n",
       "      <td>0</td>\n",
       "      <td>23.2610</td>\n",
       "      <td>...</td>\n",
       "      <td>74.0</td>\n",
       "      <td>200.0</td>\n",
       "      <td>34.437163</td>\n",
       "      <td>R</td>\n",
       "      <td>Span</td>\n",
       "      <td>Denard</td>\n",
       "      <td>72.0</td>\n",
       "      <td>210.0</td>\n",
       "      <td>34.083973</td>\n",
       "      <td>L</td>\n",
       "    </tr>\n",
       "  </tbody>\n",
       "</table>\n",
       "<p>5 rows × 59 columns</p>\n",
       "</div>"
      ],
      "text/plain": [
       "         date      stadium  inning side    pitcher  pitch_count    batter  \\\n",
       "0  2017-04-02  Chase Field       1  top  greinza01            1  spande01   \n",
       "1  2017-04-02  Chase Field       1  top  greinza01            2  spande01   \n",
       "2  2017-04-02  Chase Field       1  top  greinza01            3  spande01   \n",
       "3  2017-04-02  Chase Field       2  top  greinza01           42  spande01   \n",
       "4  2017-04-02  Chase Field       2  top  greinza01           43  spande01   \n",
       "\n",
       "   balls  strikes       ay  ...   p_height  p_weight      p_age  throws  \\\n",
       "0      0        0  27.9950  ...       74.0     200.0  34.437163       R   \n",
       "1      0        1  25.3700  ...       74.0     200.0  34.437163       R   \n",
       "2      1        1  18.4741  ...       74.0     200.0  34.437163       R   \n",
       "3      0        0  27.3046  ...       74.0     200.0  34.437163       R   \n",
       "4      1        0  23.2610  ...       74.0     200.0  34.437163       R   \n",
       "\n",
       "   b_last  b_first  b_height  b_weight      b_age  bats  \n",
       "0    Span   Denard      72.0     210.0  34.083973     L  \n",
       "1    Span   Denard      72.0     210.0  34.083973     L  \n",
       "2    Span   Denard      72.0     210.0  34.083973     L  \n",
       "3    Span   Denard      72.0     210.0  34.083973     L  \n",
       "4    Span   Denard      72.0     210.0  34.083973     L  \n",
       "\n",
       "[5 rows x 59 columns]"
      ]
     },
     "execution_count": 3,
     "metadata": {},
     "output_type": "execute_result"
    }
   ],
   "source": [
    "#Create Age feature based on player's dob. If dob is Null, using 28years old\n",
    "p[\"dob\"] = pd.to_datetime(p[\"dob\"])\n",
    "temp = pd.DataFrame({'year': [1980],\n",
    "                       'month': [1],\n",
    "                       'day': [1]})\n",
    "temp = pd.to_datetime(temp)\n",
    "\n",
    "p[\"dob\"] = p[\"dob\"].fillna(temp)\n",
    "p[\"age\"] = pd.Timestamp('today')\n",
    "p[\"age\"] = (p[\"age\"] - p[\"dob\"])/ np.timedelta64(1, 'Y')\n",
    "\n",
    "#last first throws bats height weight dob\n",
    "p.rename(columns={'bref_id': 'pitcher', 'last': 'p_last', 'first':'p_first', 'height': 'p_height', 'weight':'p_weight', 'age':'p_age'}, inplace=True)\n",
    "# result = pd.concat([f, p], axis=1, join='inner')\n",
    "\n",
    "combined = pd.merge(f, p[[\"pitcher\", \"p_last\", \"p_first\", \"p_height\", \"p_weight\", \"p_age\", \"throws\"]], on='pitcher')\n",
    "p.rename(columns={'pitcher': 'batter', \"p_last\":\"b_last\", \"p_first\":\"b_first\", \"p_height\":\"b_height\", \"p_weight\":\"b_weight\", \"p_age\":\"b_age\"}, inplace=True)\n",
    "# result = pd.merge(result, p, on='batter')\n",
    "combined = pd.merge(combined, p[[\"batter\", \"b_last\", \"b_first\", \"b_height\", \"b_weight\", \"b_age\", \"bats\"]], on='batter')\n",
    "combined.head()\n"
   ]
  },
  {
   "cell_type": "code",
   "execution_count": 11,
   "metadata": {},
   "outputs": [
    {
     "name": "stdout",
     "output_type": "stream",
     "text": [
      "4804566\n"
     ]
    },
    {
     "ename": "ValueError",
     "evalue": "setting an array element with a sequence.",
     "output_type": "error",
     "traceback": [
      "\u001b[0;31m---------------------------------------------------------------------------\u001b[0m",
      "\u001b[0;31mValueError\u001b[0m                                Traceback (most recent call last)",
      "\u001b[0;32m<ipython-input-11-13ab0356008c>\u001b[0m in \u001b[0;36m<module>\u001b[0;34m()\u001b[0m\n\u001b[1;32m     23\u001b[0m                   ])\n\u001b[1;32m     24\u001b[0m \u001b[0menc\u001b[0m \u001b[0;34m=\u001b[0m \u001b[0mpreprocessing\u001b[0m\u001b[0;34m.\u001b[0m\u001b[0mOneHotEncoder\u001b[0m\u001b[0;34m(\u001b[0m\u001b[0msparse\u001b[0m \u001b[0;34m=\u001b[0m \u001b[0;32mFalse\u001b[0m\u001b[0;34m)\u001b[0m\u001b[0;34m\u001b[0m\u001b[0m\n\u001b[0;32m---> 25\u001b[0;31m \u001b[0mafter_encoded\u001b[0m \u001b[0;34m=\u001b[0m \u001b[0menc\u001b[0m\u001b[0;34m.\u001b[0m\u001b[0mfit_transform\u001b[0m\u001b[0;34m(\u001b[0m\u001b[0mresult\u001b[0m\u001b[0;34m.\u001b[0m\u001b[0mtranspose\u001b[0m\u001b[0;34m(\u001b[0m\u001b[0;34m)\u001b[0m\u001b[0;34m)\u001b[0m\u001b[0;34m\u001b[0m\u001b[0m\n\u001b[0m\u001b[1;32m     26\u001b[0m \u001b[0mtrain_X\u001b[0m \u001b[0;34m=\u001b[0m \u001b[0mnp\u001b[0m\u001b[0;34m.\u001b[0m\u001b[0mappend\u001b[0m\u001b[0;34m(\u001b[0m\u001b[0mafter_encoded\u001b[0m\u001b[0;34m,\u001b[0m\u001b[0mf\u001b[0m\u001b[0;34m[\u001b[0m\u001b[0;34m[\u001b[0m\u001b[0;34m\"pitch_count\"\u001b[0m\u001b[0;34m]\u001b[0m\u001b[0;34m]\u001b[0m\u001b[0;34m,\u001b[0m\u001b[0maxis\u001b[0m\u001b[0;34m=\u001b[0m\u001b[0;36m1\u001b[0m\u001b[0;34m)\u001b[0m\u001b[0;34m\u001b[0m\u001b[0m\n\u001b[1;32m     27\u001b[0m \u001b[0mtrain_y\u001b[0m \u001b[0;34m=\u001b[0m \u001b[0mf\u001b[0m\u001b[0;34m[\u001b[0m\u001b[0;34m'umpcall'\u001b[0m\u001b[0;34m]\u001b[0m\u001b[0;34m\u001b[0m\u001b[0m\n",
      "\u001b[0;32m/anaconda3/lib/python3.6/site-packages/sklearn/preprocessing/data.py\u001b[0m in \u001b[0;36mfit_transform\u001b[0;34m(self, X, y)\u001b[0m\n\u001b[1;32m   2017\u001b[0m         \"\"\"\n\u001b[1;32m   2018\u001b[0m         return _transform_selected(X, self._fit_transform,\n\u001b[0;32m-> 2019\u001b[0;31m                                    self.categorical_features, copy=True)\n\u001b[0m\u001b[1;32m   2020\u001b[0m \u001b[0;34m\u001b[0m\u001b[0m\n\u001b[1;32m   2021\u001b[0m     \u001b[0;32mdef\u001b[0m \u001b[0m_transform\u001b[0m\u001b[0;34m(\u001b[0m\u001b[0mself\u001b[0m\u001b[0;34m,\u001b[0m \u001b[0mX\u001b[0m\u001b[0;34m)\u001b[0m\u001b[0;34m:\u001b[0m\u001b[0;34m\u001b[0m\u001b[0m\n",
      "\u001b[0;32m/anaconda3/lib/python3.6/site-packages/sklearn/preprocessing/data.py\u001b[0m in \u001b[0;36m_transform_selected\u001b[0;34m(X, transform, selected, copy)\u001b[0m\n\u001b[1;32m   1807\u001b[0m     \u001b[0mX\u001b[0m \u001b[0;34m:\u001b[0m \u001b[0marray\u001b[0m \u001b[0;32mor\u001b[0m \u001b[0msparse\u001b[0m \u001b[0mmatrix\u001b[0m\u001b[0;34m,\u001b[0m \u001b[0mshape\u001b[0m\u001b[0;34m=\u001b[0m\u001b[0;34m(\u001b[0m\u001b[0mn_samples\u001b[0m\u001b[0;34m,\u001b[0m \u001b[0mn_features_new\u001b[0m\u001b[0;34m)\u001b[0m\u001b[0;34m\u001b[0m\u001b[0m\n\u001b[1;32m   1808\u001b[0m     \"\"\"\n\u001b[0;32m-> 1809\u001b[0;31m     \u001b[0mX\u001b[0m \u001b[0;34m=\u001b[0m \u001b[0mcheck_array\u001b[0m\u001b[0;34m(\u001b[0m\u001b[0mX\u001b[0m\u001b[0;34m,\u001b[0m \u001b[0maccept_sparse\u001b[0m\u001b[0;34m=\u001b[0m\u001b[0;34m'csc'\u001b[0m\u001b[0;34m,\u001b[0m \u001b[0mcopy\u001b[0m\u001b[0;34m=\u001b[0m\u001b[0mcopy\u001b[0m\u001b[0;34m,\u001b[0m \u001b[0mdtype\u001b[0m\u001b[0;34m=\u001b[0m\u001b[0mFLOAT_DTYPES\u001b[0m\u001b[0;34m)\u001b[0m\u001b[0;34m\u001b[0m\u001b[0m\n\u001b[0m\u001b[1;32m   1810\u001b[0m \u001b[0;34m\u001b[0m\u001b[0m\n\u001b[1;32m   1811\u001b[0m     \u001b[0;32mif\u001b[0m \u001b[0misinstance\u001b[0m\u001b[0;34m(\u001b[0m\u001b[0mselected\u001b[0m\u001b[0;34m,\u001b[0m \u001b[0msix\u001b[0m\u001b[0;34m.\u001b[0m\u001b[0mstring_types\u001b[0m\u001b[0;34m)\u001b[0m \u001b[0;32mand\u001b[0m \u001b[0mselected\u001b[0m \u001b[0;34m==\u001b[0m \u001b[0;34m\"all\"\u001b[0m\u001b[0;34m:\u001b[0m\u001b[0;34m\u001b[0m\u001b[0m\n",
      "\u001b[0;32m/anaconda3/lib/python3.6/site-packages/sklearn/utils/validation.py\u001b[0m in \u001b[0;36mcheck_array\u001b[0;34m(array, accept_sparse, dtype, order, copy, force_all_finite, ensure_2d, allow_nd, ensure_min_samples, ensure_min_features, warn_on_dtype, estimator)\u001b[0m\n\u001b[1;32m    431\u001b[0m                                       force_all_finite)\n\u001b[1;32m    432\u001b[0m     \u001b[0;32melse\u001b[0m\u001b[0;34m:\u001b[0m\u001b[0;34m\u001b[0m\u001b[0m\n\u001b[0;32m--> 433\u001b[0;31m         \u001b[0marray\u001b[0m \u001b[0;34m=\u001b[0m \u001b[0mnp\u001b[0m\u001b[0;34m.\u001b[0m\u001b[0marray\u001b[0m\u001b[0;34m(\u001b[0m\u001b[0marray\u001b[0m\u001b[0;34m,\u001b[0m \u001b[0mdtype\u001b[0m\u001b[0;34m=\u001b[0m\u001b[0mdtype\u001b[0m\u001b[0;34m,\u001b[0m \u001b[0morder\u001b[0m\u001b[0;34m=\u001b[0m\u001b[0morder\u001b[0m\u001b[0;34m,\u001b[0m \u001b[0mcopy\u001b[0m\u001b[0;34m=\u001b[0m\u001b[0mcopy\u001b[0m\u001b[0;34m)\u001b[0m\u001b[0;34m\u001b[0m\u001b[0m\n\u001b[0m\u001b[1;32m    434\u001b[0m \u001b[0;34m\u001b[0m\u001b[0m\n\u001b[1;32m    435\u001b[0m         \u001b[0;32mif\u001b[0m \u001b[0mensure_2d\u001b[0m\u001b[0;34m:\u001b[0m\u001b[0;34m\u001b[0m\u001b[0m\n",
      "\u001b[0;31mValueError\u001b[0m: setting an array element with a sequence."
     ]
    }
   ],
   "source": [
    "# one-hot encoder\n",
    "from sklearn import preprocessing\n",
    "pitcher_batter = f[[\"pitcher\",\"batter\"]].fillna(\"-\").as_matrix()\n",
    "pitcher_label_enc = preprocessing.LabelEncoder()\n",
    "batter_label_enc = preprocessing.LabelEncoder()\n",
    "strikes_label_enc = preprocessing.LabelEncoder()\n",
    "balls_label_enc = preprocessing.LabelEncoder()\n",
    "inning_label_enc = preprocessing.LabelEncoder()\n",
    "side_label_enc = preprocessing.LabelEncoder()\n",
    "throws_label_enc = preprocessing.LabelEncoder()\n",
    "bats_label_enc = preprocessing.LabelEncoder()\n",
    "\n",
    "throws_bats = combined[[\"strikes\", \"balls\",\"inning\", \"side\",\"throws\",\"bats\"]].fillna(\"-\").as_matrix()\n",
    "print(throws_bats.size)\n",
    "result = np.array([pitcher_label_enc.fit_transform(pitcher_batter[:,0]),\n",
    "                batter_label_enc.fit_transform(pitcher_batter[:,1]),\n",
    "                strikes_label_enc.fit_transform(throws_bats[:,0]),\n",
    "                throws_bats[:,1],\n",
    "                throws_bats[:,2],\n",
    "                throws_bats[:,3],\n",
    "#                 throws_label_enc.fit_transform(throws_bats[:,4]),\n",
    "#                 bats_label_enc.fit_transform(throws_bats[:,5])\n",
    "                  ])\n",
    "enc = preprocessing.OneHotEncoder(sparse = False)\n",
    "after_encoded = enc.fit_transform(result.transpose())\n",
    "train_X = np.append(after_encoded,f[[\"pitch_count\"]],axis=1)\n",
    "train_y = f['umpcall']\n",
    "from sklearn.utils import shuffle\n",
    "data_x, data_y = shuffle(train_X, train_y.as_matrix())"
   ]
  },
  {
   "cell_type": "code",
   "execution_count": null,
   "metadata": {
    "collapsed": true
   },
   "outputs": [],
   "source": [
    "train_x = f[['x0','x','y','ax','ay','az','px','pz','sz_top','sz_bot',\n",
    "             'vx0','vy0','vz0','pfx_x','z0','start_speed','end_speed',\n",
    "             'break_y','break_angle','break_length','spin_dir','spin_rate']]\n",
    "train_y = f['umpcall']\n",
    "\n",
    "data_x = train_x.as_matrix()\n",
    "data_y = train_y.as_matrix()\n",
    "from sklearn.utils import shuffle\n",
    "data_x, data_y = shuffle(data_x, data_y)"
   ]
  },
  {
   "cell_type": "code",
   "execution_count": 8,
   "metadata": {
    "collapsed": true
   },
   "outputs": [],
   "source": [
    "from sklearn.model_selection import train_test_split\n",
    "train_x, dev_x, train_y, dev_y = train_test_split(data_x, data_y, test_size=0.1, random_state=0)"
   ]
  },
  {
   "cell_type": "code",
   "execution_count": 9,
   "metadata": {
    "collapsed": true
   },
   "outputs": [],
   "source": [
    "from sklearn.base import BaseEstimator, ClassifierMixin\n",
    "class kNNClassifier(BaseEstimator, ClassifierMixin):\n",
    "    def __init__(self, **kwargs):\n",
    "        self.model = NearestNeighbors(**kwargs)\n",
    "    def fit(self, X, y):\n",
    "#         self.mu, self.std, self.X = normalize(X)\n",
    "        self.X = X\n",
    "        self.y = y\n",
    "        self.model.fit(self.X)\n",
    "        \n",
    "    def predict(self, dev_x):\n",
    "        dist, indx = self.model.kneighbors(dev_x)\n",
    "        preds = []\n",
    "        for jj in range(len(indx)):\n",
    "            dis = {}\n",
    "            ctr=0\n",
    "            for i,e in enumerate(indx[jj]):\n",
    "                ctr += 1/dist[jj][i]**2\n",
    "                if self.y[e] not in dis:\n",
    "                    dis[self.y[e]] = 1/dist[jj][i]**2\n",
    "                else:\n",
    "                    dis[self.y[e]] += 1/dist[jj][i]**2\n",
    "            themax = -1\n",
    "            thekey = []\n",
    "            for k in dis.keys():\n",
    "                if dis[k] > themax:\n",
    "                    themax = dis[k]\n",
    "                    thekey = k\n",
    "            preds.append(thekey)\n",
    "        return preds\n",
    "    def score(self, X, y=None):\n",
    "        pred = self.predict(X)\n",
    "        if y is None:\n",
    "            return 0\n",
    "        return np.sum(pred == y) / len(y)"
   ]
  },
  {
   "cell_type": "code",
   "execution_count": 10,
   "metadata": {
    "collapsed": true
   },
   "outputs": [],
   "source": [
    "model = kNNClassifier(n_neighbors=20, algorithm='auto', n_jobs=4)"
   ]
  },
  {
   "cell_type": "code",
   "execution_count": 11,
   "metadata": {
    "collapsed": true
   },
   "outputs": [],
   "source": [
    "model.fit(train_x, train_y)"
   ]
  },
  {
   "cell_type": "code",
   "execution_count": 13,
   "metadata": {},
   "outputs": [
    {
     "name": "stderr",
     "output_type": "stream",
     "text": [
      "/Users/edisonhuang/anaconda3/lib/python3.6/site-packages/ipykernel_launcher.py:18: RuntimeWarning: divide by zero encountered in double_scalars\n",
      "/Users/edisonhuang/anaconda3/lib/python3.6/site-packages/ipykernel_launcher.py:20: RuntimeWarning: divide by zero encountered in double_scalars\n",
      "/Users/edisonhuang/anaconda3/lib/python3.6/site-packages/ipykernel_launcher.py:22: RuntimeWarning: divide by zero encountered in double_scalars\n"
     ]
    },
    {
     "data": {
      "text/plain": [
       "0.42654498700282306"
      ]
     },
     "execution_count": 13,
     "metadata": {},
     "output_type": "execute_result"
    }
   ],
   "source": [
    "model.score(dev_x,dev_y)"
   ]
  },
  {
   "cell_type": "code",
   "execution_count": null,
   "metadata": {
    "collapsed": true
   },
   "outputs": [],
   "source": []
  }
 ],
 "metadata": {
  "kernelspec": {
   "display_name": "Python 3",
   "language": "python",
   "name": "python3"
  },
  "language_info": {
   "codemirror_mode": {
    "name": "ipython",
    "version": 3
   },
   "file_extension": ".py",
   "mimetype": "text/x-python",
   "name": "python",
   "nbconvert_exporter": "python",
   "pygments_lexer": "ipython3",
   "version": "3.6.3"
  }
 },
 "nbformat": 4,
 "nbformat_minor": 2
}
