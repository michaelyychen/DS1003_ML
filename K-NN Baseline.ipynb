{
 "cells": [
  {
   "cell_type": "code",
   "execution_count": 2,
   "metadata": {
    "collapsed": true
   },
   "outputs": [],
   "source": [
    "import pandas as pd\n",
    "import numpy as np"
   ]
  },
  {
   "cell_type": "code",
   "execution_count": 3,
   "metadata": {
    "collapsed": true
   },
   "outputs": [],
   "source": [
    "base_dir = \"Data/MLB_2017/\"\n",
    "f = pd.read_csv(base_dir+\"MLB_PitchFX_2017_RegularSeason.csv\")"
   ]
  },
  {
   "cell_type": "code",
   "execution_count": 31,
   "metadata": {
    "collapsed": true
   },
   "outputs": [],
   "source": [
    "def distance(pitch_id, batter_id,balls,strikes, pitch_count, inning, c=10):\n",
    "    def id_dis(id1, id2):\n",
    "        return 0 if id1 == id2 else c\n",
    "    def dis(x):\n",
    "        sqdis = (x['balls']-balls)**2+\\\n",
    "        (x['strikes']-strikes)**2+\\\n",
    "        (x['pitch_count']-pitch_count)**2+\\\n",
    "        (x['inning']-inning)**2+\\\n",
    "        id_dis(pitch_id,x['pitcher'])+\\\n",
    "        id_dis(batter_id,x['batter'])\n",
    "        return sqdis\n",
    "    return dis\n",
    "def predict(all_data,pitch_id, batter_id,balls,strikes, pitch_count,inning,\n",
    "            num_of_neighbor=5, c=10):\n",
    "    f_l=distance(pitch_id,batter_id,balls,strikes,pitch_count,inning,c=c)\n",
    "    all_data[\"dis\"]=all_data.apply(f_l,axis=1)\n",
    "    sort_results=all_data.sort_values(by=[\"dis\"])\n",
    "    sbx=pd.value_counts(sort_results[0:num_of_neighbor][\"umpcall\"])\n",
    "    sbx=sbx.divide(num_of_neighbor)\n",
    "    print(sort_results[[\"dis\",\"umpcall\"]])\n",
    "    return {\"S\": 0 if \"S\" not in sbx else sbx[\"S\"],\n",
    "            \"B\": 0 if \"B\" not in sbx else sbx[\"B\"],\n",
    "            \"X\": 0 if \"X\" not in sbx else sbx[\"X\"]}"
   ]
  },
  {
   "cell_type": "code",
   "execution_count": 8,
   "metadata": {
    "collapsed": true
   },
   "outputs": [],
   "source": [
    "f_l=distance(\"greinza01\",\"beltbr01\",0,2,6,1,c=10)\n",
    "f[\"dis\"]=f.apply(f_l,axis=1)"
   ]
  },
  {
   "cell_type": "code",
   "execution_count": 27,
   "metadata": {},
   "outputs": [
    {
     "name": "stdout",
     "output_type": "stream",
     "text": [
      "          dis umpcall\n",
      "5           0       B\n",
      "4           2       S\n",
      "6           2       B\n",
      "3           8       S\n",
      "433194     10       S\n",
      "473508     10       B\n",
      "139730     10       B\n",
      "706130     10       S\n",
      "80538      11       B\n",
      "33954      11       B\n",
      "256100     11       B\n",
      "92889      11       S\n",
      "99155      11       S\n",
      "373623     11       B\n",
      "56533      11       B\n",
      "99156      11       B\n",
      "706131     11       B\n",
      "89635      11       B\n",
      "433195     11       S\n",
      "463513     11       B\n",
      "193500     11       B\n",
      "281697     11       B\n",
      "234013     11       S\n",
      "281696     11       B\n",
      "193499     11       S\n",
      "89634      11       S\n",
      "607884     11       S\n",
      "414608     11       S\n",
      "294797     11       S\n",
      "517653     11       B\n",
      "...       ...     ...\n",
      "251079  13734       S\n",
      "111828  13735       B\n",
      "122527  13735       S\n",
      "99671   13738       S\n",
      "138352  13743       S\n",
      "194812  13762       S\n",
      "436560  13762       S\n",
      "388081  13774       B\n",
      "278992  13775       B\n",
      "99672   13970       B\n",
      "111829  13973       B\n",
      "138353  13978       S\n",
      "436561  13994       S\n",
      "388082  14010       S\n",
      "278993  14013       S\n",
      "99673   14208       X\n",
      "138354  14215       S\n",
      "111830  14215       S\n",
      "436562  14230       B\n",
      "388083  14246       B\n",
      "278994  14249       B\n",
      "436563  14470       S\n",
      "388084  14488       X\n",
      "278995  14493       S\n",
      "436564  14711       X\n",
      "278996  14734       X\n",
      "436565  14957       S\n",
      "436566  15199       S\n",
      "436567  15445       B\n",
      "436568  15695       S\n",
      "\n",
      "[715537 rows x 2 columns]\n"
     ]
    }
   ],
   "source": [
    "print(f.sort_values(by=[\"dis\"])[[\"dis\",\"umpcall\"]])"
   ]
  },
  {
   "cell_type": "code",
   "execution_count": 32,
   "metadata": {},
   "outputs": [
    {
     "name": "stdout",
     "output_type": "stream",
     "text": [
      "          dis umpcall\n",
      "5           9       B\n",
      "6          11       B\n",
      "4          17       S\n",
      "139730     19       B\n",
      "473508     19       B\n",
      "433194     19       S\n",
      "706130     19       S\n",
      "607884     20       S\n",
      "234013     20       S\n",
      "99156      20       B\n",
      "433195     20       S\n",
      "234012     20       B\n",
      "281696     20       B\n",
      "92890      20       B\n",
      "353957     20       S\n",
      "706131     20       B\n",
      "33954      20       B\n",
      "213429     20       S\n",
      "294798     20       B\n",
      "89635      20       B\n",
      "414608     20       S\n",
      "281697     20       B\n",
      "193500     20       B\n",
      "139731     21       B\n",
      "79994      21       S\n",
      "536709     21       B\n",
      "607885     21       B\n",
      "473509     21       S\n",
      "310594     21       X\n",
      "334229     21       S\n",
      "...       ...     ...\n",
      "251079  13743       S\n",
      "122527  13744       S\n",
      "111828  13744       B\n",
      "138352  13752       S\n",
      "99671   13759       S\n",
      "194812  13771       S\n",
      "436560  13783       S\n",
      "388081  13789       B\n",
      "278992  13790       B\n",
      "111829  13982       B\n",
      "99672   13985       B\n",
      "138353  13987       S\n",
      "436561  14009       S\n",
      "388082  14025       S\n",
      "278993  14028       S\n",
      "99673   14223       X\n",
      "138354  14224       S\n",
      "111830  14224       S\n",
      "436562  14239       B\n",
      "388083  14255       B\n",
      "278994  14258       B\n",
      "436563  14479       S\n",
      "388084  14497       X\n",
      "278995  14502       S\n",
      "436564  14720       X\n",
      "278996  14743       X\n",
      "436565  14978       S\n",
      "436566  15214       S\n",
      "436567  15454       B\n",
      "436568  15704       S\n",
      "\n",
      "[715537 rows x 2 columns]\n",
      "{'S': 0.20000000000000001, 'B': 0.80000000000000004, 'X': 0}\n"
     ]
    }
   ],
   "source": [
    "print(predict(f,\"greinza01\",\"beltbr01\",0,5,6,1,num_of_neighbor=5, c=10))"
   ]
  },
  {
   "cell_type": "code",
   "execution_count": null,
   "metadata": {
    "collapsed": true
   },
   "outputs": [],
   "source": []
  }
 ],
 "metadata": {
  "kernelspec": {
   "display_name": "Python 3",
   "language": "python",
   "name": "python3"
  },
  "language_info": {
   "codemirror_mode": {
    "name": "ipython",
    "version": 3
   },
   "file_extension": ".py",
   "mimetype": "text/x-python",
   "name": "python",
   "nbconvert_exporter": "python",
   "pygments_lexer": "ipython3",
   "version": "3.6.3"
  }
 },
 "nbformat": 4,
 "nbformat_minor": 2
}
