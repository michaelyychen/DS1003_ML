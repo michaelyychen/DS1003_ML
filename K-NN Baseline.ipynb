{
 "cells": [
  {
   "cell_type": "code",
   "execution_count": 2,
   "metadata": {
    "collapsed": true
   },
   "outputs": [],
   "source": [
    "import pandas as pd\n",
    "import numpy as np"
   ]
  },
  {
   "cell_type": "code",
   "execution_count": 3,
   "metadata": {},
   "outputs": [],
   "source": [
    "base_dir = \"Data/MLB_2017/\"\n",
    "f = pd.read_csv(base_dir+\"MLB_PitchFX_2017_RegularSeason.csv\")"
   ]
  },
  {
   "cell_type": "code",
   "execution_count": 4,
   "metadata": {
    "collapsed": true
   },
   "outputs": [],
   "source": [
    "def distance(pitch_id, batter_id,balls,strikes, pitch_count, inning, c=10):\n",
    "    def id_dis(id1, id2):\n",
    "        return 0 if id1 == id2 else c\n",
    "    def dis(x):\n",
    "        sqdis = (x['balls']-balls)**2+\\\n",
    "        (x['strikes']-strikes)**2+\\\n",
    "        (x['pitch_count']-pitch_count)**2+\\\n",
    "        (x['inning']-inning)**2+\\\n",
    "        id_dis(pitch_id,x['pitcher'])+\\\n",
    "        id_dis(batter_id,x['batter'])\n",
    "        return sqdis\n",
    "    return dis"
   ]
  },
  {
   "cell_type": "code",
   "execution_count": 8,
   "metadata": {},
   "outputs": [],
   "source": [
    "f_l=distance(\"greinza01\",\"beltbr01\",0,2,6,1,c=10)\n",
    "f[\"dis\"]=f.apply(f_l,axis=1)"
   ]
  },
  {
   "cell_type": "code",
   "execution_count": 9,
   "metadata": {},
   "outputs": [
    {
     "name": "stdout",
     "output_type": "stream",
     "text": [
      "          dis umpcall\n",
      "5           0       B\n",
      "4           2       S\n",
      "6           2       B\n",
      "3           8       S\n",
      "433194     10       S\n",
      "473508     10       B\n",
      "139730     10       B\n",
      "706130     10       S\n",
      "80538      11       B\n",
      "33954      11       B\n",
      "256100     11       B\n",
      "92889      11       S\n",
      "99155      11       S\n",
      "373623     11       B\n",
      "56533      11       B\n",
      "99156      11       B\n",
      "706131     11       B\n",
      "89635      11       B\n",
      "433195     11       S\n",
      "463513     11       B\n",
      "193500     11       B\n",
      "281697     11       B\n",
      "234013     11       S\n",
      "281696     11       B\n",
      "193499     11       S\n",
      "89634      11       S\n",
      "607884     11       S\n",
      "414608     11       S\n",
      "294797     11       S\n",
      "517653     11       B\n",
      "...       ...     ...\n",
      "251079  13734       S\n",
      "111828  13735       B\n",
      "122527  13735       S\n",
      "99671   13738       S\n",
      "138352  13743       S\n",
      "194812  13762       S\n",
      "436560  13762       S\n",
      "388081  13774       B\n",
      "278992  13775       B\n",
      "99672   13970       B\n",
      "111829  13973       B\n",
      "138353  13978       S\n",
      "436561  13994       S\n",
      "388082  14010       S\n",
      "278993  14013       S\n",
      "99673   14208       X\n",
      "138354  14215       S\n",
      "111830  14215       S\n",
      "436562  14230       B\n",
      "388083  14246       B\n",
      "278994  14249       B\n",
      "436563  14470       S\n",
      "388084  14488       X\n",
      "278995  14493       S\n",
      "436564  14711       X\n",
      "278996  14734       X\n",
      "436565  14957       S\n",
      "436566  15199       S\n",
      "436567  15445       B\n",
      "436568  15695       S\n",
      "\n",
      "[715537 rows x 2 columns]\n"
     ]
    }
   ],
   "source": [
    "print(f.sort_values(by=[\"dis\"])[[\"dis\",\"umpcall\"]])"
   ]
  },
  {
   "cell_type": "code",
   "execution_count": null,
   "metadata": {
    "collapsed": true
   },
   "outputs": [],
   "source": []
  }
 ],
 "metadata": {
  "kernelspec": {
   "display_name": "Python 3",
   "language": "python",
   "name": "python3"
  },
  "language_info": {
   "codemirror_mode": {
    "name": "ipython",
    "version": 3
   },
   "file_extension": ".py",
   "mimetype": "text/x-python",
   "name": "python",
   "nbconvert_exporter": "python",
   "pygments_lexer": "ipython3",
   "version": "3.6.3"
  }
 },
 "nbformat": 4,
 "nbformat_minor": 2
}
