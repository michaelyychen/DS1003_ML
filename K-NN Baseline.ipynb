{
 "cells": [
  {
   "cell_type": "code",
   "execution_count": 49,
   "metadata": {
    "collapsed": true
   },
   "outputs": [],
   "source": [
    "import pandas as pd\n",
    "import numpy as np\n",
    "import math"
   ]
  },
  {
   "cell_type": "code",
   "execution_count": 3,
   "metadata": {
    "collapsed": true
   },
   "outputs": [],
   "source": [
    "base_dir = \"Data/MLB_2017/\"\n",
    "f = pd.read_csv(base_dir+\"MLB_PitchFX_2017_RegularSeason.csv\")"
   ]
  },
  {
   "cell_type": "code",
   "execution_count": 76,
   "metadata": {
    "collapsed": true
   },
   "outputs": [],
   "source": [
    "def distance(pitch_id, batter_id,balls,strikes, pitch_count, inning, c=10):\n",
    "    def id_dis(id1, id2):\n",
    "        return 0 if id1 == id2 else c\n",
    "    def dis(x):\n",
    "        sqdis = (x['balls']-balls)**2+\\\n",
    "        (x['strikes']-strikes)**2+\\\n",
    "        (x['pitch_count']-pitch_count)**2+\\\n",
    "        (x['inning']-inning)**2+\\\n",
    "        id_dis(pitch_id,x['pitcher'])+\\\n",
    "        id_dis(batter_id,x['batter'])\n",
    "        return sqdis\n",
    "    return dis\n",
    "def predict(all_data,pitch_id, batter_id,balls,strikes, pitch_count,inning,\n",
    "            num_of_neighbor=5, c=10):\n",
    "    f_l=distance(pitch_id,batter_id,balls,strikes,pitch_count,inning,c=c)\n",
    "    all_data[\"dis\"]=all_data.apply(f_l,axis=1)\n",
    "    sort_results=all_data.sort_values(by=[\"dis\"])\n",
    "    select_umpcall = sort_results[0:num_of_neighbor][\"umpcall\"]\n",
    "    \n",
    "    #count weighted states\n",
    "    X = 0\n",
    "    S = 0\n",
    "    B = 0\n",
    "    i = 0\n",
    "    for state in select_umpcall:\n",
    "        tmp = math.exp(-i/num_of_neighbor*3)\n",
    "        if state == \"X\":\n",
    "            X+=tmp\n",
    "        elif state == \"S\":\n",
    "            S+=tmp\n",
    "        else:\n",
    "            B+=tmp\n",
    "        i+=1\n",
    "    XBS = X+S+B\n",
    "    print(sort_results[[\"dis\",\"umpcall\"]])\n",
    "    return {\"S\": S/XBS,\n",
    "            \"B\": B/XBS,\n",
    "            \"X\": X/XBS}"
   ]
  },
  {
   "cell_type": "code",
   "execution_count": 55,
   "metadata": {
    "collapsed": true
   },
   "outputs": [],
   "source": [
    "f_l=distance(\"greinza01\",\"spande01\",1,1,3,1,c=10)\n",
    "f[\"dis\"]=f.apply(f_l,axis=1)"
   ]
  },
  {
   "cell_type": "code",
   "execution_count": 74,
   "metadata": {},
   "outputs": [
    {
     "name": "stdout",
     "output_type": "stream",
     "text": [
      "        dis umpcall\n",
      "512       0       X\n",
      "511       2       B\n",
      "510       5       S\n",
      "509      11       S\n",
      "181565   11       S\n",
      "500322   11       X\n",
      "124121   11       S\n",
      "311062   11       B\n",
      "135924   11       S\n",
      "135923   11       S\n"
     ]
    }
   ],
   "source": [
    "select_umpcall = f.sort_values(by=[\"dis\"])[0:10][\"umpcall\"]\n",
    "print(f.sort_values(by=[\"dis\"])[0:10][[\"dis\",\"umpcall\"]])"
   ]
  },
  {
   "cell_type": "code",
   "execution_count": 78,
   "metadata": {},
   "outputs": [
    {
     "name": "stdout",
     "output_type": "stream",
     "text": [
      "          dis umpcall\n",
      "632583     10       B\n",
      "512        10       X\n",
      "159171     11       S\n",
      "356268     11       S\n",
      "148957     11       S\n",
      "148958     11       S\n",
      "159172     11       S\n",
      "152286     11       S\n",
      "356269     11       B\n",
      "124121     11       S\n",
      "632582     12       B\n",
      "632584     12       B\n",
      "511        12       B\n",
      "462925     12       X\n",
      "318223     12       S\n",
      "695136     12       S\n",
      "174540     12       X\n",
      "124122     12       B\n",
      "124120     12       S\n",
      "503341     13       X\n",
      "148956     13       B\n",
      "221048     13       B\n",
      "695135     13       S\n",
      "152285     13       S\n",
      "236379     13       S\n",
      "159252     14       X\n",
      "318222     14       S\n",
      "327036     14       X\n",
      "291370     14       S\n",
      "266045     14       S\n",
      "...       ...     ...\n",
      "111828  11470       B\n",
      "122527  11470       S\n",
      "194812  11471       S\n",
      "138352  11474       S\n",
      "278992  11474       B\n",
      "388081  11475       B\n",
      "99671   11475       S\n",
      "436560  11475       S\n",
      "251079  11477       S\n",
      "111829  11686       B\n",
      "99672   11687       B\n",
      "436561  11687       S\n",
      "138353  11689       S\n",
      "388082  11689       S\n",
      "278993  11690       S\n",
      "99673   11903       X\n",
      "436562  11903       B\n",
      "388083  11905       B\n",
      "111830  11906       S\n",
      "138354  11906       S\n",
      "278994  11906       B\n",
      "436563  12121       S\n",
      "388084  12125       X\n",
      "278995  12128       S\n",
      "436564  12342       X\n",
      "278996  12349       X\n",
      "436565  12570       S\n",
      "436566  12792       S\n",
      "436567  13018       B\n",
      "436568  13246       S\n",
      "\n",
      "[715537 rows x 2 columns]\n",
      "{'S': 0.39421246000691407, 'B': 0.3668240358192533, 'X': 0.23896350417383255}\n"
     ]
    }
   ],
   "source": [
    "print(predict(f,\"holdejo02\",\"sanchga02\",1,2,16,7,num_of_neighbor=7, c=10))"
   ]
  },
  {
   "cell_type": "code",
   "execution_count": null,
   "metadata": {
    "collapsed": true
   },
   "outputs": [],
   "source": []
  }
 ],
 "metadata": {
  "kernelspec": {
   "display_name": "Python 3",
   "language": "python",
   "name": "python3"
  },
  "language_info": {
   "codemirror_mode": {
    "name": "ipython",
    "version": 3
   },
   "file_extension": ".py",
   "mimetype": "text/x-python",
   "name": "python",
   "nbconvert_exporter": "python",
   "pygments_lexer": "ipython3",
   "version": "3.6.3"
  }
 },
 "nbformat": 4,
 "nbformat_minor": 2
}
