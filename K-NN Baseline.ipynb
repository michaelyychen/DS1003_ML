{
 "cells": [
  {
   "cell_type": "code",
   "execution_count": 1,
   "metadata": {
    "collapsed": true
   },
   "outputs": [],
   "source": [
    "import pandas as pd\n",
    "import numpy as np\n",
    "import math"
   ]
  },
  {
   "cell_type": "code",
   "execution_count": 2,
   "metadata": {
    "collapsed": true
   },
   "outputs": [],
   "source": [
    "base_dir = \"Data/MLB_2017/\"\n",
    "f = pd.read_csv(base_dir+\"MLB_PitchFX_2017_RegularSeason.csv\")"
   ]
  },
  {
   "cell_type": "code",
   "execution_count": 3,
   "metadata": {
    "collapsed": true
   },
   "outputs": [],
   "source": [
    "def distance(pitch_id, batter_id,balls,strikes, pitch_count, inning, c=10):\n",
    "    def id_dis(id1, id2):\n",
    "        return 0 if id1 == id2 else c\n",
    "    def dis(x):\n",
    "        sqdis = (x['balls']-balls)**2+\\\n",
    "        (x['strikes']-strikes)**2+\\\n",
    "        (x['pitch_count']-pitch_count)**2+\\\n",
    "        (x['inning']-inning)**2+\\\n",
    "        id_dis(pitch_id,x['pitcher'])+\\\n",
    "        id_dis(batter_id,x['batter'])\n",
    "        return sqdis\n",
    "    return dis\n",
    "def predict(all_data,pitch_id, batter_id,balls,strikes, pitch_count,inning,\n",
    "            num_of_neighbor=5, c=10):\n",
    "    f_l=distance(pitch_id,batter_id,balls,strikes,pitch_count,inning,c=c)\n",
    "    all_data[\"dis\"]=all_data.apply(f_l,axis=1)\n",
    "    sort_results=all_data.sort_values(by=[\"dis\"])\n",
    "    select_umpcall = sort_results[0:num_of_neighbor][\"umpcall\"]\n",
    "    \n",
    "    #count weighted states\n",
    "    X = 0\n",
    "    S = 0\n",
    "    B = 0\n",
    "    i = 0\n",
    "    for state in select_umpcall:\n",
    "        tmp = math.exp(-i/num_of_neighbor*3)\n",
    "        if state == \"X\":\n",
    "            X+=tmp\n",
    "        elif state == \"S\":\n",
    "            S+=tmp\n",
    "        else:\n",
    "            B+=tmp\n",
    "        i+=1\n",
    "    XBS = X+S+B\n",
    "    print(sort_results[[\"dis\",\"umpcall\"]])\n",
    "    return {\"S\": S/XBS,\n",
    "            \"B\": B/XBS,\n",
    "            \"X\": X/XBS}"
   ]
  },
  {
   "cell_type": "code",
   "execution_count": null,
   "metadata": {
    "collapsed": true
   },
   "outputs": [],
   "source": [
    "f_l=distance(\"greinza01\",\"spande01\",1,1,3,1,c=10)\n",
    "f[\"dis\"]=f.apply(f_l,axis=1)"
   ]
  },
  {
   "cell_type": "code",
   "execution_count": null,
   "metadata": {
    "collapsed": true
   },
   "outputs": [],
   "source": [
    "select_umpcall = f.sort_values(by=[\"dis\"])[0:10][\"umpcall\"]\n",
    "print(f.sort_values(by=[\"dis\"])[0:10][[\"dis\",\"umpcall\"]])"
   ]
  },
  {
   "cell_type": "code",
   "execution_count": null,
   "metadata": {
    "collapsed": true
   },
   "outputs": [],
   "source": [
    "print(predict(f,\"holdejo02\",\"sanchga02\",1,2,16,7,num_of_neighbor=7, c=10))"
   ]
  },
  {
   "cell_type": "markdown",
   "metadata": {
    "collapsed": true
   },
   "source": [
    "# Use Sklearn to improve Performance"
   ]
  },
  {
   "cell_type": "code",
   "execution_count": 4,
   "metadata": {
    "collapsed": true
   },
   "outputs": [],
   "source": [
    "from sklearn.neighbors import NearestNeighbors\n",
    "f.columns.values\n",
    "label2one = {'B':[1,0,0],'S':[0,1,0],'X':[0,0,1]}\n",
    "one2label = {0:'B', 1:'S', 2:'X'}"
   ]
  },
  {
   "cell_type": "code",
   "execution_count": 5,
   "metadata": {
    "collapsed": true
   },
   "outputs": [],
   "source": [
    "def normalize(data):\n",
    "    mu = np.mean(data, axis=0)\n",
    "    std = np.std(data, axis=0)\n",
    "    return mu, std, (data-mu)/std\n",
    "import random\n",
    "def dis(x,y):\n",
    "    return random.randrange(1,20)"
   ]
  },
  {
   "cell_type": "code",
   "execution_count": 7,
   "metadata": {},
   "outputs": [],
   "source": [
    "# one-hot encoder\n",
    "from sklearn import preprocessing\n",
    "pitcher_batter = f[[\"pitcher\",\"batter\"]].fillna(\"-\").as_matrix()\n",
    "pitcher_label_enc = preprocessing.LabelEncoder()\n",
    "batter_label_enc = preprocessing.LabelEncoder()\n",
    "result = np.array([pitcher_label_enc.fit_transform(pitcher_batter[:,0]),\n",
    "                batter_label_enc.fit_transform(pitcher_batter[:,1])])\n",
    "enc = preprocessing.OneHotEncoder(sparse = False)\n",
    "after_encoded = enc.fit_transform(result.transpose())\n",
    "train_X = np.append(after_encoded,f[[\"balls\",\"strikes\",\"pitch_count\",\"inning\"]],axis=1)\n",
    "train_y = f['umpcall']\n",
    "from sklearn.utils import shuffle\n",
    "data_x, data_y = shuffle(train_X, train_y.as_matrix())"
   ]
  },
  {
   "cell_type": "code",
   "execution_count": null,
   "metadata": {
    "collapsed": true
   },
   "outputs": [],
   "source": [
    "train_x = f[['x0','x','y','ax','ay','az','px','pz','sz_top','sz_bot',\n",
    "             'vx0','vy0','vz0','pfx_x','z0','start_speed','end_speed',\n",
    "             'break_y','break_angle','break_length','spin_dir','spin_rate']]\n",
    "train_y = f['umpcall']\n",
    "\n",
    "data_x = train_x.as_matrix()\n",
    "data_y = train_y.as_matrix()\n",
    "from sklearn.utils import shuffle\n",
    "data_x, data_y = shuffle(data_x, data_y)"
   ]
  },
  {
   "cell_type": "code",
   "execution_count": 8,
   "metadata": {
    "collapsed": true
   },
   "outputs": [],
   "source": [
    "from sklearn.model_selection import train_test_split\n",
    "train_x, dev_x, train_y, dev_y = train_test_split(data_x, data_y, test_size=0.1, random_state=0)"
   ]
  },
  {
   "cell_type": "code",
   "execution_count": 9,
   "metadata": {
    "collapsed": true
   },
   "outputs": [],
   "source": [
    "from sklearn.base import BaseEstimator, ClassifierMixin\n",
    "class kNNClassifier(BaseEstimator, ClassifierMixin):\n",
    "    def __init__(self, **kwargs):\n",
    "        self.model = NearestNeighbors(**kwargs)\n",
    "    def fit(self, X, y):\n",
    "#         self.mu, self.std, self.X = normalize(X)\n",
    "        self.X = X\n",
    "        self.y = y\n",
    "        self.model.fit(self.X)\n",
    "        \n",
    "    def predict(self, dev_x):\n",
    "        dist, indx = self.model.kneighbors(dev_x)\n",
    "        preds = []\n",
    "        for jj in range(len(indx)):\n",
    "            dis = {}\n",
    "            ctr=0\n",
    "            for i,e in enumerate(indx[jj]):\n",
    "                ctr += 1/dist[jj][i]**2\n",
    "                if self.y[e] not in dis:\n",
    "                    dis[self.y[e]] = 1/dist[jj][i]**2\n",
    "                else:\n",
    "                    dis[self.y[e]] += 1/dist[jj][i]**2\n",
    "            themax = -1\n",
    "            thekey = []\n",
    "            for k in dis.keys():\n",
    "                if dis[k] > themax:\n",
    "                    themax = dis[k]\n",
    "                    thekey = k\n",
    "            preds.append(thekey)\n",
    "        return preds\n",
    "    def score(self, X, y=None):\n",
    "        pred = self.predict(X)\n",
    "        if y is None:\n",
    "            return 0\n",
    "        return np.sum(pred == y) / len(y)"
   ]
  },
  {
   "cell_type": "code",
   "execution_count": 10,
   "metadata": {
    "collapsed": true
   },
   "outputs": [],
   "source": [
    "model = kNNClassifier(n_neighbors=20, algorithm='auto', n_jobs=4)"
   ]
  },
  {
   "cell_type": "code",
   "execution_count": 11,
   "metadata": {
    "collapsed": true
   },
   "outputs": [],
   "source": [
    "model.fit(train_x, train_y)"
   ]
  },
  {
   "cell_type": "code",
   "execution_count": 13,
   "metadata": {},
   "outputs": [
    {
     "name": "stderr",
     "output_type": "stream",
     "text": [
      "/Users/edisonhuang/anaconda3/lib/python3.6/site-packages/ipykernel_launcher.py:18: RuntimeWarning: divide by zero encountered in double_scalars\n",
      "/Users/edisonhuang/anaconda3/lib/python3.6/site-packages/ipykernel_launcher.py:20: RuntimeWarning: divide by zero encountered in double_scalars\n",
      "/Users/edisonhuang/anaconda3/lib/python3.6/site-packages/ipykernel_launcher.py:22: RuntimeWarning: divide by zero encountered in double_scalars\n"
     ]
    },
    {
     "data": {
      "text/plain": [
       "0.42654498700282306"
      ]
     },
     "execution_count": 13,
     "metadata": {},
     "output_type": "execute_result"
    }
   ],
   "source": [
    "model.score(dev_x,dev_y)"
   ]
  },
  {
   "cell_type": "code",
   "execution_count": null,
   "metadata": {
    "collapsed": true
   },
   "outputs": [],
   "source": []
  }
 ],
 "metadata": {
  "kernelspec": {
   "display_name": "Python 3",
   "language": "python",
   "name": "python3"
  },
  "language_info": {
   "codemirror_mode": {
    "name": "ipython",
    "version": 3
   },
   "file_extension": ".py",
   "mimetype": "text/x-python",
   "name": "python",
   "nbconvert_exporter": "python",
   "pygments_lexer": "ipython3",
   "version": "3.6.3"
  }
 },
 "nbformat": 4,
 "nbformat_minor": 2
}
