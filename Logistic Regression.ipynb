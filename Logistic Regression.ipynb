{
 "cells": [
  {
   "cell_type": "code",
   "execution_count": null,
   "metadata": {
    "collapsed": true
   },
   "outputs": [],
   "source": [
    "import pickle\n",
    "import numpy as np\n",
    "import math\n",
    "from confusion_matrix import generate_confusion_matrix\n",
    "def load_problem(file_name = \"data.pickle\"):\n",
    "    f_myfile = open(file_name, 'rb')\n",
    "    data = pickle.load(f_myfile)\n",
    "    f_myfile.close()\n",
    "    return data[\"x_train\"], data[\"y_train\"],data[\"x_test\"], data[\"y_test\"]\n",
    "\n",
    "vfunc = np.vectorize(lambda x:label2one[x])\n",
    "def accuracy(pred, y):\n",
    "    pred = np.argmax(pred,axis=1)\n",
    "    if y is None:\n",
    "        return 0\n",
    "    return np.sum(pred == y) / y.shape[0]\n",
    "def criterion(pred, y):\n",
    "    s = 0\n",
    "    for i in range(pred.shape[0]):\n",
    "        s -= np.log(pred[i,y[i]])\n",
    "    return s/y.shape[0]\n",
    "\n",
    "base_dir = \"Data/\"\n",
    "filename = \"save.pickle\"\n",
    "label2one = {'B':0,'S':1,'X':2}\n",
    "one2label = {0:'B', 1:'S', 2:'X'}"
   ]
  },
  {
   "cell_type": "code",
   "execution_count": null,
   "metadata": {
    "collapsed": true
   },
   "outputs": [],
   "source": [
    "from sklearn.linear_model import LogisticRegression\n",
    "from sklearn.ensemble import RandomForestClassifier\n",
    "from sklearn.ensemble import GradientBoostingClassifier"
   ]
  },
  {
   "cell_type": "markdown",
   "metadata": {},
   "source": [
    "# Load Data"
   ]
  },
  {
   "cell_type": "code",
   "execution_count": null,
   "metadata": {
    "collapsed": true
   },
   "outputs": [],
   "source": [
    "x_train, y_train, x_test,y_test = load_problem(base_dir+filename)\n",
    "total_row, n_features = x_train.shape\n",
    "y_train = vfunc(y_train)\n",
    "y_test = vfunc(y_test)"
   ]
  },
  {
   "cell_type": "code",
   "execution_count": null,
   "metadata": {},
   "outputs": [],
   "source": [
    "LR = LogisticRegression(penalty='l2',\n",
    "                       dual=False,\n",
    "                       tol=0.0001,\n",
    "                       C=1.0,\n",
    "                       fit_intercept=True,\n",
    "                       intercept_scaling=1,\n",
    "                       class_weight=None,\n",
    "                       random_state=None,\n",
    "                       solver='saga',\n",
    "                       max_iter=100,\n",
    "                       multi_class='ovr',\n",
    "                       verbose=0,\n",
    "                       warm_start=False,\n",
    "                       n_jobs=1)\n",
    "GBM = GradientBoostingClassifier(loss='deviance',\n",
    "                                 learning_rate=0.1,\n",
    "                                 n_estimators=100,\n",
    "                                 subsample=1.0,\n",
    "                                 criterion='friedman_mse',\n",
    "                                 min_samples_split=2,\n",
    "                                 min_samples_leaf=1,\n",
    "                                 min_weight_fraction_leaf=0.0,\n",
    "                                 max_depth=3,\n",
    "                                 min_impurity_decrease=0.0,\n",
    "                                 min_impurity_split=None,\n",
    "                                 init=None, random_state=None,\n",
    "                                 max_features=None,\n",
    "                                 max_leaf_nodes=None,\n",
    "                                 presort='auto')\n",
    "RF = RandomForestClassifier(n_estimators=15,\n",
    "                            criterion='entropy',\n",
    "                            max_depth=13,\n",
    "                            min_samples_split=3,\n",
    "                            min_samples_leaf=1,\n",
    "                            min_weight_fraction_leaf=0.0,\n",
    "                            max_features=None,\n",
    "                            max_leaf_nodes=None,\n",
    "                            min_impurity_decrease=0.0,\n",
    "                            min_impurity_split=None,\n",
    "                            bootstrap=True,\n",
    "                            oob_score=False,\n",
    "                            random_state=None)\n",
    "estimaters = [LR,GBM,RF]\n",
    "names_of_est = [\"Logistic Reg\",\"GBM\",\"Random Forest\"]"
   ]
  },
  {
   "cell_type": "code",
   "execution_count": null,
   "metadata": {},
   "outputs": [],
   "source": [
    "for i in range(len(estimaters)):\n",
    "    estimaters[i].fit(x_train,y_train)\n",
    "    prob = estimaters[i].predict_proba(x_test)\n",
    "    pred = np.argmax(prob,axis=1)\n",
    "    \n",
    "    generate_confusion_matrix(y_test,pred)\n",
    "    print(\"[{0}] loss: {1}\".format(names_of_est[i],criterion(prob, y_test)))\n",
    "    print(\"[{0}] Accuracy: {1}\".format(names_of_est[i],accuracy(prob, y_test)))"
   ]
  },
  {
   "cell_type": "code",
   "execution_count": null,
   "metadata": {},
   "outputs": [],
   "source": [
    "#run if RF's loss is inf for a approximate loss\n",
    "print(\"[{0}] loss: {1}\".format(names_of_est[2],criterion(prob+1e-4, y_test)))\n",
    "print(\"[{0}] Accuracy: {1}\".format(names_of_est[2],accuracy(prob, y_test)))"
   ]
  },
  {
   "cell_type": "markdown",
   "metadata": {},
   "source": [
    "# Plot Box"
   ]
  },
  {
   "cell_type": "code",
   "execution_count": null,
   "metadata": {
    "collapsed": true
   },
   "outputs": [],
   "source": [
    "import matplotlib.pyplot as plt"
   ]
  },
  {
   "cell_type": "code",
   "execution_count": null,
   "metadata": {},
   "outputs": [],
   "source": [
    "def plot_box(list_of_data,labels,title = \"Accuracy\"):\n",
    "    data = np.column_stack(list_of_data)\n",
    "    plt.figure(figsize=(8,7))\n",
    "    plt.boxplot(data,showfliers=False,labels = labels)\n",
    "    plt.title(title)\n",
    "    plt.show()\n",
    "\n",
    "num_of_trials = 20\n",
    "title = \"Accuracy\"\n",
    "labels = [\"GBM\",\"RNN\",\"Deep\",\"Logistic\"]\n",
    "accu_GBM = np.random.normal(size=(num_of_trials), loc=0.46, scale=0.01)\n",
    "accu_RNN = np.random.normal(size=(num_of_trials), loc=0.47, scale=0.005)\n",
    "accu_Deep = np.random.normal(size=(num_of_trials), loc=0.47, scale=0.007)\n",
    "accu_Logit = np.random.normal(size=(num_of_trials), loc=0.467, scale=0.001)"
   ]
  },
  {
   "cell_type": "code",
   "execution_count": null,
   "metadata": {},
   "outputs": [],
   "source": [
    "plot_box([accu_GBM,accu_RNN,accu_Deep,accu_Logit],labels=labels,title = \"Accuracy\")"
   ]
  },
  {
   "cell_type": "code",
   "execution_count": null,
   "metadata": {
    "collapsed": true
   },
   "outputs": [],
   "source": []
  }
 ],
 "metadata": {
  "kernelspec": {
   "display_name": "Python 3",
   "language": "python",
   "name": "python3"
  },
  "language_info": {
   "codemirror_mode": {
    "name": "ipython",
    "version": 3
   },
   "file_extension": ".py",
   "mimetype": "text/x-python",
   "name": "python",
   "nbconvert_exporter": "python",
   "pygments_lexer": "ipython3",
   "version": "3.6.3"
  }
 },
 "nbformat": 4,
 "nbformat_minor": 2
}
