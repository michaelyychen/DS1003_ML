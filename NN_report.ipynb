{
 "cells": [
  {
   "cell_type": "code",
   "execution_count": 1,
   "metadata": {
    "collapsed": true
   },
   "outputs": [],
   "source": [
    "import pickle\n",
    "import numpy as np\n",
    "import math\n",
    "import torch\n",
    "from torch.autograd import Variable\n",
    "from torch import nn\n",
    "from torch.nn import functional as F\n",
    "def load_problem(file_name = \"data.pickle\"):\n",
    "    f_myfile = open(file_name, 'rb')\n",
    "    data = pickle.load(f_myfile)\n",
    "    f_myfile.close()\n",
    "    return data[\"x_train\"], data[\"y_train\"],data[\"x_test\"], data[\"y_test\"]\n",
    "base_dir = \"Data/\"\n",
    "filename = \"save.pickle\"\n",
    "x_train, y_train, x_test,y_test = load_problem(base_dir+filename)\n",
    "total_row, n_features = x_train.shape\n",
    "\n",
    "label2one = {'B':0,'S':1,'X':2}\n",
    "one2label = {0:'B', 1:'S', 2:'X'}\n",
    "vfunc = np.vectorize(lambda x:label2one[x])\n",
    "\n",
    "# y_train = vfunc(y_train)\n",
    "y_test = vfunc(y_test)"
   ]
  },
  {
   "cell_type": "code",
   "execution_count": 2,
   "metadata": {
    "collapsed": true
   },
   "outputs": [],
   "source": [
    "def data_gen(dx, dy, batch_size=100):\n",
    "    idx = 0\n",
    "    while True:\n",
    "        if idx*batch_size >= dx.shape[0]:\n",
    "            return\n",
    "        elif (idx+1)*batch_size > dx.shape[0]:\n",
    "            yield dx[idx*batch_size:,:], dy[idx*batch_size:]\n",
    "        else:\n",
    "            yield dx[idx*batch_size:(idx+1)*batch_size,:], dy[idx*batch_size:(idx+1)*batch_size]\n",
    "        idx += 1\n",
    "def accuracy(pred, y):\n",
    "    pred = np.argmax(pred,axis=1)\n",
    "    if y is None:\n",
    "        return 0\n",
    "    return np.sum(pred == y) / y.shape[0]\n",
    "def criterion(pred, y):\n",
    "    s = 0\n",
    "    for i in range(pred.shape[0]):\n",
    "        s -= np.log(pred[i,y[i]])\n",
    "    return s/y.shape[0]"
   ]
  },
  {
   "cell_type": "code",
   "execution_count": 3,
   "metadata": {
    "collapsed": true
   },
   "outputs": [],
   "source": [
    "vdx = Variable(torch.from_numpy(x_test.A.astype(np.float32)))\n",
    "vdy = Variable(torch.from_numpy(y_test)).long()"
   ]
  },
  {
   "cell_type": "code",
   "execution_count": null,
   "metadata": {
    "collapsed": true
   },
   "outputs": [],
   "source": [
    "class ResNet(nn.Module):\n",
    "    def __init__(self, in_dim):\n",
    "        super(ResNet, self).__init__()\n",
    "\n",
    "        self.lin1 = nn.Linear(in_dim, in_dim)\n",
    "        self.lin2 = nn.Linear(in_dim, in_dim)\n",
    "    def forward(self, x):\n",
    "        output = F.relu(self.lin1(x))\n",
    "        return self.lin2(output) + x\n",
    "\n",
    "class Fcc(nn.Module):\n",
    "    def __init__(self, D_in):\n",
    "        super(Fcc, self).__init__()\n",
    "        p = 0.3\n",
    "        res_dim=1024\n",
    "\n",
    "        self.lin1 = nn.Linear(D_in, 2048)\n",
    "        # self.drop2 = nn.Dropout(0.5)\n",
    "        # self.lin9 = nn.Linear(2048,2048)\n",
    "        # self.drop8 = nn.Dropout(0.3)\n",
    "        self.res2 = ResNet(2048)\n",
    "        self.drop3 = nn.Dropout(0.4)\n",
    "        self.res3 = ResNet(2048)\n",
    "        self.drop4 = nn.Dropout(0.25)\n",
    "\n",
    "        self.lin3 = nn.Linear(2048, 1024)\n",
    "\n",
    "        self.res4 = ResNet(1024)\n",
    "        self.drop5 = nn.Dropout(0.15)\n",
    "        self.res5 = ResNet(1024)\n",
    "        self.drop6 = nn.Dropout(0.15)\n",
    "        self.lin6 = nn.Linear(1024, 512)\n",
    "        # self.res6 = ResNet(1024)\n",
    "        self.drop7 = nn.Dropout(0.15)\n",
    "        self.res7 = ResNet(512)\n",
    "        self.lin7 = nn.Linear(512,256)\n",
    "        # self.res8 = ResNet(256)\n",
    "        self.lin8 = nn.Linear(256,3)\n",
    "    \n",
    "    def forward(self, x):\n",
    "\n",
    "        #output = self.drop1(output)\n",
    "        output = self.lin1(x)\n",
    "        output = F.relu(output)\n",
    "        \n",
    "        # output = self.drop2(output)\n",
    "        \n",
    "        # output = F.relu(self.lin9(output))\n",
    "        # output = self.drop8(output)\n",
    "        \n",
    "        output = self.res2(output)\n",
    "        output = F.relu(output)\n",
    "        \n",
    "        output = self.drop3(output)\n",
    "        output = self.res3(output)\n",
    "        output = F.relu(output)\n",
    "        \n",
    "        output = self.drop4(output)\n",
    "        output = F.relu(self.lin3(output))\n",
    "\n",
    "        output = self.res4(output)\n",
    "        output = F.relu(output)\n",
    "\n",
    "        output = self.drop5(output)\n",
    "        output = self.res5(output)\n",
    "        output = F.relu(output)\n",
    "\n",
    "        output = self.drop6(output)\n",
    "        output = self.lin6(output)\n",
    "        output = F.relu(output)\n",
    "\n",
    "        # output = self.res6(output)\n",
    "        # output = F.relu(output)\n",
    "        output = self.drop7(output)\n",
    "        output = self.res7(output)\n",
    "        output = F.relu(output)\n",
    "\n",
    "        output = self.lin7(output)\n",
    "        output = F.relu(output)\n",
    "\n",
    "        # output = self.res8(output)\n",
    "        # output = F.relu(output)\n",
    "\n",
    "        output = self.lin8(output)\n",
    "        output = F.log_softmax(output, dim=1)\n",
    "\n",
    "        return output"
   ]
  },
  {
   "cell_type": "code",
   "execution_count": 5,
   "metadata": {},
   "outputs": [],
   "source": [
    "model_name = \"14-16_17/model_107.out\"\n",
    "# model = Fcc(n_features)\n",
    "load_data = torch.load(model_name, map_location=lambda storage, loc: storage)\n",
    "\n",
    "prob = load_data[\"prob\"]\n",
    "pred = load_data[\"pred\"]\n",
    "\n",
    "# model.load_state_dict(load_data[\"\"]) "
   ]
  },
  {
   "cell_type": "code",
   "execution_count": null,
   "metadata": {
    "collapsed": true
   },
   "outputs": [],
   "source": [
    "model.eval()\n",
    "bt_size = 4096\n",
    "# final_prediction = []\n",
    "prob = []\n",
    "for dx,dy in data_gen(vdx, vdy, batch_size=bt_size):\n",
    "    dy_pred = model(dx)\n",
    "    pred = dy_pred.exp().cpu().data.numpy()\n",
    "    prob.append(pred)\n",
    "# final_prediction = np.concatenate(final_prediction)\n",
    "prob = np.concatenate(prob,axis = 0)\n",
    "pred = np.argmax(prob,axis=1)"
   ]
  },
  {
   "cell_type": "markdown",
   "metadata": {},
   "source": [
    "## Features\n",
    "### features_for_LE_and_OH \n",
    "    [\"side\",\"p_throws\",\"b_bats\",\"pitch_type\"]\n",
    "### extra_features_for_OH \n",
    "    [\"inning\",\"ball_strike\"]\n",
    "### Rest \n",
    "    [\"pitch_count\",\"p_hit_ratio\",\"b_hit_ratio\"]\n",
    "\n",
    "### For test data\n",
    "    pitch_type is assigned according to the pitch_type distribution regarding the pitcher\n",
    "\n",
    "Fcc(\n",
    "  (lin1): Linear(in_features=53, out_features=2048)\n",
    "  (res2): ResNet(\n",
    "    (lin1): Linear(in_features=2048, out_features=2048)\n",
    "    (lin2): Linear(in_features=2048, out_features=2048)\n",
    "  )\n",
    "  (drop3): Dropout(p=0.4)\n",
    "  (res3): ResNet(\n",
    "    (lin1): Linear(in_features=2048, out_features=2048)\n",
    "    (lin2): Linear(in_features=2048, out_features=2048)\n",
    "  )\n",
    "  (drop4): Dropout(p=0.4)\n",
    "  (lin3): Linear(in_features=2048, out_features=1024)\n",
    "  (res4): ResNet(\n",
    "    (lin1): Linear(in_features=1024, out_features=1024)\n",
    "    (lin2): Linear(in_features=1024, out_features=1024)\n",
    "  )\n",
    "  (drop5): Dropout(p=0.2)\n",
    "  (res5): ResNet(\n",
    "    (lin1): Linear(in_features=1024, out_features=1024)\n",
    "    (lin2): Linear(in_features=1024, out_features=1024)\n",
    "  )\n",
    "  (drop6): Dropout(p=0.2)\n",
    "  (lin6): Linear(in_features=1024, out_features=512)\n",
    "  (drop7): Dropout(p=0.2)\n",
    "  (res7): ResNet(\n",
    "    (lin1): Linear(in_features=512, out_features=512)\n",
    "    (lin2): Linear(in_features=512, out_features=512)\n",
    "  )\n",
    "  (lin7): Linear(in_features=512, out_features=256)\n",
    "  (lin8): Linear(in_features=256, out_features=3)\n",
    ")\n"
   ]
  },
  {
   "cell_type": "code",
   "execution_count": 6,
   "metadata": {},
   "outputs": [
    {
     "data": {
      "image/png": "[encoded data removed]",
      "text/plain": [
       "<matplotlib.figure.Figure at 0x10c0ef2b0>"
      ]
     },
     "metadata": {},
     "output_type": "display_data"
    },
    {
     "name": "stdout",
     "output_type": "stream",
     "text": [
      "loss:  1.0174077291833825\n",
      "Accuracy:  0.4649037567514286\n"
     ]
    }
   ],
   "source": [
    "from sklearn.metrics import confusion_matrix\n",
    "from confusion_matrix import generate_confusion_matrix\n",
    "generate_confusion_matrix(y_test,pred)\n",
    "# print(confusion_matrix(y_test, pred))\n",
    "print(\"loss: \",criterion(prob, y_test))\n",
    "print(\"Accuracy: \",accuracy(prob, y_test))"
   ]
  }
 ],
 "metadata": {
  "kernelspec": {
   "display_name": "Python 3",
   "language": "python",
   "name": "python3"
  },
  "language_info": {
   "codemirror_mode": {
    "name": "ipython",
    "version": 3
   },
   "file_extension": ".py",
   "mimetype": "text/x-python",
   "name": "python",
   "nbconvert_exporter": "python",
   "pygments_lexer": "ipython3",
   "version": "3.6.3"
  }
 },
 "nbformat": 4,
 "nbformat_minor": 2
}
