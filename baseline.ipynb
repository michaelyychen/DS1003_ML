{
 "cells": [
  {
   "cell_type": "markdown",
   "metadata": {},
   "source": [
    "# Experient 2"
   ]
  },
  {
   "cell_type": "code",
   "execution_count": 1,
   "metadata": {},
   "outputs": [],
   "source": [
    "import pandas as pd\n",
    "import numpy as np\n",
    "import math"
   ]
  },
  {
   "cell_type": "code",
   "execution_count": 23,
   "metadata": {},
   "outputs": [],
   "source": [
    "base_dir = \"Data/\"\n"
   ]
  },
  {
   "cell_type": "code",
   "execution_count": 24,
   "metadata": {},
   "outputs": [],
   "source": [
    "f.columns.values\n",
    "label2one = {'B':0,'S':1,'X':2}\n",
    "one2label = {0:'B', 1:'S', 2:'X'}"
   ]
  },
  {
   "cell_type": "code",
   "execution_count": 25,
   "metadata": {},
   "outputs": [],
   "source": [
    "def normalize(data):\n",
    "    mu = np.mean(data, axis=0)\n",
    "    std = np.std(data, axis=0)\n",
    "    return mu, std, (data-mu)/std\n",
    "\n",
    "vfunc = np.vectorize(lambda x:label2one[x])\n"
   ]
  },
  {
   "cell_type": "code",
   "execution_count": 32,
   "metadata": {},
   "outputs": [
    {
     "name": "stdout",
     "output_type": "stream",
     "text": [
      "(672271, 24)\n",
      "(703809, 24)\n"
     ]
    }
   ],
   "source": [
    "input_labels = ['pitcher','batter','x0','x','y','ax','ay','az','px','pz','sz_top','sz_bot',\n",
    "             'vx0','vy0','vz0','pfx_x','z0','start_speed','end_speed',\n",
    "             'break_y','break_angle','break_length','spin_dir','spin_rate']\n",
    "train_years = [5,6]\n",
    "dev_years = [7]\n",
    "\n",
    "\n",
    "train_x = {}\n",
    "train_y = {}\n",
    "ctr = 0\n",
    "for y in train_years:\n",
    "    f = pd.read_csv(base_dir+\"MLB_201{0}/MLB_PitchFX_201{0}_RegularSeason.csv\".format(str(y)))\n",
    "    \n",
    "    tmp_x = f[input_labels]\n",
    "    tmp_y = f['umpcall']\n",
    "\n",
    "    tmp_x = tmp_x.as_matrix()\n",
    "    tmp_y = tmp_y.as_matrix()\n",
    "    tmp_y = vfunc(tmp_y)\n",
    "\n",
    "    if ctr==0:\n",
    "        ctr=1\n",
    "        train_x = tmp_x\n",
    "        train_y = tmp_y\n",
    "    else:\n",
    "        print(train_x.shape)\n",
    "        print(tmp_x.shape)\n",
    "        train_x = np.concatenate((train_x, tmp_x), axis=0)\n",
    "        train_y = np.concatenate((train_y, tmp_y), axis=0)\n",
    "        \n",
    "f2 = pd.read_csv(base_dir+\"MLB_2017/MLB_PitchFX_2017_PostSeason.csv\")\n",
    "dev_x = f2[input_labels]\n",
    "dev_y = f2['umpcall']\n",
    "\n",
    "\n",
    "\n",
    "\n",
    "dev_x = dev_x.as_matrix()\n",
    "dev_y = dev_y.as_matrix()\n",
    "dev_y = vfunc(dev_y)\n",
    "\n"
   ]
  },
  {
   "cell_type": "code",
   "execution_count": 33,
   "metadata": {},
   "outputs": [],
   "source": [
    "vv = np.vectorize(lambda x: (isinstance(x, float) and math.isnan(x) ))\n",
    "idx = ~np.logical_or(vv(train_x[:,0]), vv(train_x[:,1]))\n",
    "train_x = train_x[idx]\n",
    "train_y = train_y[idx]"
   ]
  },
  {
   "cell_type": "code",
   "execution_count": null,
   "metadata": {},
   "outputs": [],
   "source": [
    "from sklearn.model_selection import train_test_split\n",
    "train_x, dev_x, train_y, dev_y = train_test_split(data_x, data_y, test_size=0.1)"
   ]
  },
  {
   "cell_type": "code",
   "execution_count": null,
   "metadata": {},
   "outputs": [],
   "source": [
    "np.sum(train_y==2)"
   ]
  },
  {
   "cell_type": "markdown",
   "metadata": {},
   "source": [
    "# Cross Validation"
   ]
  },
  {
   "cell_type": "code",
   "execution_count": 34,
   "metadata": {},
   "outputs": [],
   "source": [
    "def criterion(pred, y):\n",
    "    s = 0;\n",
    "    for i in range(pred.shape[0]):\n",
    "        s -= np.log(pred[i,y[i]])\n",
    "    return s/y.shape[0]"
   ]
  },
  {
   "cell_type": "code",
   "execution_count": 35,
   "metadata": {},
   "outputs": [],
   "source": [
    "def accuracy(pred, y):\n",
    "    pred = np.argmax(pred,axis=1)\n",
    "    if y is None:\n",
    "        return 0\n",
    "    return np.sum(pred == y) / y.shape[0]"
   ]
  },
  {
   "cell_type": "code",
   "execution_count": 36,
   "metadata": {},
   "outputs": [],
   "source": [
    "import math\n",
    "from sklearn.neighbors import NearestNeighbors\n",
    "from sklearn.base import BaseEstimator, ClassifierMixin\n",
    "class kNNClassifier(BaseEstimator, ClassifierMixin):\n",
    "    def __init__(self, **kwargs):\n",
    "        self.model = NearestNeighbors(**kwargs)\n",
    "    def fit(self, data_x, y):\n",
    "        X = data_x[:,2:].astype(dtype=np.double)\n",
    "        self.mu, self.std, self.X = normalize(X)\n",
    "        \n",
    "        self.y = y\n",
    "        \n",
    "        self.model.fit(self.X)\n",
    "        self.pitchers = {}\n",
    "        self.batters = {}\n",
    "        self.matches = {}\n",
    "        self.ctr_m = {}\n",
    "        self.ctr_p = {}\n",
    "        self.ctr_b = {}\n",
    "        for i in range(data_x.shape[0]):\n",
    "            p = data_x[i,0]\n",
    "            b = data_x[i,1]\n",
    "            if p in self.pitchers:\n",
    "                self.pitchers[p] += data_x[i,2:]\n",
    "                self.ctr_p[p] +=1\n",
    "            else:\n",
    "                self.pitchers[p] = data_x[i,2:]\n",
    "                self.ctr_p[p] = 1\n",
    "            if b in self.batters:\n",
    "                self.batters[b] += data_x[i,2:]\n",
    "                self.ctr_b[b] += 1\n",
    "            else:\n",
    "                self.batters[b] = data_x[i,2:]\n",
    "                self.ctr_b[b] = 1\n",
    "            if p+' '+b in self.matches:\n",
    "                self.matches[p+' '+b] += data_x[i,2:]\n",
    "                self.ctr_m[p+' '+b] += 1\n",
    "            else:\n",
    "                self.matches[p+' '+b] = data_x[i,2:]\n",
    "                self.ctr_m[p+' '+b] = 1\n",
    "            \n",
    "        self.avg_data = np.mean(self.X, axis=0)\n",
    "    def predict(self, dev_x, po=4, threshold=1e-5, oridist=100):\n",
    "        de = np.zeros((dev_x.shape[0], self.X.shape[1]))\n",
    "        for i in range(dev_x.shape[0]):\n",
    "            p = dev_x[i,0]\n",
    "            b = dev_x[i,1]\n",
    "            if p+' '+b in self.matches:\n",
    "                de[i,:] = self.matches[p+' '+b]/self.ctr_m[p+' '+b]\n",
    "            elif p in self.pitchers:\n",
    "                de[i,:] = self.pitchers[p]/self.ctr_p[p]\n",
    "            else:\n",
    "                de[i,:] = self.avg_data\n",
    "        \n",
    "        return self.predict_full(de, po, threshold, oridist)\n",
    "    \n",
    "    def predict_full(self, dev_x, po=4, threshold=1e-5, oridist=100):\n",
    "        dist, indx = self.model.kneighbors((dev_x-self.mu)/self.std)\n",
    "        preds = (1/(oridist**po))*np.ones((dev_x.shape[0],3))\n",
    "        for jj in range(len(indx)):\n",
    "            ctr= 3/(oridist**po)\n",
    "            for i,e in enumerate(indx[jj]):\n",
    "                dd = dist[jj][i]+ threshold\n",
    "                ctr += 1/dd**po\n",
    "                preds[jj,self.y[e]] += 1/dd**po\n",
    "            preds[jj,:] /= ctr\n",
    "        return preds\n",
    "    def score(self, X, y=None):\n",
    "        pred = self.predict(X)\n",
    "        if y is None:\n",
    "            return 0\n",
    "        return criterion(pred, y)"
   ]
  },
  {
   "cell_type": "code",
   "execution_count": 37,
   "metadata": {},
   "outputs": [],
   "source": [
    "model = kNNClassifier(n_neighbors=100, algorithm='auto', n_jobs=-1)\n",
    "model.fit(train_x, train_y)"
   ]
  },
  {
   "cell_type": "code",
   "execution_count": 38,
   "metadata": {},
   "outputs": [
    {
     "name": "stdout",
     "output_type": "stream",
     "text": [
      "len:11223\n"
     ]
    }
   ],
   "source": [
    "print(\"len:{}\".format(dev_x.shape[0]))\n",
    "pred = model.predict(dev_x, po=4)"
   ]
  },
  {
   "cell_type": "code",
   "execution_count": 39,
   "metadata": {},
   "outputs": [
    {
     "data": {
      "text/plain": [
       "0.44987971130713711"
      ]
     },
     "execution_count": 39,
     "metadata": {},
     "output_type": "execute_result"
    }
   ],
   "source": [
    "accuracy(pred,dev_y)"
   ]
  },
  {
   "cell_type": "code",
   "execution_count": 40,
   "metadata": {},
   "outputs": [
    {
     "data": {
      "text/plain": [
       "3.9698163426722877"
      ]
     },
     "execution_count": 40,
     "metadata": {},
     "output_type": "execute_result"
    }
   ],
   "source": [
    "criterion(pred,dev_y)"
   ]
  },
  {
   "cell_type": "code",
   "execution_count": 19,
   "metadata": {},
   "outputs": [
    {
     "name": "stdout",
     "output_type": "stream",
     "text": [
      "k:100 po:2 th:1e-05 di:1\n",
      "loss:1.3028881778642405 acc.:0.4679675666042947\n",
      "total time: 4.611871719360352s\n",
      "\n",
      "k:100 po:2 th:1e-05 di:100\n",
      "loss:1.34035715077066 acc.:0.4679675666042947\n",
      "total time: 4.487550497055054s\n",
      "\n",
      "k:100 po:2 th:1e-05 di:10000\n",
      "loss:1.3772880562573064 acc.:0.4679675666042947\n",
      "total time: 4.4898107051849365s\n",
      "\n",
      "k:100 po:2 th:0.1 di:1\n",
      "loss:1.1914650405671579 acc.:0.4714425732869999\n",
      "total time: 4.713467359542847s\n",
      "\n",
      "k:100 po:2 th:0.1 di:100\n",
      "loss:1.2296912686843346 acc.:0.4714425732869999\n",
      "total time: 4.684508800506592s\n",
      "\n",
      "k:100 po:2 th:0.1 di:10000\n",
      "loss:1.266622262621969 acc.:0.4714425732869999\n",
      "total time: 4.488931655883789s\n",
      "\n",
      "k:100 po:2 th:10 di:1\n",
      "loss:1.04778314901694 acc.:0.4722444979060857\n",
      "total time: 4.669751882553101s\n",
      "\n",
      "k:100 po:2 th:10 di:100\n",
      "loss:1.1928234360053507 acc.:0.4722444979060857\n",
      "total time: 4.692002296447754s\n",
      "\n",
      "k:100 po:2 th:10 di:10000\n",
      "loss:1.2301216249828466 acc.:0.4722444979060857\n",
      "total time: 4.681848049163818s\n",
      "\n",
      "k:100 po:4 th:1e-05 di:1\n",
      "loss:1.5131846974271776 acc.:0.4677893611333868\n",
      "total time: 4.719581604003906s\n",
      "\n",
      "k:100 po:4 th:1e-05 di:100\n",
      "loss:1.5877864999901037 acc.:0.4677893611333868\n",
      "total time: 4.603432655334473s\n",
      "\n",
      "k:100 po:4 th:1e-05 di:10000\n",
      "loss:1.6616465029287468 acc.:0.4677893611333868\n",
      "total time: 4.890526294708252s\n",
      "\n",
      "k:100 po:4 th:0.1 di:1\n",
      "loss:1.2115835646106747 acc.:0.4722444979060857\n",
      "total time: 4.9767906665802s\n",
      "\n",
      "k:100 po:4 th:0.1 di:100\n",
      "loss:1.286202732032998 acc.:0.4722444979060857\n",
      "total time: 4.730961322784424s\n",
      "\n",
      "k:100 po:4 th:0.1 di:10000\n",
      "loss:1.3600627354634012 acc.:0.4722444979060857\n",
      "total time: 4.6168742179870605s\n",
      "\n",
      "k:100 po:4 th:10 di:1\n",
      "loss:1.097733426680627 acc.:0.4722444979060857\n",
      "total time: 4.723823070526123s\n",
      "\n",
      "k:100 po:4 th:10 di:100\n",
      "loss:1.2117859067769168 acc.:0.4722444979060857\n",
      "total time: 4.812251567840576s\n",
      "\n",
      "k:100 po:4 th:10 di:10000\n",
      "loss:1.2856497461624017 acc.:0.4722444979060857\n",
      "total time: 4.720428705215454s\n",
      "\n",
      "k:200 po:2 th:1e-05 di:1\n",
      "loss:1.220680629679063 acc.:0.47037334046155216\n",
      "total time: 5.668630361557007s\n",
      "\n",
      "k:200 po:2 th:1e-05 di:100\n",
      "loss:1.2305791999376836 acc.:0.47037334046155216\n",
      "total time: 5.583208084106445s\n",
      "\n",
      "k:200 po:2 th:1e-05 di:10000\n",
      "loss:1.2404272084930204 acc.:0.47037334046155216\n",
      "total time: 5.582269668579102s\n",
      "\n",
      "k:200 po:2 th:0.1 di:1\n",
      "loss:1.1509572654715943 acc.:0.47099705960973004\n",
      "total time: 5.563745975494385s\n",
      "\n",
      "k:200 po:2 th:0.1 di:100\n",
      "loss:1.1611550977566896 acc.:0.47099705960973004\n",
      "total time: 5.524869203567505s\n",
      "\n",
      "k:200 po:2 th:0.1 di:10000\n",
      "loss:1.17100313701556 acc.:0.47099705960973004\n",
      "total time: 5.386159420013428s\n",
      "\n",
      "k:200 po:2 th:10 di:1\n",
      "loss:1.0325154463293094 acc.:0.47099705960973004\n",
      "total time: 5.735142946243286s\n",
      "\n",
      "k:200 po:2 th:10 di:100\n",
      "loss:1.1501669407110036 acc.:0.47099705960973004\n",
      "total time: 5.754789113998413s\n",
      "\n",
      "k:200 po:2 th:10 di:10000\n",
      "loss:1.16019428009643 acc.:0.47099705960973004\n",
      "total time: 5.796296119689941s\n",
      "\n",
      "k:200 po:4 th:1e-05 di:1\n",
      "loss:1.3811816798104923 acc.:0.46894769669428854\n",
      "total time: 5.908738374710083s\n",
      "\n",
      "k:200 po:4 th:1e-05 di:100\n",
      "loss:1.400575658796647 acc.:0.46894769669428854\n",
      "total time: 5.8118367195129395s\n",
      "\n",
      "k:200 po:4 th:1e-05 di:10000\n",
      "loss:1.4202716553057038 acc.:0.46894769669428854\n",
      "total time: 5.916528701782227s\n",
      "\n",
      "k:200 po:4 th:0.1 di:1\n",
      "loss:1.1581247352836117 acc.:0.47126436781609193\n",
      "total time: 6.087284326553345s\n",
      "\n",
      "k:200 po:4 th:0.1 di:100\n",
      "loss:1.177524880614292 acc.:0.47126436781609193\n",
      "total time: 5.740102052688599s\n",
      "\n",
      "k:200 po:4 th:0.1 di:10000\n",
      "loss:1.1972208771228257 acc.:0.47126436781609193\n",
      "total time: 5.752495527267456s\n",
      "\n",
      "k:200 po:4 th:10 di:1\n",
      "loss:1.0970340559705276 acc.:0.47099705960973004\n",
      "total time: 5.867979526519775s\n",
      "\n",
      "k:200 po:4 th:10 di:100\n",
      "loss:1.1552909515239254 acc.:0.47099705960973004\n",
      "total time: 5.955331087112427s\n",
      "\n",
      "k:200 po:4 th:10 di:10000\n",
      "loss:1.1749887588948773 acc.:0.47099705960973004\n",
      "total time: 5.788024663925171s\n",
      "\n"
     ]
    }
   ],
   "source": [
    "import time\n",
    "preds = []\n",
    "for e in [100,200]:\n",
    "    model = kNNClassifier(n_neighbors=e, algorithm='auto', n_jobs=-1)\n",
    "    model.fit(train_x, train_y)\n",
    "    for po in [2,4]:\n",
    "        for threshold in [1e-5, 1e-1, 10]:\n",
    "            for oridist in [1,100,10000]:\n",
    "                start = time.time()\n",
    "                pred = model.predict(dev_x, po, threshold, oridist)\n",
    "                \n",
    "                print(\"k:{} po:{} th:{} di:{}\".format(e, po, threshold, oridist))\n",
    "                print(\"loss:{} acc.:{}\".format(criterion(pred,dev_y), accuracy(pred, dev_y)))\n",
    "                end = time.time()\n",
    "                print(\"total time: {}s\".format(end-start))\n",
    "                print()\n"
   ]
  },
  {
   "cell_type": "code",
   "execution_count": null,
   "metadata": {},
   "outputs": [],
   "source": [
    "import time\n",
    "eps = [50,100,125,200,300]\n",
    "preds2 = []\n",
    "for po in [0,1,2,3,4,5,6]:\n",
    "    pp = []\n",
    "    for e in eps:\n",
    "        start = time.time()\n",
    "        start1 = time.time()\n",
    "        model = kNNClassifier(n_neighbors=e, algorithm='auto', n_jobs=-1)\n",
    "        model.fit(train_x, train_y)\n",
    "        end=time.time()\n",
    "        print()\n",
    "        print(\"fit: {}s\".format(end-start))\n",
    "        pred = model.predict(dev_x, po=po)\n",
    "        start=end\n",
    "        end=time.time()\n",
    "        print(\"predict: {}s\".format(end-start))\n",
    "        start=end\n",
    "        pp.append(pred)\n",
    "        print(\"nn:{} loss:{} acc.:{}\".format(e, criterion(pred,dev_y), accuracy(pred, dev_y)))\n",
    "        end = time.time()\n",
    "        print(\"total time: {}s\".format(end-start1))\n",
    "    preds2.append(pp)"
   ]
  },
  {
   "cell_type": "code",
   "execution_count": null,
   "metadata": {},
   "outputs": [],
   "source": [
    "end = time.time()\n",
    "end-start"
   ]
  },
  {
   "cell_type": "code",
   "execution_count": null,
   "metadata": {},
   "outputs": [],
   "source": [
    "S_ctr=0\n",
    "S_wrong = 0\n",
    "\n",
    "B_ctr=0\n",
    "B_wrong = 0\n",
    "\n",
    "X_ctr=0\n",
    "X_wrong = 0\n",
    "pred_label = np.argmax(pred, axis=1)\n",
    "for i in range(len(pred)):\n",
    "    if dev_y[i]==1:\n",
    "        if pred[i]==1:\n",
    "            S_ctr+=1\n",
    "        else:\n",
    "            S_wrong+=1\n",
    "    if dev_y[i]==0:\n",
    "        if pred[i]==0:\n",
    "            B_ctr+=1\n",
    "        else:\n",
    "            B_wrong+=1\n",
    "    if dev_y[i]==2:\n",
    "        if pred[i]==2:\n",
    "            X_ctr+=1\n",
    "        else:\n",
    "            X_wrong+=1"
   ]
  },
  {
   "cell_type": "code",
   "execution_count": null,
   "metadata": {},
   "outputs": [],
   "source": [
    "pred = model.predict(dev_x)\n",
    "pred"
   ]
  },
  {
   "cell_type": "code",
   "execution_count": null,
   "metadata": {},
   "outputs": [],
   "source": [
    "print(\"S({},{}) B({},{}) X({},{})\".format(S_ctr, S_wrong, B_ctr, B_wrong, X_ctr, X_wrong))"
   ]
  },
  {
   "cell_type": "code",
   "execution_count": null,
   "metadata": {},
   "outputs": [],
   "source": [
    "d={}\n",
    "for t in train_y:\n",
    "    if t not in d:\n",
    "        d[t] = 1\n",
    "    else:\n",
    "        d[t] += 1\n",
    "d"
   ]
  },
  {
   "cell_type": "code",
   "execution_count": null,
   "metadata": {},
   "outputs": [],
   "source": [
    "from sklearn.model_selection import cross_val_score\n",
    "scores = cross_val_score(model, data_x, data_y, cv=5)\n",
    "scores"
   ]
  },
  {
   "cell_type": "markdown",
   "metadata": {},
   "source": [
    "# Test Models"
   ]
  },
  {
   "cell_type": "code",
   "execution_count": null,
   "metadata": {
    "scrolled": true
   },
   "outputs": [],
   "source": [
    "from sklearn.model_selection import cross_val_score\n",
    "model = kNNClassifier(n_neighbors=200, algorithm='auto')\n",
    "scores = cross_val_score(model, data_x, data_y, cv=8, n_jobs=-1)\n",
    "scores"
   ]
  },
  {
   "cell_type": "code",
   "execution_count": null,
   "metadata": {},
   "outputs": [],
   "source": [
    "data_x"
   ]
  },
  {
   "cell_type": "code",
   "execution_count": null,
   "metadata": {},
   "outputs": [],
   "source": [
    "from sklearn.neural_network import MLPClassifier\n",
    "mlp = MLPClassifier(hidden_layer_sizes=(100,100,100,), max_iter=1000, alpha=1e-4,\n",
    "                    solver='adam', tol=1e-5,\n",
    "                    learning_rate_init=.01)\n",
    "mlp.fit(train_x, train_y)"
   ]
  },
  {
   "cell_type": "code",
   "execution_count": null,
   "metadata": {},
   "outputs": [],
   "source": [
    "pred = mlp.predict(dev_x)"
   ]
  },
  {
   "cell_type": "code",
   "execution_count": null,
   "metadata": {},
   "outputs": [],
   "source": [
    "pred"
   ]
  },
  {
   "cell_type": "code",
   "execution_count": null,
   "metadata": {},
   "outputs": [],
   "source": [
    "np.sum(mlp.predict(dev_x)==dev_y)/len(dev_y)"
   ]
  },
  {
   "cell_type": "code",
   "execution_count": null,
   "metadata": {},
   "outputs": [],
   "source": [
    "len(dev_y)"
   ]
  },
  {
   "cell_type": "code",
   "execution_count": null,
   "metadata": {},
   "outputs": [],
   "source": [
    "from sklearn.neural_network import MLPClassifier\n",
    "mlp = MLPClassifier(hidden_layer_sizes=(50,50,), max_iter=100, alpha=1e-4,\n",
    "                    solver='adam', tol=1e-4,\n",
    "                    learning_rate_init=.001)\n",
    "\n",
    "scores = cross_val_score(mlp, data_x, data_y, cv=5)\n",
    "scores"
   ]
  },
  {
   "cell_type": "code",
   "execution_count": null,
   "metadata": {},
   "outputs": [],
   "source": []
  }
 ],
 "metadata": {
  "kernelspec": {
   "display_name": "Python 3",
   "language": "python",
   "name": "python3"
  },
  "language_info": {
   "codemirror_mode": {
    "name": "ipython",
    "version": 3
   },
   "file_extension": ".py",
   "mimetype": "text/x-python",
   "name": "python",
   "nbconvert_exporter": "python",
   "pygments_lexer": "ipython3",
   "version": "3.5.2"
  }
 },
 "nbformat": 4,
 "nbformat_minor": 2
}
