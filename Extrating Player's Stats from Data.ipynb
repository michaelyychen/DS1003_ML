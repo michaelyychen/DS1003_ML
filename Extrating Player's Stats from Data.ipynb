{
 "cells": [
  {
   "cell_type": "code",
   "execution_count": 2,
   "metadata": {
    "collapsed": true
   },
   "outputs": [],
   "source": [
    "import preprocessing_data as prep\n",
    "import pandas as pd\n",
    "import numpy as np\n",
    "pd.set_option('display.max_row', 1000)\n",
    "pd.set_option('display.max_columns', 50)"
   ]
  },
  {
   "cell_type": "markdown",
   "metadata": {},
   "source": [
    "# Load Season Player Data\n",
    "\n",
    "All features:   \n",
    "date,stadium,inning,side,pitcher,pitch_count,batter,balls,strikes,  \n",
    "ay,px,ax,sz_bot,vz0,vy0,  \n",
    "pfx_x,type_confidence,z0,tfs,pz,start_speed,  \n",
    "az,zone,break_angle,spin_dir,end_speed,vx0,  \n",
    "sz_top,nasty,descr,pfx_z,break_y,pitch_type,  \n",
    "tfs_zulu,x,spin_rate,y0,break_length,y,x0,  \n",
    "on_1b,on_2b,on_3b,umpcall,outcome,offense_score,defense_score"
   ]
  },
  {
   "cell_type": "code",
   "execution_count": 3,
   "metadata": {
    "collapsed": true
   },
   "outputs": [],
   "source": [
    "years = [2,3,4,5]\n",
    "base_dir = \"Data/\"\n",
    "# features_to_keep = [\"pitcher\",\"batter\", \"balls\",\"strikes\",\"pitch_count\",\"inning\",\"side\", \"umpcall\"]\n",
    "features_to_load = [\"pitcher\",\"batter\",\"pitch_type\",\"start_speed\",\"spin_dir\",\"umpcall\"]\n",
    "train_regular_season = [base_dir+\"MLB_201{0}/MLB_PitchFX_201{0}_RegularSeason.csv\".format(i) for i in years]\n",
    "train_post_season = [base_dir+\"MLB_201{0}/MLB_PitchFX_201{0}_RegularSeason.csv\".format(i) for i in years]\n",
    "all_data = prep.read_and_combine_data(train_regular_season+train_post_season,features_to_load)"
   ]
  },
  {
   "cell_type": "code",
   "execution_count": 4,
   "metadata": {
    "collapsed": true
   },
   "outputs": [],
   "source": [
    "players = pd.read_csv(base_dir+\"MLB_Players.csv\")"
   ]
  },
  {
   "cell_type": "markdown",
   "metadata": {},
   "source": [
    "# Basic Statistics"
   ]
  },
  {
   "cell_type": "code",
   "execution_count": 5,
   "metadata": {
    "collapsed": true
   },
   "outputs": [],
   "source": [
    "pitchers_name_s = all_data.pitcher.unique()\n",
    "batters_name_s = all_data.batter.unique()\n",
    "all_name_s = np.unique(np.append(pitchers_name_s,batters_name_s))\n",
    "player_stats = {}"
   ]
  },
  {
   "cell_type": "code",
   "execution_count": 11,
   "metadata": {},
   "outputs": [],
   "source": [
    "pitch_types = [\"FA\",\"FF\",\"FT\",\"FC\",\"FS\",\n",
    "               \"SI\",\"SF\",\"SL\",\"CH\",\"CB\",\n",
    "               \"CU\",\"KC\",\"KN\",\"EP\",\"UN\",\n",
    "               \"XX\",\"PO\",\"FO\"\n",
    "              ]\n",
    "def gen_empty_pitch_type(types):\n",
    "    result = {}\n",
    "    for t in types:\n",
    "        result[t] = {\n",
    "            \"count\":0,\n",
    "            \"start_speed\":0,\n",
    "            \"spin_dir\":0,\n",
    "            \"umpcall\":[]\n",
    "        }\n",
    "    return result"
   ]
  },
  {
   "cell_type": "code",
   "execution_count": 12,
   "metadata": {},
   "outputs": [
    {
     "ename": "KeyError",
     "evalue": "'pitch_type'",
     "output_type": "error",
     "traceback": [
      "\u001b[0;31m---------------------------------------------------------------------------\u001b[0m",
      "\u001b[0;31mKeyError\u001b[0m                                  Traceback (most recent call last)",
      "\u001b[0;32m<ipython-input-12-545d04c9d25a>\u001b[0m in \u001b[0;36m<module>\u001b[0;34m()\u001b[0m\n\u001b[1;32m     22\u001b[0m                                  \u001b[0;34m\"pitch_type\"\u001b[0m\u001b[0;34m:\u001b[0m\u001b[0mgen_empty_pitch_type\u001b[0m\u001b[0;34m(\u001b[0m\u001b[0mpitch_types\u001b[0m\u001b[0;34m)\u001b[0m\u001b[0;34m\u001b[0m\u001b[0m\n\u001b[1;32m     23\u001b[0m                                 }\n\u001b[0;32m---> 24\u001b[0;31m     \u001b[0mp\u001b[0m \u001b[0;34m=\u001b[0m \u001b[0mplayer_stats\u001b[0m\u001b[0;34m[\u001b[0m\u001b[0mpitcher\u001b[0m\u001b[0;34m]\u001b[0m\u001b[0;34m[\u001b[0m\u001b[0;34m\"pitch_type\"\u001b[0m\u001b[0;34m]\u001b[0m\u001b[0;34m[\u001b[0m\u001b[0mrow\u001b[0m\u001b[0;34m.\u001b[0m\u001b[0mpitch_type\u001b[0m\u001b[0;34m]\u001b[0m\u001b[0;34m\u001b[0m\u001b[0m\n\u001b[0m\u001b[1;32m     25\u001b[0m     \u001b[0mp\u001b[0m\u001b[0;34m.\u001b[0m\u001b[0mcount\u001b[0m\u001b[0;34m+=\u001b[0m\u001b[0;36m1\u001b[0m\u001b[0;34m\u001b[0m\u001b[0m\n\u001b[1;32m     26\u001b[0m     \u001b[0mp\u001b[0m\u001b[0;34m.\u001b[0m\u001b[0mstart_speed\u001b[0m\u001b[0;34m+=\u001b[0m\u001b[0mrow\u001b[0m\u001b[0;34m.\u001b[0m\u001b[0mstart_speed\u001b[0m\u001b[0;34m\u001b[0m\u001b[0m\n",
      "\u001b[0;31mKeyError\u001b[0m: 'pitch_type'"
     ]
    }
   ],
   "source": [
    "for row in all_data.itertuples(index=False):\n",
    "#     print(row)\n",
    "    batter = row.batter\n",
    "    pitcher = row.pitcher\n",
    "    \n",
    "    # do batter first\n",
    "    if batter in player_stats:\n",
    "        player_stats[batter][\"bat_count\"] += 1\n",
    "    else:\n",
    "        player_stats[batter] = {\"bat_count\":1, \n",
    "                                 \"pitch_count\":0,\n",
    "                                 \"pitch_type\":gen_empty_pitch_type(pitch_types)\n",
    "                                }\n",
    "    \n",
    "    # do pitcher \n",
    "    \n",
    "    if pitcher in player_stats:\n",
    "        player_stats[pitcher][\"pitch_count\"] += 1\n",
    "    else:\n",
    "        player_stats[pitcher] = {\"bat_count\":0, \n",
    "                                 \"pitch_count\":1,\n",
    "                                 \"pitch_type\":gen_empty_pitch_type(pitch_types)\n",
    "                                }\n",
    "    p = player_stats[pitcher][\"pitch_type\"][row.pitch_type]\n",
    "    p.count+=1\n",
    "    p.start_speed+=row.start_speed\n",
    "    p.umpcall.append(row.umpcall)\n",
    "print(player_stats)"
   ]
  },
  {
   "cell_type": "code",
   "execution_count": null,
   "metadata": {
    "collapsed": true
   },
   "outputs": [],
   "source": []
  }
 ],
 "metadata": {
  "kernelspec": {
   "display_name": "Python 3",
   "language": "python",
   "name": "python3"
  },
  "language_info": {
   "codemirror_mode": {
    "name": "ipython",
    "version": 3
   },
   "file_extension": ".py",
   "mimetype": "text/x-python",
   "name": "python",
   "nbconvert_exporter": "python",
   "pygments_lexer": "ipython3",
   "version": "3.6.3"
  }
 },
 "nbformat": 4,
 "nbformat_minor": 2
}
