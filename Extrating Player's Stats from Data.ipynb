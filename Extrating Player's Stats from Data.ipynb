{
 "cells": [
  {
   "cell_type": "code",
   "execution_count": 1,
   "metadata": {
    "collapsed": true
   },
   "outputs": [],
   "source": [
    "import preprocessing_data as prep\n",
    "import pandas as pd\n",
    "import numpy as np\n",
    "pd.set_option('display.max_row', 1000)\n",
    "pd.set_option('display.max_columns', 50)"
   ]
  },
  {
   "cell_type": "markdown",
   "metadata": {},
   "source": [
    "# Load Season Player Data\n",
    "\n",
    "All features:   \n",
    "date,stadium,inning,side,pitcher,pitch_count,batter,balls,strikes,  \n",
    "ay,px,ax,sz_bot,vz0,vy0,  \n",
    "pfx_x,type_confidence,z0,tfs,pz,start_speed,  \n",
    "az,zone,break_angle,spin_dir,end_speed,vx0,  \n",
    "sz_top,nasty,descr,pfx_z,break_y,pitch_type,  \n",
    "tfs_zulu,x,spin_rate,y0,break_length,y,x0,  \n",
    "on_1b,on_2b,on_3b,umpcall,outcome,offense_score,defense_score"
   ]
  },
  {
   "cell_type": "code",
   "execution_count": 2,
   "metadata": {
    "collapsed": true
   },
   "outputs": [],
   "source": [
    "years = [2,3,4,5]\n",
    "base_dir = \"Data/\"\n",
    "# features_to_keep = [\"pitcher\",\"batter\", \"balls\",\"strikes\",\"pitch_count\",\"inning\",\"side\", \"umpcall\"]\n",
    "features_to_load = [\"pitcher\",\"batter\",\"pitch_type\",\"start_speed\",\"spin_dir\",\"umpcall\"]\n",
    "train_regular_season = [base_dir+\"MLB_201{0}/MLB_PitchFX_201{0}_RegularSeason.csv\".format(i) for i in years]\n",
    "train_post_season = [base_dir+\"MLB_201{0}/MLB_PitchFX_201{0}_RegularSeason.csv\".format(i) for i in years]\n",
    "all_data = prep.read_and_combine_data(train_regular_season+train_post_season,features_to_load)"
   ]
  },
  {
   "cell_type": "code",
   "execution_count": 3,
   "metadata": {
    "collapsed": true
   },
   "outputs": [],
   "source": [
    "players = pd.read_csv(base_dir+\"MLB_Players.csv\")"
   ]
  },
  {
   "cell_type": "markdown",
   "metadata": {},
   "source": [
    "# Basic Statistics"
   ]
  },
  {
   "cell_type": "code",
   "execution_count": 4,
   "metadata": {
    "collapsed": true
   },
   "outputs": [],
   "source": [
    "pitchers_name_s = all_data.pitcher.unique()\n",
    "batters_name_s = all_data.batter.unique()\n",
    "all_name_s = np.unique(np.append(pitchers_name_s,batters_name_s))\n",
    "player_stats = {}"
   ]
  },
  {
   "cell_type": "code",
   "execution_count": 5,
   "metadata": {
    "collapsed": true
   },
   "outputs": [],
   "source": [
    "pitch_types = [\"FA\",\"FF\",\"FT\",\"FC\",\"FS\",\n",
    "               \"SI\",\"SF\",\"SL\",\"CH\",\"CB\",\n",
    "               \"CU\",\"KC\",\"KN\",\"EP\",\"UN\",\n",
    "               \"XX\",\"PO\",\"FO\"\n",
    "              ]\n",
    "pitch_types = all_data.pitch_type.unique()\n",
    "def gen_empty_pitch_type(types):\n",
    "    result = {}\n",
    "    for t in types:\n",
    "        result[t] = {\n",
    "            \"count\":0,\n",
    "            \"start_speed\":0,\n",
    "            \"spin_dir\":0,\n",
    "            \"umpcall\":{\n",
    "                'X':0,\n",
    "                'S':0,\n",
    "                'B':0\n",
    "            }\n",
    "        }\n",
    "    return result\n",
    "def new_player_stat():\n",
    "    result = {\"bat_count\":0, \n",
    "             \"pitch_count\":0,\n",
    "             \"hit_count\":0, \n",
    "             \"pitch_type\":gen_empty_pitch_type(pitch_types),\n",
    "             \"at_bats\":0}\n",
    "    return result"
   ]
  },
  {
   "cell_type": "code",
   "execution_count": 6,
   "metadata": {
    "collapsed": true,
    "scrolled": false
   },
   "outputs": [],
   "source": [
    "old_batter = \"\"\n",
    "init = True\n",
    "for row in all_data.itertuples(index=False):\n",
    "#     print(row)\n",
    "    if not init:\n",
    "        old_batter = batter\n",
    "    batter = row.batter\n",
    "    pitcher = row.pitcher\n",
    "    \n",
    "    # do batter first\n",
    "    if batter not in player_stats:\n",
    "        player_stats[batter] = new_player_stat()\n",
    "   \n",
    "    if old_batter != batter:\n",
    "        player_stats[batter][\"at_bats\"] += 1\n",
    "    player_stats[batter][\"bat_count\"] += 1\n",
    "    \n",
    "    if row.umpcall is 'X':\n",
    "        player_stats[batter][\"hit_count\"] +=1\n",
    "    \n",
    "    \n",
    "    \n",
    "    # do pitcher \n",
    "    \n",
    "    if pitcher not in player_stats:\n",
    "        player_stats[pitcher] = new_player_stat()\n",
    "    player_stats[pitcher][\"pitch_count\"] += 1\n",
    "    \n",
    "    p = player_stats[pitcher][\"pitch_type\"][row.pitch_type]\n",
    "    p[\"count\"]+=1\n",
    "    p[\"start_speed\"]+=row.start_speed\n",
    "    p[\"spin_dir\"]+=row.spin_dir\n",
    "    p[\"umpcall\"][row.umpcall]+=1\n",
    "    init = False"
   ]
  },
  {
   "cell_type": "code",
   "execution_count": 7,
   "metadata": {
    "collapsed": true,
    "scrolled": false
   },
   "outputs": [],
   "source": [
    "# Calculate avg stats\n",
    "for player,stat in player_stats.items():\n",
    "    strike_count = 0\n",
    "    for pitch_type,pitch_type_val in stat[\"pitch_type\"].items():\n",
    "        if(pitch_type_val[\"count\"]>0):\n",
    "            pitch_type_val[\"avg_start_speed\"] = pitch_type_val[\"start_speed\"]/pitch_type_val[\"count\"]\n",
    "            pitch_type_val[\"avg_spin_dir\"] = pitch_type_val[\"spin_dir\"]/pitch_type_val[\"count\"]\n",
    "            pitch_type_val[\"possibility\"] = pitch_type_val[\"count\"]/stat[\"pitch_count\"]\n",
    "            strike_count +=pitch_type_val[\"umpcall\"][\"S\"]\n",
    "        else:\n",
    "            pitch_type_val[\"avg_start_speed\"] = 0\n",
    "            pitch_type_val[\"avg_spin_dir\"] = 0\n",
    "            pitch_type_val[\"possibility\"] = 0\n",
    "    if stat[\"pitch_count\"] > 0:\n",
    "        stat[\"strike_ratio\"] = strike_count / stat[\"pitch_count\"]\n",
    "    else:\n",
    "        stat[\"strike_ratio\"] = 0\n",
    "    if stat[\"bat_count\"] > 0:\n",
    "        stat[\"hit_ratio\"] = stat[\"hit_count\"] / stat[\"bat_count\"]\n",
    "    else:\n",
    "        stat[\"hit_ratio\"] = 0"
   ]
  },
  {
   "cell_type": "code",
   "execution_count": null,
   "metadata": {
    "scrolled": false
   },
   "outputs": [],
   "source": [
    "# for pitcher in pitchers_name_s[:5]:\n",
    "#     print(\"\\nPlayer: \",pitcher)\n",
    "#     plyer = player_stats[pitcher]\n",
    "#     print(\"Strike ratio: \",plyer[\"strike_ratio\"])\n",
    "#     for pitch_type,pitch_type_val in plyer[\"pitch_type\"].items():\n",
    "#         if(pitch_type_val[\"count\"]>0):\n",
    "#             print(pitch_type,pitch_type_val)"
   ]
  },
  {
   "cell_type": "code",
   "execution_count": null,
   "metadata": {},
   "outputs": [],
   "source": [
    "\n",
    "# for batter in batters_name_s[:5]:\n",
    "#     print(\"\\nPlayer: \",batter)\n",
    "#     plyer = player_stats[batter]\n",
    "#     print(\"hit_ratio\", plyer[\"hit_ratio\"])\n",
    "#     print(\"hit\", plyer[\"hit_count\"])\n",
    "#     print(\"bats\", plyer[\"bat_count\"])"
   ]
  },
  {
   "cell_type": "code",
   "execution_count": 8,
   "metadata": {},
   "outputs": [],
   "source": [
    "def new_col_names(pitch_types, rest):\n",
    "    col = [pth for pth in pitch_types]\n",
    "    col += [pth+\"_speed\" for pth in pitch_types]\n",
    "    col += rest\n",
    "    return col\n",
    "for c  in new_col_names(pitch_types, [\"hit_ratio\"]):\n",
    "    players[c] = 0 \n",
    "    \n",
    "temp = players.copy()\n",
    "temp = temp.drop(temp.index[0:])\n",
    "\n",
    "for index, player in players.iterrows():\n",
    "    pid = player[\"bref_id\"]\n",
    "#     print(pid)\n",
    "    if pid in player_stats:\n",
    "        plyer = player_stats[pid]\n",
    "        for pitch_type,pitch_type_val in plyer[\"pitch_type\"].items():\n",
    "            if(pitch_type_val[\"count\"]>0):\n",
    "                player[pitch_type] = pitch_type_val[\"possibility\"]\n",
    "                player[pitch_type+\"_speed\"] = pitch_type_val[\"avg_start_speed\"]\n",
    "        player[\"hit_ratio\"] = plyer[\"hit_ratio\"]\n",
    "    temp = temp.append(player)"
   ]
  },
  {
   "cell_type": "code",
   "execution_count": null,
   "metadata": {},
   "outputs": [],
   "source": [
    "# print(players[:5])"
   ]
  },
  {
   "cell_type": "code",
   "execution_count": null,
   "metadata": {},
   "outputs": [],
   "source": [
    "# temp[:5]\n"
   ]
  },
  {
   "cell_type": "code",
   "execution_count": null,
   "metadata": {},
   "outputs": [],
   "source": [
    "# player_stats[\"beltrad01\"]"
   ]
  },
  {
   "cell_type": "code",
   "execution_count": 9,
   "metadata": {
    "collapsed": true
   },
   "outputs": [],
   "source": [
    "temp.to_csv(\"MLB_Players_Stats.csv\" )"
   ]
  },
  {
   "cell_type": "code",
   "execution_count": null,
   "metadata": {
    "collapsed": true
   },
   "outputs": [],
   "source": []
  }
 ],
 "metadata": {
  "kernelspec": {
   "display_name": "Python 3",
   "language": "python",
   "name": "python3"
  },
  "language_info": {
   "codemirror_mode": {
    "name": "ipython",
    "version": 3
   },
   "file_extension": ".py",
   "mimetype": "text/x-python",
   "name": "python",
   "nbconvert_exporter": "python",
   "pygments_lexer": "ipython3",
   "version": "3.6.3"
  }
 },
 "nbformat": 4,
 "nbformat_minor": 2
}
