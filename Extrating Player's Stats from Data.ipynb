{
 "cells": [
  {
   "cell_type": "code",
   "execution_count": 1,
   "metadata": {
    "collapsed": true
   },
   "outputs": [],
   "source": [
    "import preprocessing_data as prep\n",
    "import pandas as pd\n",
    "import numpy as np\n",
    "pd.set_option('display.max_row', 1000)\n",
    "pd.set_option('display.max_columns', 50)"
   ]
  },
  {
   "cell_type": "markdown",
   "metadata": {},
   "source": [
    "# Load Season Player Data\n",
    "\n",
    "All features:   \n",
    "date,stadium,inning,side,pitcher,pitch_count,batter,balls,strikes,  \n",
    "ay,px,ax,sz_bot,vz0,vy0,  \n",
    "pfx_x,type_confidence,z0,tfs,pz,start_speed,  \n",
    "az,zone,break_angle,spin_dir,end_speed,vx0,  \n",
    "sz_top,nasty,descr,pfx_z,break_y,pitch_type,  \n",
    "tfs_zulu,x,spin_rate,y0,break_length,y,x0,  \n",
    "on_1b,on_2b,on_3b,umpcall,outcome,offense_score,defense_score"
   ]
  },
  {
   "cell_type": "code",
   "execution_count": 2,
   "metadata": {
    "collapsed": true
   },
   "outputs": [],
   "source": [
    "years = [2,3,4,5]\n",
    "base_dir = \"Data/\"\n",
    "# features_to_keep = [\"pitcher\",\"batter\", \"balls\",\"strikes\",\"pitch_count\",\"inning\",\"side\", \"umpcall\"]\n",
    "features_to_load = [\"pitcher\",\"batter\",\"pitch_type\",\"start_speed\",\"spin_dir\",\"umpcall\"]\n",
    "train_regular_season = [base_dir+\"MLB_201{0}/MLB_PitchFX_201{0}_RegularSeason.csv\".format(i) for i in years]\n",
    "train_post_season = [base_dir+\"MLB_201{0}/MLB_PitchFX_201{0}_RegularSeason.csv\".format(i) for i in years]\n",
    "all_data = prep.read_and_combine_data(train_regular_season+train_post_season,features_to_load)"
   ]
  },
  {
   "cell_type": "code",
   "execution_count": 3,
   "metadata": {
    "collapsed": true
   },
   "outputs": [],
   "source": [
    "players = pd.read_csv(base_dir+\"MLB_Players.csv\")"
   ]
  },
  {
   "cell_type": "markdown",
   "metadata": {},
   "source": [
    "# Basic Statistics"
   ]
  },
  {
   "cell_type": "code",
   "execution_count": 10,
   "metadata": {
    "collapsed": true
   },
   "outputs": [],
   "source": [
    "pitchers_name_s = all_data.pitcher.unique()\n",
    "batters_name_s = all_data.batter.unique()\n",
    "all_name_s = np.unique(np.append(pitchers_name_s,batters_name_s))\n",
    "player_stats = {}"
   ]
  },
  {
   "cell_type": "code",
   "execution_count": 11,
   "metadata": {},
   "outputs": [],
   "source": [
    "pitch_types = [\"FA\",\"FF\",\"FT\",\"FC\",\"FS\",\n",
    "               \"SI\",\"SF\",\"SL\",\"CH\",\"CB\",\n",
    "               \"CU\",\"KC\",\"KN\",\"EP\",\"UN\",\n",
    "               \"XX\",\"PO\",\"FO\"\n",
    "              ]\n",
    "def gen_empty_pitch_type(types):\n",
    "    result = {}\n",
    "    for t in types:\n",
    "        result[t] = {\n",
    "            \"count\":0,\n",
    "            \"start_speed\":0,\n",
    "            \"spin_dir\":0,\n",
    "            \"umpcall\":{\n",
    "                'X':0,\n",
    "                'S':0,\n",
    "                'B':0\n",
    "            }\n",
    "        }\n",
    "    return result"
   ]
  },
  {
   "cell_type": "code",
   "execution_count": 18,
   "metadata": {
    "scrolled": false
   },
   "outputs": [],
   "source": [
    "for row in all_data.itertuples(index=False):\n",
    "#     print(row)\n",
    "    batter = row.batter\n",
    "    pitcher = row.pitcher\n",
    "    \n",
    "    # do batter first\n",
    "    if batter in player_stats:\n",
    "        player_stats[batter][\"bat_count\"] += 1\n",
    "    else:\n",
    "        player_stats[batter] = {\"bat_count\":1, \n",
    "                                 \"pitch_count\":0,\n",
    "                                 \"pitch_type\":gen_empty_pitch_type(pitch_types)\n",
    "                                }\n",
    "    \n",
    "    # do pitcher \n",
    "    \n",
    "    if pitcher in player_stats:\n",
    "        player_stats[pitcher][\"pitch_count\"] += 1\n",
    "    else:\n",
    "        player_stats[pitcher] = {\"bat_count\":0, \n",
    "                                 \"pitch_count\":1,\n",
    "                                 \"pitch_type\":gen_empty_pitch_type(pitch_types)\n",
    "                                }\n",
    "    p = player_stats[pitcher][\"pitch_type\"][row.pitch_type]\n",
    "    p[\"count\"]+=1\n",
    "    p[\"start_speed\"]+=row.start_speed\n",
    "    p[\"spin_dir\"]+=row.spin_dir\n",
    "    p[\"umpcall\"][row.umpcall]+=1"
   ]
  },
  {
   "cell_type": "code",
   "execution_count": 32,
   "metadata": {
    "scrolled": false
   },
   "outputs": [],
   "source": [
    "# Calculate avg stats\n",
    "for player,stat in player_stats.items():\n",
    "    for pitch_type,pitch_type_val in stat[\"pitch_type\"].items():\n",
    "        if(pitch_type_val[\"count\"]>0):\n",
    "            pitch_type_val[\"avg_start_speed\"] = pitch_type_val[\"start_speed\"]/pitch_type_val[\"count\"]\n",
    "            pitch_type_val[\"avg_spin_dir\"] = pitch_type_val[\"spin_dir\"]/pitch_type_val[\"count\"]\n",
    "            pitch_type_val[\"possibility\"] = pitch_type_val[\"count\"]/stat[\"pitch_count\"]\n",
    "        else:\n",
    "            pitch_type_val[\"avg_start_speed\"] = 0\n",
    "            pitch_type_val[\"avg_spin_dir\"] = 0\n",
    "            pitch_type_val[\"possibility\"] = 0"
   ]
  },
  {
   "cell_type": "code",
   "execution_count": 33,
   "metadata": {},
   "outputs": [
    {
     "name": "stdout",
     "output_type": "stream",
     "text": [
      "\n",
      "Player:  johnsjo09\n",
      "FF {'count': 11232, 'start_speed': 1042075.8000000054, 'spin_dir': 2263884.4199999943, 'umpcall': {'X': 2154, 'S': 5196, 'B': 3882}, 'avg_start_speed': 92.77740384615433, 'avg_spin_dir': 201.5566613247858, 'possibility': 0.4763358778625954}\n",
      "FT {'count': 1956, 'start_speed': 181678.79999999987, 'spin_dir': 443677.40999999933, 'umpcall': {'X': 480, 'S': 756, 'B': 720}, 'avg_start_speed': 92.8828220858895, 'avg_spin_dir': 226.82894171779108, 'possibility': 0.08295165394402036}\n",
      "SL {'count': 5334, 'start_speed': 462242.39999999775, 'spin_dir': 681662.4180000017, 'umpcall': {'X': 804, 'S': 2388, 'B': 2142}, 'avg_start_speed': 86.6596175478061, 'avg_spin_dir': 127.7957289088867, 'possibility': 0.2262086513994911}\n",
      "CH {'count': 1524, 'start_speed': 133713.5999999999, 'spin_dir': 351135.8940000004, 'umpcall': {'X': 306, 'S': 462, 'B': 756}, 'avg_start_speed': 87.73858267716528, 'avg_spin_dir': 230.40412992126008, 'possibility': 0.06463104325699745}\n",
      "CU {'count': 3534, 'start_speed': 277974.5999999989, 'spin_dir': 157167.09600000008, 'umpcall': {'X': 450, 'S': 1626, 'B': 1458}, 'avg_start_speed': 78.6572156196941, 'avg_spin_dir': 44.472862478777614, 'possibility': 0.14987277353689568}\n",
      "\n",
      "Player:  lohseky01\n",
      "FF {'count': 1800, 'start_speed': 160953.00000000055, 'spin_dir': 361703.17799999943, 'umpcall': {'X': 312, 'S': 768, 'B': 720}, 'avg_start_speed': 89.41833333333363, 'avg_spin_dir': 200.9462099999997, 'possibility': 0.026905829596412557}\n",
      "SI {'count': 30030, 'start_speed': 2685637.8000000115, 'spin_dir': 6568910.970000007, 'umpcall': {'X': 5904, 'S': 13476, 'B': 10650}, 'avg_start_speed': 89.43182817182856, 'avg_spin_dir': 218.74495404595427, 'possibility': 0.44887892376681615}\n",
      "SL {'count': 18072, 'start_speed': 1514617.8000000103, 'spin_dir': 2205244.9980000113, 'umpcall': {'X': 4176, 'S': 8178, 'B': 5718}, 'avg_start_speed': 83.81019256308159, 'avg_spin_dir': 122.02550896414405, 'possibility': 0.2701345291479821}\n",
      "CH {'count': 11322, 'start_speed': 903332.9999999985, 'spin_dir': 2713754.309999991, 'umpcall': {'X': 2688, 'S': 4842, 'B': 3792}, 'avg_start_speed': 79.7856385797561, 'avg_spin_dir': 239.68859830418577, 'possibility': 0.16923766816143498}\n",
      "CU {'count': 5676, 'start_speed': 421929.60000000027, 'spin_dir': 204335.3279999996, 'umpcall': {'X': 966, 'S': 2826, 'B': 1884}, 'avg_start_speed': 74.33572938689223, 'avg_spin_dir': 35.99988160676526, 'possibility': 0.08484304932735426}\n",
      "\n",
      "Player:  dunnmi01\n",
      "FF {'count': 13464, 'start_speed': 1272530.4000000027, 'spin_dir': 2137662.5340000084, 'umpcall': {'X': 2082, 'S': 7248, 'B': 4134}, 'avg_start_speed': 94.51354723707685, 'avg_spin_dir': 158.7687562388598, 'possibility': 0.5833116714322849}\n",
      "FT {'count': 546, 'start_speed': 51450.000000000015, 'spin_dir': 73705.07999999999, 'umpcall': {'X': 78, 'S': 252, 'B': 216}, 'avg_start_speed': 94.23076923076925, 'avg_spin_dir': 134.99098901098898, 'possibility': 0.023654795944892122}\n",
      "SL {'count': 8298, 'start_speed': 724065.0000000015, 'spin_dir': 1803704.3460000008, 'umpcall': {'X': 1206, 'S': 3696, 'B': 3396}, 'avg_start_speed': 87.2577729573393, 'avg_spin_dir': 217.3661540130153, 'possibility': 0.35950090979984406}\n",
      "CH {'count': 36, 'start_speed': 3146.999999999999, 'spin_dir': 4834.794000000002, 'umpcall': {'X': 0, 'S': 24, 'B': 12}, 'avg_start_speed': 87.41666666666664, 'avg_spin_dir': 134.29983333333337, 'possibility': 0.0015596568754873928}\n",
      "CU {'count': 732, 'start_speed': 56170.80000000001, 'spin_dir': 231602.30400000012, 'umpcall': {'X': 90, 'S': 258, 'B': 384}, 'avg_start_speed': 76.7360655737705, 'avg_spin_dir': 316.3965901639346, 'possibility': 0.03171302313491032}\n",
      "KC {'count': 6, 'start_speed': 492.6, 'spin_dir': 514.938, 'umpcall': {'X': 0, 'S': 6, 'B': 0}, 'avg_start_speed': 82.10000000000001, 'avg_spin_dir': 85.823, 'possibility': 0.0002599428125812321}\n",
      "\n",
      "Player:  webbry01\n",
      "FF {'count': 30, 'start_speed': 2803.2, 'spin_dir': 5692.02, 'umpcall': {'X': 0, 'S': 6, 'B': 24}, 'avg_start_speed': 93.44, 'avg_spin_dir': 189.734, 'possibility': 0.0014983518130056938}\n",
      "FT {'count': 12, 'start_speed': 1107.0, 'spin_dir': 3189.366, 'umpcall': {'X': 6, 'S': 6, 'B': 0}, 'avg_start_speed': 92.25, 'avg_spin_dir': 265.7805, 'possibility': 0.0005993407252022775}\n",
      "SI {'count': 12306, 'start_speed': 1140327.0000000063, 'spin_dir': 3117743.117999995, 'umpcall': {'X': 2784, 'S': 5214, 'B': 4308}, 'avg_start_speed': 92.66431009263825, 'avg_spin_dir': 253.35146416382213, 'possibility': 0.6146239136949355}\n",
      "SL {'count': 6024, 'start_speed': 495363.59999999864, 'spin_dir': 585336.5700000009, 'umpcall': {'X': 1122, 'S': 2856, 'B': 2046}, 'avg_start_speed': 82.23167330677268, 'avg_spin_dir': 97.16742529880493, 'possibility': 0.3008690440515433}\n",
      "CH {'count': 1650, 'start_speed': 138482.39999999988, 'spin_dir': 442691.1059999994, 'umpcall': {'X': 414, 'S': 582, 'B': 654}, 'avg_start_speed': 83.9287272727272, 'avg_spin_dir': 268.2976399999996, 'possibility': 0.08240934971531315}\n",
      "\n",
      "Player:  salasfe01\n",
      "FF {'count': 10584, 'start_speed': 963015.600000004, 'spin_dir': 2129531.1060000095, 'umpcall': {'X': 1650, 'S': 5988, 'B': 2946}, 'avg_start_speed': 90.98786848072601, 'avg_spin_dir': 201.2028633786857, 'possibility': 0.5510777881911902}\n",
      "FT {'count': 468, 'start_speed': 42780.59999999999, 'spin_dir': 107482.81199999986, 'umpcall': {'X': 54, 'S': 252, 'B': 162}, 'avg_start_speed': 91.41153846153844, 'avg_spin_dir': 229.6641282051279, 'possibility': 0.02436738519212746}\n",
      "CH {'count': 4188, 'start_speed': 357853.79999999935, 'spin_dir': 980388.0240000004, 'umpcall': {'X': 918, 'S': 1758, 'B': 1512}, 'avg_start_speed': 85.44742120343824, 'avg_spin_dir': 234.09456160458464, 'possibility': 0.21805685723211496}\n",
      "KC {'count': 3966, 'start_speed': 326865.6000000006, 'spin_dir': 512022.49800000066, 'umpcall': {'X': 756, 'S': 1614, 'B': 1596}, 'avg_start_speed': 82.4169440242059, 'avg_spin_dir': 129.10300000000018, 'possibility': 0.20649796938456733}\n"
     ]
    }
   ],
   "source": [
    "for pitcher in pitchers_name_s[:5]:\n",
    "    print(\"\\nPlayer: \",pitcher)\n",
    "    plyer = player_stats[pitcher]\n",
    "    for pitch_type,pitch_type_val in plyer[\"pitch_type\"].items():\n",
    "        if(pitch_type_val[\"count\"]>0):\n",
    "            print(pitch_type,pitch_type_val)"
   ]
  },
  {
   "cell_type": "code",
   "execution_count": null,
   "metadata": {
    "collapsed": true
   },
   "outputs": [],
   "source": []
  }
 ],
 "metadata": {
  "kernelspec": {
   "display_name": "Python 3",
   "language": "python",
   "name": "python3"
  },
  "language_info": {
   "codemirror_mode": {
    "name": "ipython",
    "version": 3
   },
   "file_extension": ".py",
   "mimetype": "text/x-python",
   "name": "python",
   "nbconvert_exporter": "python",
   "pygments_lexer": "ipython3",
   "version": "3.6.3"
  }
 },
 "nbformat": 4,
 "nbformat_minor": 2
}
