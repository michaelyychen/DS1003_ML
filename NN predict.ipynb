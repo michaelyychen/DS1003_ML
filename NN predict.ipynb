{
 "cells": [
  {
   "cell_type": "code",
   "execution_count": 1,
   "metadata": {},
   "outputs": [],
   "source": [
    "import pandas as pd\n",
    "import numpy as np\n",
    "import math\n",
    "import torch\n",
    "from torch.autograd import Variable\n",
    "from torch import nn\n",
    "from torch.nn import functional as F\n",
    "\n",
    "import matplotlib.pyplot as plt"
   ]
  },
  {
   "cell_type": "code",
   "execution_count": 2,
   "metadata": {},
   "outputs": [
    {
     "name": "stdout",
     "output_type": "stream",
     "text": [
      "Feature length:4\n",
      "Loading Data/MLB_2014/MLB_PitchFX_2014_RegularSeason.csv\n",
      "Loading Data/MLB_2014/MLB_PitchFX_2014_PostSeason.csv\n",
      "(658428, 7)\n",
      "(8837, 7)\n",
      "Loading Data/MLB_2015/MLB_PitchFX_2015_RegularSeason.csv\n",
      "(667265, 7)\n",
      "(672271, 7)\n",
      "Loading Data/MLB_2015/MLB_PitchFX_2015_PostSeason.csv\n",
      "(1339536, 7)\n",
      "(10277, 7)\n",
      "Loading Data/MLB_2016/MLB_PitchFX_2016_RegularSeason.csv\n",
      "(1349813, 7)\n",
      "(703809, 7)\n",
      "Loading Data/MLB_2016/MLB_PitchFX_2016_PostSeason.csv\n",
      "(2053622, 7)\n",
      "(10076, 7)\n",
      "Loading test file Data/MLB_2017/MLB_PitchFX_2017_RegularSeason.csv\n",
      "Loading test file Data/MLB_2017/MLB_PitchFX_2017_PostSeason.csv\n"
     ]
    }
   ],
   "source": [
    "base_dir = \"Data/\"\n",
    "\n",
    "label2one = {'B':0,'S':1,'X':2}\n",
    "one2label = {0:'B', 1:'S', 2:'X'}\n",
    "\n",
    "def normalize(data):\n",
    "    mu = np.mean(data, axis=0)\n",
    "    std = np.std(data, axis=0)\n",
    "    return mu, std, (data-mu)/std\n",
    "\n",
    "vfunc = np.vectorize(lambda x:label2one[x])\n",
    "\n",
    "input_labels = ['pitcher','batter', 'pitch_type','x0','x','y','ax','ay','az','px','pz','sz_top','sz_bot',\n",
    "             'vx0','vy0','vz0','pfx_x','z0','start_speed','end_speed',\n",
    "             'break_y','break_angle','break_length','spin_dir','spin_rate',\n",
    "             'inning','balls','strikes'\n",
    "             ]\n",
    "input_labels = ['pitcher','batter', 'pitch_type','balls', 'strikes','inning','pitch_count']\n",
    "#input_labels = ['pitcher','batter', \n",
    "       #'on_1b', 'on_2b', 'on_3b', 'pitch_type', 'side', \n",
    "       #'inning', 'pitch_count', 'balls', 'strikes','offense_score', 'defense_score', \n",
    "#       'ay', 'px', 'ax',  \n",
    "#       'sz_bot', 'vz0', 'vy0', 'pfx_x',\n",
    "#       'type_confidence', 'z0', 'tfs', 'pz', 'start_speed', 'az', 'zone',\n",
    "#       'break_angle', 'spin_dir', 'end_speed', 'vx0', 'sz_top', 'nasty',\n",
    "#       'pfx_z', 'break_y', 'x', 'spin_rate',\n",
    "#       'y0', 'break_length', 'y', 'x0'\n",
    "#       ]\n",
    "feature_length = len(input_labels)-3\n",
    "print(\"Feature length:{}\".format(feature_length))\n",
    "train_years = [4,5,6]\n",
    "dev_years = [7]\n",
    "\n",
    "\n",
    "train_x = {}\n",
    "train_y = {}\n",
    "ctr = 0\n",
    "for y in train_years:\n",
    "    filename= base_dir+\"MLB_201{0}/MLB_PitchFX_201{0}_RegularSeason.csv\".format(str(y))\n",
    "    print(\"Loading {}\".format(filename))\n",
    "    f = pd.read_csv(filename)\n",
    "    \n",
    "    tmp_x = f[input_labels]\n",
    "    tmp_y = f['umpcall']\n",
    "\n",
    "    tmp_x = tmp_x.as_matrix()\n",
    "    tmp_y = tmp_y.as_matrix()\n",
    "    tmp_y = vfunc(tmp_y)\n",
    "\n",
    "    if ctr==0:\n",
    "        ctr=1\n",
    "        train_x = tmp_x\n",
    "        train_y = tmp_y\n",
    "    else:\n",
    "        print(train_x.shape)\n",
    "        print(tmp_x.shape)\n",
    "        train_x = np.concatenate((train_x, tmp_x), axis=0)\n",
    "        train_y = np.concatenate((train_y, tmp_y), axis=0)\n",
    "    \n",
    "    filename= base_dir+\"MLB_201{0}/MLB_PitchFX_201{0}_PostSeason.csv\".format(str(y))\n",
    "    print(\"Loading {}\".format(filename))\n",
    "    f = pd.read_csv(filename)\n",
    "    \n",
    "    tmp_x = f[input_labels]\n",
    "    tmp_y = f['umpcall']\n",
    "\n",
    "    tmp_x = tmp_x.as_matrix()\n",
    "    tmp_y = tmp_y.as_matrix()\n",
    "    tmp_y = vfunc(tmp_y)\n",
    "    if ctr==0:\n",
    "        ctr=1\n",
    "        train_x = tmp_x\n",
    "        train_y = tmp_y\n",
    "    else:\n",
    "        print(train_x.shape)\n",
    "        print(tmp_x.shape)\n",
    "        train_x = np.concatenate((train_x, tmp_x), axis=0)\n",
    "        train_y = np.concatenate((train_y, tmp_y), axis=0)\n",
    "\n",
    "filename = base_dir+\"MLB_2017/MLB_PitchFX_2017_RegularSeason.csv\"\n",
    "print(\"Loading test file {}\".format(filename))\n",
    "f2 = pd.read_csv(filename)\n",
    "test_x = f2[input_labels]\n",
    "test_y = f2['umpcall']\n",
    "\n",
    "test_x = test_x.as_matrix()\n",
    "test_y = test_y.as_matrix()\n",
    "test_y = vfunc(test_y)\n",
    "\n",
    "filename = base_dir+\"MLB_2017/MLB_PitchFX_2017_PostSeason.csv\"\n",
    "print(\"Loading test file {}\".format(filename))\n",
    "f2 = pd.read_csv(filename)\n",
    "\n",
    "tmp_x = f2[input_labels]\n",
    "tmp_y = f2['umpcall']\n",
    "\n",
    "tmp_x = tmp_x.as_matrix()\n",
    "tmp_y = tmp_y.as_matrix()\n",
    "tmp_y = vfunc(tmp_y)\n",
    "\n",
    "test_x = np.concatenate((test_x, tmp_x), axis=0)\n",
    "test_y = np.concatenate((test_y, tmp_y), axis=0)"
   ]
  },
  {
   "cell_type": "code",
   "execution_count": 3,
   "metadata": {},
   "outputs": [],
   "source": [
    "vv = np.vectorize(lambda x: (isinstance(x, float) and math.isnan(x) ))\n",
    "idx = ~np.logical_or(vv(train_x[:,0]), vv(train_x[:,1]))\n",
    "train_x = train_x[idx]\n",
    "train_y = train_y[idx]"
   ]
  },
  {
   "cell_type": "code",
   "execution_count": 4,
   "metadata": {},
   "outputs": [],
   "source": [
    "from sklearn.model_selection import train_test_split\n",
    "train_x, dev_x, train_y, dev_y = train_test_split(train_x, train_y, test_size=0.1, random_state=0, shuffle=True)"
   ]
  },
  {
   "cell_type": "code",
   "execution_count": 5,
   "metadata": {},
   "outputs": [
    {
     "data": {
      "text/plain": [
       "array(['conlead01', 'duvalad01', 'FT', 0, 1, 4, 56], dtype=object)"
      ]
     },
     "execution_count": 5,
     "metadata": {},
     "output_type": "execute_result"
    }
   ],
   "source": [
    "train_x[0,:]"
   ]
  },
  {
   "cell_type": "code",
   "execution_count": 6,
   "metadata": {},
   "outputs": [],
   "source": [
    "class Lang:\n",
    "    def __init__(self, name):\n",
    "        \"\"\"Init Lang with a name.\"\"\"\n",
    "        self.name = name\n",
    "        self.word2index = {\"<UNK>\": 0}\n",
    "        self.word2count = {}\n",
    "        self.index2word = {0: \"<UNK>\"}\n",
    "        self.n_words = 1  # Count SOS and EOS\n",
    "\n",
    "    def addword(self, word):\n",
    "        \"\"\"Add a word to the dict.\"\"\"\n",
    "        if word not in self.word2index:\n",
    "            self.word2index[word] = self.n_words\n",
    "            self.word2count[word] = 1\n",
    "            self.index2word[self.n_words] = word\n",
    "            self.n_words += 1\n",
    "        else:\n",
    "            self.word2count[word] += 1"
   ]
  },
  {
   "cell_type": "code",
   "execution_count": 7,
   "metadata": {},
   "outputs": [],
   "source": [
    "def map2idx(train_x, pl, bl):\n",
    "    pi = train_x[:,0]\n",
    "    vfnc = np.vectorize(lambda x: pl.word2index[x] if x in pitch_lang.word2index else 0)\n",
    "    pi = vfnc(pi).reshape(-1,1)\n",
    "    vfnc = np.vectorize(lambda x:bl.word2index[x] if x in batter_lang.word2index else 0)\n",
    "    ba = vfnc(train_x[:,1]).reshape(-1,1)\n",
    "    \n",
    "    return np.concatenate((pi,ba,train_x[:,2:]), axis=1)\n",
    "\n",
    "def data_gen(dx, df, dy, batch_size=100):\n",
    "    idx = 0\n",
    "    while True:\n",
    "        if idx*batch_size >= dx.shape[0]:\n",
    "            return\n",
    "        elif (idx+1)*batch_size > dx.shape[0]:\n",
    "            yield dx[idx*batch_size:,:], df[idx*batch_size:,:], dy[idx*batch_size:]\n",
    "        else:\n",
    "            yield dx[idx*batch_size:(idx+1)*batch_size,:], df[idx*batch_size:(idx+1)*batch_size], dy[idx*batch_size:(idx+1)*batch_size]\n",
    "        idx += 1\n",
    "\n",
    "\n",
    "def train(train_x, train_f, train_y, dev_x, dev_f, dev_y, model, optimizer, criterion, batch_size=512, max_epoch = 512, validation_interv=1000):\n",
    "    for ep in range(max_epoch):\n",
    "        print(\"Epoch {}\".format(ep))\n",
    "        train_iter = data_gen(train_x, train_f, train_y, batch_size=batch_size)\n",
    "        ctr = 0\n",
    "        avg_loss = 0\n",
    "        for bx,bf,by in train_iter:\n",
    "            optimizer.zero_grad()\n",
    "            model.train()\n",
    "            y_pred = model(bx,bf)\n",
    "            loss = criterion(y_pred, by)\n",
    "            loss.backward()\n",
    "            avg_loss += loss.item()*bx.shape[0]\n",
    "            optimizer.step()\n",
    "            ctr+= bx.shape[0]\n",
    "        #dy_pred = model(dev_x, dev_f)\n",
    "        model.eval()\n",
    "        ll = 0\n",
    "        ctrr = 0\n",
    "        acc = 0\n",
    "        for dx,df,dy in data_gen(dev_x, dev_f, dev_y, batch_size=batch_size):\n",
    "            dy_pred = model(dx, df)\n",
    "            tmp = criterion(dy_pred, dy).item()\n",
    "            ll += tmp * dx.shape[0]\n",
    "            ctrr += dx.shape[0]\n",
    "            mv, mi = torch.max(dy_pred, 1)\n",
    "            acc += torch.sum( mi == dy ).item()\n",
    "        \n",
    "        print(\"loss:{} dev_loss:{}, dev_acc:{}\".format(avg_loss/ctr, ll/ctrr, acc / ctrr))\n"
   ]
  },
  {
   "cell_type": "code",
   "execution_count": 8,
   "metadata": {},
   "outputs": [],
   "source": [
    "pitch_lang = Lang('pitcher')\n",
    "batter_lang = Lang('batter')\n",
    "player_lang = Lang('player')\n",
    "pits = train_x[:,0]\n",
    "bats = train_x[:,1]\n",
    "for i in range(len(train_x)):\n",
    "    pitch_lang.addword(pits[i])\n",
    "    batter_lang.addword(bats[i])\n",
    "    player_lang.addword(pits[i])    \n",
    "    player_lang.addword(bats[i])"
   ]
  },
  {
   "cell_type": "code",
   "execution_count": 9,
   "metadata": {},
   "outputs": [],
   "source": [
    "vtx = Variable(torch.from_numpy(map2idx(train_x[:,:2], player_lang, player_lang).astype(np.long))).cuda()\n",
    "vtf = Variable(torch.from_numpy(train_x[:,3:].astype(np.float32))).cuda()\n",
    "vty = Variable(torch.from_numpy(train_y)).cuda()\n",
    "vdx = Variable(torch.from_numpy(map2idx(dev_x[:,:2], player_lang, player_lang).astype(np.long))).cuda()\n",
    "vdf = Variable(torch.from_numpy(dev_x[:,3:].astype(np.float32))).cuda()\n",
    "vdy = Variable(torch.from_numpy(dev_y)).cuda()\n",
    "\n",
    "vtestx = Variable(torch.from_numpy(map2idx(test_x[:,:2], player_lang, player_lang).astype(np.long))).cuda()\n",
    "vtestf = Variable(torch.from_numpy(test_x[:,3:].astype(np.float32))).cuda()\n",
    "vtesty = Variable(torch.from_numpy(test_y)).cuda()\n"
   ]
  },
  {
   "cell_type": "markdown",
   "metadata": {},
   "source": [
    "# Model 1"
   ]
  },
  {
   "cell_type": "code",
   "execution_count": 10,
   "metadata": {},
   "outputs": [],
   "source": [
    "class Fcc(nn.Module):\n",
    "    def __init__(self, p=0.1):\n",
    "        super(Fcc, self).__init__()\n",
    "        self.drop1 = nn.Dropout(p)\n",
    "        self.drop2 = nn.Dropout(p)\n",
    "        self.drop3 = nn.Dropout(p)\n",
    "        self.drop4 = nn.Dropout(p)\n",
    "        #self.drop3 = nn.Dropout(p)\n",
    "        self.lin1 = nn.Linear(feature_length, 300)\n",
    "        self.act1 = nn.PReLU()\n",
    "        self.lin2 = nn.Linear(300, 300)\n",
    "        self.act2 = F.tanh\n",
    "        self.lin3 = nn.Linear(300, 200)\n",
    "        self.act3 = F.sigmoid\n",
    "        self.lin4 = nn.Linear(200, 100)\n",
    "        self.act4 = nn.SELU()\n",
    "        self.lin5 = nn.Linear(100, 3)\n",
    "        #self.lin4 = nn.Linear(100, 3)\n",
    "\n",
    "    def forward(self, players, features):\n",
    "        #embedded = self.embedding(players[:,0], players[:,1])\n",
    "        #output = torch.cat([embedded, features], dim=1)\n",
    "        #output = self.drop_emb(output)\n",
    "        output = features\n",
    "        \n",
    "        output = self.lin1(output)\n",
    "        output = self.act1(output)\n",
    "        output = self.drop1(output)\n",
    "        \n",
    "        output = self.lin2(output)\n",
    "        output = self.act2(output)\n",
    "        output = self.drop2(output)\n",
    "        \n",
    "        output = self.lin3(output)\n",
    "        output = self.act3(output)\n",
    "        output = self.drop3(output)\n",
    "        \n",
    "        output = self.lin4(output)\n",
    "        output = self.act4(output)\n",
    "        output = self.drop4(output)\n",
    "        \n",
    "        output = self.lin5(output)\n",
    "        #output = F.relu(output)\n",
    "        #output = self.drop3(output)\n",
    "        \n",
    "        #output = self.lin4(output)\n",
    "        \n",
    "        output = F.log_softmax(output, dim=1)\n",
    "        return output"
   ]
  },
  {
   "cell_type": "code",
   "execution_count": 11,
   "metadata": {},
   "outputs": [
    {
     "name": "stdout",
     "output_type": "stream",
     "text": [
      "Fcc(\n",
      "  (drop1): Dropout(p=0.1)\n",
      "  (drop2): Dropout(p=0.1)\n",
      "  (drop3): Dropout(p=0.1)\n",
      "  (drop4): Dropout(p=0.1)\n",
      "  (lin1): Linear(in_features=4, out_features=300, bias=True)\n",
      "  (act1): PReLU(num_parameters=1)\n",
      "  (lin2): Linear(in_features=300, out_features=300, bias=True)\n",
      "  (lin3): Linear(in_features=300, out_features=200, bias=True)\n",
      "  (lin4): Linear(in_features=200, out_features=100, bias=True)\n",
      "  (act4): SELU()\n",
      "  (lin5): Linear(in_features=100, out_features=3, bias=True)\n",
      ")\n"
     ]
    }
   ],
   "source": [
    "model = Fcc(0.1).cuda()\n",
    "print(model)"
   ]
  },
  {
   "cell_type": "code",
   "execution_count": 12,
   "metadata": {
    "scrolled": true
   },
   "outputs": [
    {
     "name": "stdout",
     "output_type": "stream",
     "text": [
      "Epoch 0\n",
      "loss:1.0631074991370213 dev_loss:1.0406603813171387, dev_acc:0.4599118088869506\n",
      "Epoch 1\n"
     ]
    },
    {
     "ename": "RuntimeError",
     "evalue": "cuda runtime error (2) : out of memory at /home/yhhuang/code/tools/pytorch/aten/src/THC/generic/THCStorage.cu:58",
     "output_type": "error",
     "traceback": [
      "\u001b[0;31m---------------------------------------------------------------------------\u001b[0m",
      "\u001b[0;31mRuntimeError\u001b[0m                              Traceback (most recent call last)",
      "\u001b[0;32m<ipython-input-12-346a06a5aa53>\u001b[0m in \u001b[0;36m<module>\u001b[0;34m()\u001b[0m\n\u001b[1;32m      2\u001b[0m \u001b[0;31m#crit = nn.NLLLoss(torch.FloatTensor([0.3,0.3,0.4]).cuda())\u001b[0m\u001b[0;34m\u001b[0m\u001b[0;34m\u001b[0m\u001b[0m\n\u001b[1;32m      3\u001b[0m \u001b[0mcrit\u001b[0m \u001b[0;34m=\u001b[0m \u001b[0mnn\u001b[0m\u001b[0;34m.\u001b[0m\u001b[0mNLLLoss\u001b[0m\u001b[0;34m(\u001b[0m\u001b[0;34m)\u001b[0m\u001b[0;34m\u001b[0m\u001b[0m\n\u001b[0;32m----> 4\u001b[0;31m \u001b[0mtrain\u001b[0m\u001b[0;34m(\u001b[0m\u001b[0mvtx\u001b[0m\u001b[0;34m,\u001b[0m \u001b[0mvtf\u001b[0m\u001b[0;34m,\u001b[0m \u001b[0mvty\u001b[0m\u001b[0;34m,\u001b[0m \u001b[0mvdx\u001b[0m\u001b[0;34m,\u001b[0m \u001b[0mvdf\u001b[0m\u001b[0;34m,\u001b[0m \u001b[0mvdy\u001b[0m\u001b[0;34m,\u001b[0m \u001b[0mmodel\u001b[0m\u001b[0;34m,\u001b[0m \u001b[0mopt\u001b[0m\u001b[0;34m,\u001b[0m \u001b[0mcrit\u001b[0m\u001b[0;34m,\u001b[0m \u001b[0mmax_epoch\u001b[0m\u001b[0;34m=\u001b[0m\u001b[0;36m10\u001b[0m\u001b[0;34m,\u001b[0m \u001b[0mbatch_size\u001b[0m\u001b[0;34m=\u001b[0m\u001b[0;36m4096\u001b[0m\u001b[0;34m*\u001b[0m\u001b[0;36m64\u001b[0m\u001b[0;34m)\u001b[0m\u001b[0;34m\u001b[0m\u001b[0m\n\u001b[0m",
      "\u001b[0;32m<ipython-input-7-33f71bc07d2c>\u001b[0m in \u001b[0;36mtrain\u001b[0;34m(train_x, train_f, train_y, dev_x, dev_f, dev_y, model, optimizer, criterion, batch_size, max_epoch, validation_interv)\u001b[0m\n\u001b[1;32m     29\u001b[0m             \u001b[0moptimizer\u001b[0m\u001b[0;34m.\u001b[0m\u001b[0mzero_grad\u001b[0m\u001b[0;34m(\u001b[0m\u001b[0;34m)\u001b[0m\u001b[0;34m\u001b[0m\u001b[0m\n\u001b[1;32m     30\u001b[0m             \u001b[0mmodel\u001b[0m\u001b[0;34m.\u001b[0m\u001b[0mtrain\u001b[0m\u001b[0;34m(\u001b[0m\u001b[0;34m)\u001b[0m\u001b[0;34m\u001b[0m\u001b[0m\n\u001b[0;32m---> 31\u001b[0;31m             \u001b[0my_pred\u001b[0m \u001b[0;34m=\u001b[0m \u001b[0mmodel\u001b[0m\u001b[0;34m(\u001b[0m\u001b[0mbx\u001b[0m\u001b[0;34m,\u001b[0m\u001b[0mbf\u001b[0m\u001b[0;34m)\u001b[0m\u001b[0;34m\u001b[0m\u001b[0m\n\u001b[0m\u001b[1;32m     32\u001b[0m             \u001b[0mloss\u001b[0m \u001b[0;34m=\u001b[0m \u001b[0mcriterion\u001b[0m\u001b[0;34m(\u001b[0m\u001b[0my_pred\u001b[0m\u001b[0;34m,\u001b[0m \u001b[0mby\u001b[0m\u001b[0;34m)\u001b[0m\u001b[0;34m\u001b[0m\u001b[0m\n\u001b[1;32m     33\u001b[0m             \u001b[0mloss\u001b[0m\u001b[0;34m.\u001b[0m\u001b[0mbackward\u001b[0m\u001b[0;34m(\u001b[0m\u001b[0;34m)\u001b[0m\u001b[0;34m\u001b[0m\u001b[0m\n",
      "\u001b[0;32m/usr/local/lib/python3.5/dist-packages/torch/nn/modules/module.py\u001b[0m in \u001b[0;36m__call__\u001b[0;34m(self, *input, **kwargs)\u001b[0m\n\u001b[1;32m    489\u001b[0m             \u001b[0mresult\u001b[0m \u001b[0;34m=\u001b[0m \u001b[0mself\u001b[0m\u001b[0;34m.\u001b[0m\u001b[0m_slow_forward\u001b[0m\u001b[0;34m(\u001b[0m\u001b[0;34m*\u001b[0m\u001b[0minput\u001b[0m\u001b[0;34m,\u001b[0m \u001b[0;34m**\u001b[0m\u001b[0mkwargs\u001b[0m\u001b[0;34m)\u001b[0m\u001b[0;34m\u001b[0m\u001b[0m\n\u001b[1;32m    490\u001b[0m         \u001b[0;32melse\u001b[0m\u001b[0;34m:\u001b[0m\u001b[0;34m\u001b[0m\u001b[0m\n\u001b[0;32m--> 491\u001b[0;31m             \u001b[0mresult\u001b[0m \u001b[0;34m=\u001b[0m \u001b[0mself\u001b[0m\u001b[0;34m.\u001b[0m\u001b[0mforward\u001b[0m\u001b[0;34m(\u001b[0m\u001b[0;34m*\u001b[0m\u001b[0minput\u001b[0m\u001b[0;34m,\u001b[0m \u001b[0;34m**\u001b[0m\u001b[0mkwargs\u001b[0m\u001b[0;34m)\u001b[0m\u001b[0;34m\u001b[0m\u001b[0m\n\u001b[0m\u001b[1;32m    492\u001b[0m         \u001b[0;32mfor\u001b[0m \u001b[0mhook\u001b[0m \u001b[0;32min\u001b[0m \u001b[0mself\u001b[0m\u001b[0;34m.\u001b[0m\u001b[0m_forward_hooks\u001b[0m\u001b[0;34m.\u001b[0m\u001b[0mvalues\u001b[0m\u001b[0;34m(\u001b[0m\u001b[0;34m)\u001b[0m\u001b[0;34m:\u001b[0m\u001b[0;34m\u001b[0m\u001b[0m\n\u001b[1;32m    493\u001b[0m             \u001b[0mhook_result\u001b[0m \u001b[0;34m=\u001b[0m \u001b[0mhook\u001b[0m\u001b[0;34m(\u001b[0m\u001b[0mself\u001b[0m\u001b[0;34m,\u001b[0m \u001b[0minput\u001b[0m\u001b[0;34m,\u001b[0m \u001b[0mresult\u001b[0m\u001b[0;34m)\u001b[0m\u001b[0;34m\u001b[0m\u001b[0m\n",
      "\u001b[0;32m<ipython-input-10-22364afe13e9>\u001b[0m in \u001b[0;36mforward\u001b[0;34m(self, players, features)\u001b[0m\n\u001b[1;32m     34\u001b[0m         \u001b[0moutput\u001b[0m \u001b[0;34m=\u001b[0m \u001b[0mself\u001b[0m\u001b[0;34m.\u001b[0m\u001b[0mlin3\u001b[0m\u001b[0;34m(\u001b[0m\u001b[0moutput\u001b[0m\u001b[0;34m)\u001b[0m\u001b[0;34m\u001b[0m\u001b[0m\n\u001b[1;32m     35\u001b[0m         \u001b[0moutput\u001b[0m \u001b[0;34m=\u001b[0m \u001b[0mself\u001b[0m\u001b[0;34m.\u001b[0m\u001b[0mact3\u001b[0m\u001b[0;34m(\u001b[0m\u001b[0moutput\u001b[0m\u001b[0;34m)\u001b[0m\u001b[0;34m\u001b[0m\u001b[0m\n\u001b[0;32m---> 36\u001b[0;31m         \u001b[0moutput\u001b[0m \u001b[0;34m=\u001b[0m \u001b[0mself\u001b[0m\u001b[0;34m.\u001b[0m\u001b[0mdrop3\u001b[0m\u001b[0;34m(\u001b[0m\u001b[0moutput\u001b[0m\u001b[0;34m)\u001b[0m\u001b[0;34m\u001b[0m\u001b[0m\n\u001b[0m\u001b[1;32m     37\u001b[0m \u001b[0;34m\u001b[0m\u001b[0m\n\u001b[1;32m     38\u001b[0m         \u001b[0moutput\u001b[0m \u001b[0;34m=\u001b[0m \u001b[0mself\u001b[0m\u001b[0;34m.\u001b[0m\u001b[0mlin4\u001b[0m\u001b[0;34m(\u001b[0m\u001b[0moutput\u001b[0m\u001b[0;34m)\u001b[0m\u001b[0;34m\u001b[0m\u001b[0m\n",
      "\u001b[0;32m/usr/local/lib/python3.5/dist-packages/torch/nn/modules/module.py\u001b[0m in \u001b[0;36m__call__\u001b[0;34m(self, *input, **kwargs)\u001b[0m\n\u001b[1;32m    489\u001b[0m             \u001b[0mresult\u001b[0m \u001b[0;34m=\u001b[0m \u001b[0mself\u001b[0m\u001b[0;34m.\u001b[0m\u001b[0m_slow_forward\u001b[0m\u001b[0;34m(\u001b[0m\u001b[0;34m*\u001b[0m\u001b[0minput\u001b[0m\u001b[0;34m,\u001b[0m \u001b[0;34m**\u001b[0m\u001b[0mkwargs\u001b[0m\u001b[0;34m)\u001b[0m\u001b[0;34m\u001b[0m\u001b[0m\n\u001b[1;32m    490\u001b[0m         \u001b[0;32melse\u001b[0m\u001b[0;34m:\u001b[0m\u001b[0;34m\u001b[0m\u001b[0m\n\u001b[0;32m--> 491\u001b[0;31m             \u001b[0mresult\u001b[0m \u001b[0;34m=\u001b[0m \u001b[0mself\u001b[0m\u001b[0;34m.\u001b[0m\u001b[0mforward\u001b[0m\u001b[0;34m(\u001b[0m\u001b[0;34m*\u001b[0m\u001b[0minput\u001b[0m\u001b[0;34m,\u001b[0m \u001b[0;34m**\u001b[0m\u001b[0mkwargs\u001b[0m\u001b[0;34m)\u001b[0m\u001b[0;34m\u001b[0m\u001b[0m\n\u001b[0m\u001b[1;32m    492\u001b[0m         \u001b[0;32mfor\u001b[0m \u001b[0mhook\u001b[0m \u001b[0;32min\u001b[0m \u001b[0mself\u001b[0m\u001b[0;34m.\u001b[0m\u001b[0m_forward_hooks\u001b[0m\u001b[0;34m.\u001b[0m\u001b[0mvalues\u001b[0m\u001b[0;34m(\u001b[0m\u001b[0;34m)\u001b[0m\u001b[0;34m:\u001b[0m\u001b[0;34m\u001b[0m\u001b[0m\n\u001b[1;32m    493\u001b[0m             \u001b[0mhook_result\u001b[0m \u001b[0;34m=\u001b[0m \u001b[0mhook\u001b[0m\u001b[0;34m(\u001b[0m\u001b[0mself\u001b[0m\u001b[0;34m,\u001b[0m \u001b[0minput\u001b[0m\u001b[0;34m,\u001b[0m \u001b[0mresult\u001b[0m\u001b[0;34m)\u001b[0m\u001b[0;34m\u001b[0m\u001b[0m\n",
      "\u001b[0;32m/usr/local/lib/python3.5/dist-packages/torch/nn/modules/dropout.py\u001b[0m in \u001b[0;36mforward\u001b[0;34m(self, input)\u001b[0m\n\u001b[1;32m     51\u001b[0m \u001b[0;34m\u001b[0m\u001b[0m\n\u001b[1;32m     52\u001b[0m     \u001b[0;32mdef\u001b[0m \u001b[0mforward\u001b[0m\u001b[0;34m(\u001b[0m\u001b[0mself\u001b[0m\u001b[0;34m,\u001b[0m \u001b[0minput\u001b[0m\u001b[0;34m)\u001b[0m\u001b[0;34m:\u001b[0m\u001b[0;34m\u001b[0m\u001b[0m\n\u001b[0;32m---> 53\u001b[0;31m         \u001b[0;32mreturn\u001b[0m \u001b[0mF\u001b[0m\u001b[0;34m.\u001b[0m\u001b[0mdropout\u001b[0m\u001b[0;34m(\u001b[0m\u001b[0minput\u001b[0m\u001b[0;34m,\u001b[0m \u001b[0mself\u001b[0m\u001b[0;34m.\u001b[0m\u001b[0mp\u001b[0m\u001b[0;34m,\u001b[0m \u001b[0mself\u001b[0m\u001b[0;34m.\u001b[0m\u001b[0mtraining\u001b[0m\u001b[0;34m,\u001b[0m \u001b[0mself\u001b[0m\u001b[0;34m.\u001b[0m\u001b[0minplace\u001b[0m\u001b[0;34m)\u001b[0m\u001b[0;34m\u001b[0m\u001b[0m\n\u001b[0m\u001b[1;32m     54\u001b[0m \u001b[0;34m\u001b[0m\u001b[0m\n\u001b[1;32m     55\u001b[0m \u001b[0;34m\u001b[0m\u001b[0m\n",
      "\u001b[0;32m/usr/local/lib/python3.5/dist-packages/torch/nn/functional.py\u001b[0m in \u001b[0;36mdropout\u001b[0;34m(input, p, training, inplace)\u001b[0m\n\u001b[1;32m    552\u001b[0m \u001b[0;34m\u001b[0m\u001b[0m\n\u001b[1;32m    553\u001b[0m \u001b[0;32mdef\u001b[0m \u001b[0mdropout\u001b[0m\u001b[0;34m(\u001b[0m\u001b[0minput\u001b[0m\u001b[0;34m,\u001b[0m \u001b[0mp\u001b[0m\u001b[0;34m=\u001b[0m\u001b[0;36m0.5\u001b[0m\u001b[0;34m,\u001b[0m \u001b[0mtraining\u001b[0m\u001b[0;34m=\u001b[0m\u001b[0;32mFalse\u001b[0m\u001b[0;34m,\u001b[0m \u001b[0minplace\u001b[0m\u001b[0;34m=\u001b[0m\u001b[0;32mFalse\u001b[0m\u001b[0;34m)\u001b[0m\u001b[0;34m:\u001b[0m\u001b[0;34m\u001b[0m\u001b[0m\n\u001b[0;32m--> 554\u001b[0;31m     \u001b[0;32mreturn\u001b[0m \u001b[0m_functions\u001b[0m\u001b[0;34m.\u001b[0m\u001b[0mdropout\u001b[0m\u001b[0;34m.\u001b[0m\u001b[0mDropout\u001b[0m\u001b[0;34m.\u001b[0m\u001b[0mapply\u001b[0m\u001b[0;34m(\u001b[0m\u001b[0minput\u001b[0m\u001b[0;34m,\u001b[0m \u001b[0mp\u001b[0m\u001b[0;34m,\u001b[0m \u001b[0mtraining\u001b[0m\u001b[0;34m,\u001b[0m \u001b[0minplace\u001b[0m\u001b[0;34m)\u001b[0m\u001b[0;34m\u001b[0m\u001b[0m\n\u001b[0m\u001b[1;32m    555\u001b[0m \u001b[0;34m\u001b[0m\u001b[0m\n\u001b[1;32m    556\u001b[0m \u001b[0;34m\u001b[0m\u001b[0m\n",
      "\u001b[0;32m/usr/local/lib/python3.5/dist-packages/torch/nn/_functions/dropout.py\u001b[0m in \u001b[0;36mforward\u001b[0;34m(cls, ctx, input, p, train, inplace)\u001b[0m\n\u001b[1;32m     38\u001b[0m             \u001b[0mctx\u001b[0m\u001b[0;34m.\u001b[0m\u001b[0mnoise\u001b[0m\u001b[0;34m.\u001b[0m\u001b[0mfill_\u001b[0m\u001b[0;34m(\u001b[0m\u001b[0;36m0\u001b[0m\u001b[0;34m)\u001b[0m\u001b[0;34m\u001b[0m\u001b[0m\n\u001b[1;32m     39\u001b[0m         \u001b[0;32melse\u001b[0m\u001b[0;34m:\u001b[0m\u001b[0;34m\u001b[0m\u001b[0m\n\u001b[0;32m---> 40\u001b[0;31m             \u001b[0mctx\u001b[0m\u001b[0;34m.\u001b[0m\u001b[0mnoise\u001b[0m\u001b[0;34m.\u001b[0m\u001b[0mbernoulli_\u001b[0m\u001b[0;34m(\u001b[0m\u001b[0;36m1\u001b[0m \u001b[0;34m-\u001b[0m \u001b[0mctx\u001b[0m\u001b[0;34m.\u001b[0m\u001b[0mp\u001b[0m\u001b[0;34m)\u001b[0m\u001b[0;34m.\u001b[0m\u001b[0mdiv_\u001b[0m\u001b[0;34m(\u001b[0m\u001b[0;36m1\u001b[0m \u001b[0;34m-\u001b[0m \u001b[0mctx\u001b[0m\u001b[0;34m.\u001b[0m\u001b[0mp\u001b[0m\u001b[0;34m)\u001b[0m\u001b[0;34m\u001b[0m\u001b[0m\n\u001b[0m\u001b[1;32m     41\u001b[0m         \u001b[0mctx\u001b[0m\u001b[0;34m.\u001b[0m\u001b[0mnoise\u001b[0m \u001b[0;34m=\u001b[0m \u001b[0mctx\u001b[0m\u001b[0;34m.\u001b[0m\u001b[0mnoise\u001b[0m\u001b[0;34m.\u001b[0m\u001b[0mexpand_as\u001b[0m\u001b[0;34m(\u001b[0m\u001b[0minput\u001b[0m\u001b[0;34m)\u001b[0m\u001b[0;34m\u001b[0m\u001b[0m\n\u001b[1;32m     42\u001b[0m         \u001b[0moutput\u001b[0m\u001b[0;34m.\u001b[0m\u001b[0mmul_\u001b[0m\u001b[0;34m(\u001b[0m\u001b[0mctx\u001b[0m\u001b[0;34m.\u001b[0m\u001b[0mnoise\u001b[0m\u001b[0;34m)\u001b[0m\u001b[0;34m\u001b[0m\u001b[0m\n",
      "\u001b[0;31mRuntimeError\u001b[0m: cuda runtime error (2) : out of memory at /home/yhhuang/code/tools/pytorch/aten/src/THC/generic/THCStorage.cu:58"
     ]
    }
   ],
   "source": [
    "opt = torch.optim.Adam(model.parameters(), lr=1e-3)\n",
    "#crit = nn.NLLLoss(torch.FloatTensor([0.3,0.3,0.4]).cuda())\n",
    "crit = nn.NLLLoss()\n",
    "train(vtx, vtf, vty, vdx, vdf, vdy, model, opt, crit, max_epoch=10, batch_size=4096*64)"
   ]
  },
  {
   "cell_type": "code",
   "execution_count": null,
   "metadata": {
    "scrolled": true
   },
   "outputs": [],
   "source": [
    "train(vtx, vtf, vty, vdx, vdf, vdy, model, opt, crit, max_epoch=100, batch_size=4096*64)"
   ]
  },
  {
   "cell_type": "markdown",
   "metadata": {},
   "source": [
    "# Model 2"
   ]
  },
  {
   "cell_type": "code",
   "execution_count": null,
   "metadata": {},
   "outputs": [],
   "source": [
    "class PlayerEmbedding(nn.Module):\n",
    "    \"\"\"The class for embedding records.\n",
    "    This class is for embedding the docvec (r.t, r.e, r.m)\n",
    "    into a high dimension space.\n",
    "    Attributes:\n",
    "        embedding1: embedding for r.t\n",
    "        embedding2: embedding for r.e\n",
    "        linear: A linear layer mapping [r.t, r.e, r.m] back to one space\n",
    "    \"\"\"\n",
    "\n",
    "    def __init__(self, pitcher_size, batter_size, embedding_dim):\n",
    "        super(PlayerEmbedding, self).__init__()\n",
    "        self.embedding1 = nn.Embedding(pitcher_size, embedding_dim)\n",
    "        self.embedding2 = nn.Embedding(batter_size, embedding_dim)\n",
    "        self.embedding_dim = embedding_dim\n",
    "\n",
    "    def forward(self, p, b):\n",
    "        emb_p = self.embedding1(p)\n",
    "        emb_b = self.embedding2(b)\n",
    "\n",
    "        emb_all = torch.cat([emb_p, emb_b], dim=1)\n",
    "        return emb_all\n",
    "\n",
    "    def init_weights(self):\n",
    "        initrange = 0.1\n",
    "        em_layer = [self.embedding1, self.embedding2]\n",
    "\n",
    "        for layer in em_layer:\n",
    "            layer.weight.data.normal_(0, initrange)\n",
    "\n",
    "class Fcc(nn.Module):\n",
    "    def __init__(self, embedding_layer):\n",
    "        super(Fcc, self).__init__()\n",
    "        p=0.1\n",
    "        self.embedding = embedding_layer\n",
    "        self.drop_emb = nn.Dropout(p)\n",
    "        self.drop1 = nn.Dropout(p)\n",
    "        self.drop2 = nn.Dropout(p)\n",
    "        self.drop3 = nn.Dropout(p)\n",
    "        self.drop4 = nn.Dropout(p)\n",
    "        self.lin1 = nn.Linear(2*self.embedding.embedding_dim + feature_length, 300)\n",
    "        self.act1 = nn.SELU()\n",
    "        self.lin2 = nn.Linear(300, 300)\n",
    "        self.act2 = nn.SELU()\n",
    "        self.lin3 = nn.Linear(300, 300)\n",
    "        \n",
    "        self.act3 = nn.SELU()\n",
    "        self.lin4 = nn.Linear(300, 300)\n",
    "        self.act4 = nn.SELU()\n",
    "        self.lin5 = nn.Linear(300, 3)\n",
    "        #self.lin4 = nn.Linear(100, 3)\n",
    "\n",
    "    def forward(self, players, features):\n",
    "        embedded = self.embedding(players[:,0], players[:,1])\n",
    "        output = torch.cat([embedded, features], dim=1)\n",
    "        output = self.drop_emb(output)\n",
    "        \n",
    "        output = self.lin1(output)\n",
    "        output = self.act1(output)\n",
    "        output = self.drop1(output)\n",
    "        \n",
    "        output = self.lin2(output)\n",
    "        output = self.act2(output)\n",
    "        output = self.drop2(output)\n",
    "        \n",
    "        output = self.lin3(output)\n",
    "        output = self.act3(output)\n",
    "        output = self.drop3(output)\n",
    "        \n",
    "        output = self.lin4(output)\n",
    "        output = self.act4(output)\n",
    "        #output = self.drop4(output)\n",
    "        \n",
    "        output = self.lin5(output)\n",
    "        \n",
    "        output = F.log_softmax(output, dim=1)\n",
    "        return output"
   ]
  },
  {
   "cell_type": "code",
   "execution_count": null,
   "metadata": {},
   "outputs": [],
   "source": [
    "emb_layer = PlayerEmbedding(pitch_lang.n_words,batter_lang.n_words, 30).cuda()\n",
    "model = Fcc(emb_layer).cuda()\n",
    "print(model)\n",
    "opt = torch.optim.Adam(model.parameters(), lr=1e-3)\n",
    "crit = nn.NLLLoss()\n",
    "train(vtx, vtf, vty, vdx, vdf, vdy, model, opt, crit, max_epoch=40, batch_size=4096*8)"
   ]
  },
  {
   "cell_type": "code",
   "execution_count": 45,
   "metadata": {},
   "outputs": [
    {
     "name": "stdout",
     "output_type": "stream",
     "text": [
      "Fcc(\n",
      "  (embedding): PlayerEmbedding(\n",
      "    (embedding1): Embedding(1073, 30)\n",
      "    (embedding2): Embedding(1409, 30)\n",
      "  )\n",
      "  (drop_emb): Dropout(p=0.2)\n",
      "  (drop1): Dropout(p=0.2)\n",
      "  (drop2): Dropout(p=0.2)\n",
      "  (lin1): Linear(in_features=64, out_features=600, bias=True)\n",
      "  (act1): SELU()\n",
      "  (lin2): Linear(in_features=600, out_features=200, bias=True)\n",
      "  (act2): SELU()\n",
      "  (lin3): Linear(in_features=200, out_features=3, bias=True)\n",
      ")\n",
      "Epoch 0\n",
      "loss:1.0123226479305996 dev_loss:1.0152487630800677, dev_acc:0.47003440422542037\n",
      "Epoch 1\n",
      "loss:1.0123535767819545 dev_loss:1.015065942760493, dev_acc:0.4702573048408199\n",
      "Epoch 2\n",
      "loss:1.0121118442589532 dev_loss:1.0153059340368993, dev_acc:0.46958375732906915\n",
      "Epoch 3\n",
      "loss:1.0121334053785038 dev_loss:1.0154151142709285, dev_acc:0.46973397296118624\n",
      "Epoch 4\n",
      "loss:1.0122638532102688 dev_loss:1.0152626026310407, dev_acc:0.47052866211174105\n",
      "Epoch 5\n"
     ]
    },
    {
     "ename": "KeyboardInterrupt",
     "evalue": "",
     "output_type": "error",
     "traceback": [
      "\u001b[0;31m---------------------------------------------------------------------------\u001b[0m",
      "\u001b[0;31mKeyboardInterrupt\u001b[0m                         Traceback (most recent call last)",
      "\u001b[0;32m<ipython-input-45-86180e105840>\u001b[0m in \u001b[0;36m<module>\u001b[0;34m()\u001b[0m\n\u001b[1;32m      1\u001b[0m \u001b[0mprint\u001b[0m\u001b[0;34m(\u001b[0m\u001b[0mmodel\u001b[0m\u001b[0;34m)\u001b[0m\u001b[0;34m\u001b[0m\u001b[0m\n\u001b[0;32m----> 2\u001b[0;31m \u001b[0mtrain\u001b[0m\u001b[0;34m(\u001b[0m\u001b[0mvtx\u001b[0m\u001b[0;34m,\u001b[0m \u001b[0mvtf\u001b[0m\u001b[0;34m,\u001b[0m \u001b[0mvty\u001b[0m\u001b[0;34m,\u001b[0m \u001b[0mvdx\u001b[0m\u001b[0;34m,\u001b[0m \u001b[0mvdf\u001b[0m\u001b[0;34m,\u001b[0m \u001b[0mvdy\u001b[0m\u001b[0;34m,\u001b[0m \u001b[0mmodel\u001b[0m\u001b[0;34m,\u001b[0m \u001b[0mopt\u001b[0m\u001b[0;34m,\u001b[0m \u001b[0mcrit\u001b[0m\u001b[0;34m,\u001b[0m \u001b[0mmax_epoch\u001b[0m\u001b[0;34m=\u001b[0m\u001b[0;36m100\u001b[0m\u001b[0;34m,\u001b[0m \u001b[0mbatch_size\u001b[0m\u001b[0;34m=\u001b[0m\u001b[0;36m4096\u001b[0m\u001b[0;34m*\u001b[0m\u001b[0;36m16\u001b[0m\u001b[0;34m)\u001b[0m\u001b[0;34m\u001b[0m\u001b[0m\n\u001b[0m",
      "\u001b[0;32m<ipython-input-7-fc95997b0ad2>\u001b[0m in \u001b[0;36mtrain\u001b[0;34m(train_x, train_f, train_y, dev_x, dev_f, dev_y, model, optimizer, criterion, batch_size, max_epoch, validation_interv)\u001b[0m\n\u001b[1;32m     31\u001b[0m             \u001b[0my_pred\u001b[0m \u001b[0;34m=\u001b[0m \u001b[0mmodel\u001b[0m\u001b[0;34m(\u001b[0m\u001b[0mbx\u001b[0m\u001b[0;34m,\u001b[0m\u001b[0mbf\u001b[0m\u001b[0;34m)\u001b[0m\u001b[0;34m\u001b[0m\u001b[0m\n\u001b[1;32m     32\u001b[0m             \u001b[0mloss\u001b[0m \u001b[0;34m=\u001b[0m \u001b[0mcriterion\u001b[0m\u001b[0;34m(\u001b[0m\u001b[0my_pred\u001b[0m\u001b[0;34m,\u001b[0m \u001b[0mby\u001b[0m\u001b[0;34m)\u001b[0m\u001b[0;34m\u001b[0m\u001b[0m\n\u001b[0;32m---> 33\u001b[0;31m             \u001b[0mloss\u001b[0m\u001b[0;34m.\u001b[0m\u001b[0mbackward\u001b[0m\u001b[0;34m(\u001b[0m\u001b[0;34m)\u001b[0m\u001b[0;34m\u001b[0m\u001b[0m\n\u001b[0m\u001b[1;32m     34\u001b[0m             \u001b[0mavg_loss\u001b[0m \u001b[0;34m+=\u001b[0m \u001b[0mloss\u001b[0m\u001b[0;34m.\u001b[0m\u001b[0mitem\u001b[0m\u001b[0;34m(\u001b[0m\u001b[0;34m)\u001b[0m\u001b[0;34m*\u001b[0m\u001b[0mbx\u001b[0m\u001b[0;34m.\u001b[0m\u001b[0mshape\u001b[0m\u001b[0;34m[\u001b[0m\u001b[0;36m0\u001b[0m\u001b[0;34m]\u001b[0m\u001b[0;34m\u001b[0m\u001b[0m\n\u001b[1;32m     35\u001b[0m             \u001b[0moptimizer\u001b[0m\u001b[0;34m.\u001b[0m\u001b[0mstep\u001b[0m\u001b[0;34m(\u001b[0m\u001b[0;34m)\u001b[0m\u001b[0;34m\u001b[0m\u001b[0m\n",
      "\u001b[0;32m/usr/local/lib/python3.5/dist-packages/torch/tensor.py\u001b[0m in \u001b[0;36mbackward\u001b[0;34m(self, gradient, retain_graph, create_graph)\u001b[0m\n\u001b[1;32m     91\u001b[0m                 \u001b[0mproducts\u001b[0m\u001b[0;34m.\u001b[0m \u001b[0mDefaults\u001b[0m \u001b[0mto\u001b[0m\u001b[0;31m \u001b[0m\u001b[0;31m`\u001b[0m\u001b[0;31m`\u001b[0m\u001b[0;32mFalse\u001b[0m\u001b[0;31m`\u001b[0m\u001b[0;31m`\u001b[0m\u001b[0;34m.\u001b[0m\u001b[0;34m\u001b[0m\u001b[0m\n\u001b[1;32m     92\u001b[0m         \"\"\"\n\u001b[0;32m---> 93\u001b[0;31m         \u001b[0mtorch\u001b[0m\u001b[0;34m.\u001b[0m\u001b[0mautograd\u001b[0m\u001b[0;34m.\u001b[0m\u001b[0mbackward\u001b[0m\u001b[0;34m(\u001b[0m\u001b[0mself\u001b[0m\u001b[0;34m,\u001b[0m \u001b[0mgradient\u001b[0m\u001b[0;34m,\u001b[0m \u001b[0mretain_graph\u001b[0m\u001b[0;34m,\u001b[0m \u001b[0mcreate_graph\u001b[0m\u001b[0;34m)\u001b[0m\u001b[0;34m\u001b[0m\u001b[0m\n\u001b[0m\u001b[1;32m     94\u001b[0m \u001b[0;34m\u001b[0m\u001b[0m\n\u001b[1;32m     95\u001b[0m     \u001b[0;32mdef\u001b[0m \u001b[0mregister_hook\u001b[0m\u001b[0;34m(\u001b[0m\u001b[0mself\u001b[0m\u001b[0;34m,\u001b[0m \u001b[0mhook\u001b[0m\u001b[0;34m)\u001b[0m\u001b[0;34m:\u001b[0m\u001b[0;34m\u001b[0m\u001b[0m\n",
      "\u001b[0;32m/usr/local/lib/python3.5/dist-packages/torch/autograd/__init__.py\u001b[0m in \u001b[0;36mbackward\u001b[0;34m(tensors, grad_tensors, retain_graph, create_graph, grad_variables)\u001b[0m\n\u001b[1;32m     87\u001b[0m     Variable._execution_engine.run_backward(\n\u001b[1;32m     88\u001b[0m         \u001b[0mtensors\u001b[0m\u001b[0;34m,\u001b[0m \u001b[0mgrad_tensors\u001b[0m\u001b[0;34m,\u001b[0m \u001b[0mretain_graph\u001b[0m\u001b[0;34m,\u001b[0m \u001b[0mcreate_graph\u001b[0m\u001b[0;34m,\u001b[0m\u001b[0;34m\u001b[0m\u001b[0m\n\u001b[0;32m---> 89\u001b[0;31m         allow_unreachable=True)  # allow_unreachable flag\n\u001b[0m\u001b[1;32m     90\u001b[0m \u001b[0;34m\u001b[0m\u001b[0m\n\u001b[1;32m     91\u001b[0m \u001b[0;34m\u001b[0m\u001b[0m\n",
      "\u001b[0;31mKeyboardInterrupt\u001b[0m: "
     ]
    }
   ],
   "source": [
    "print(model)\n",
    "train(vtx, vtf, vty, vdx, vdf, vdy, model, opt, crit, max_epoch=100, batch_size=4096*16)"
   ]
  },
  {
   "cell_type": "code",
   "execution_count": null,
   "metadata": {},
   "outputs": [],
   "source": [
    "emb_layer = PlayerEmbedding(pitch_lang.n_words,batter_lang.n_words, 500).cuda()\n",
    "emb_layer.load_state_dict(torch.load('shallow_post.pt.emb'))\n",
    "model = Fcc(emb_layer).cuda()\n",
    "model.load_state_dict(torch.load('shallow_post.pt.model'))"
   ]
  },
  {
   "cell_type": "code",
   "execution_count": null,
   "metadata": {},
   "outputs": [],
   "source": [
    "torch.save(model.state_dict(), 'shallow_post.pt.model')\n",
    "torch.save(emb_layer.state_dict(), 'shallow_post.pt.emb')"
   ]
  },
  {
   "cell_type": "code",
   "execution_count": 19,
   "metadata": {},
   "outputs": [],
   "source": [
    "from sklearn.metrics import confusion_matrix\n",
    "import numpy as np\n",
    "import pandas as pd\n",
    "import pickle\n",
    "import seaborn as sn\n",
    "import matplotlib.pyplot as plt\n",
    "\n",
    "def generate_confusion_matrix(y_test, y_train, file_name = \"confusion_matrix.png\"):\n",
    "    ax= plt.subplot()\n",
    "    cm = confusion_matrix(y_test, y_train)\n",
    "    df_cm = pd.DataFrame(cm, range(3), range(3))\n",
    "    sn.set(font_scale=1.2)#for label size\n",
    "    sn.heatmap(df_cm, annot=True, fmt=\"d\",annot_kws={\"size\": 14}, cmap=\"YlGnBu\")\n",
    "#     ax.set_title('Confusion Matrix');\n",
    "    ax.xaxis.set_ticklabels(['Ball', 'Strike', 'Hit']) \n",
    "    ax.yaxis.set_ticklabels(['Ball', 'Strike', 'Hit'])\n",
    "    #plt.savefig(file_name)\n",
    "    plt.show()"
   ]
  },
  {
   "cell_type": "markdown",
   "metadata": {},
   "source": [
    "### Loss"
   ]
  },
  {
   "cell_type": "code",
   "execution_count": 38,
   "metadata": {},
   "outputs": [
    {
     "name": "stderr",
     "output_type": "stream",
     "text": [
      "/usr/local/lib/python3.5/dist-packages/ipykernel_launcher.py:9: UserWarning: invalid index of a 0-dim tensor. This will be an error in PyTorch 0.5. Use tensor.item() to convert a 0-dim tensor to a Python number\n",
      "  if __name__ == '__main__':\n"
     ]
    }
   ],
   "source": [
    "criter = nn.NLLLoss()\n",
    "with torch.no_grad():\n",
    "    ll=0\n",
    "    ctrr=0\n",
    "    crit=nn.NLLLoss()\n",
    "    for dx,df,dy in data_gen(vtestx, vtestf, vtesty, batch_size=128):\n",
    "        model.eval()\n",
    "        dy_pred = model(dx, df)\n",
    "        tmp = criter(dy_pred, dy).data[0]\n",
    "        ll += tmp * dx.shape[0]\n",
    "        ctrr += dx.shape[0]\n",
    "    dev_loss = ll.item()/ctrr"
   ]
  },
  {
   "cell_type": "markdown",
   "metadata": {},
   "source": [
    "### Accuracy"
   ]
  },
  {
   "cell_type": "code",
   "execution_count": 39,
   "metadata": {},
   "outputs": [],
   "source": [
    "with torch.no_grad():\n",
    "    ll=0\n",
    "    ctrr=0\n",
    "    pred = []\n",
    "    for dx,df,dy in data_gen(vtestx, vtestf, vtesty, batch_size=128):\n",
    "        model.eval()\n",
    "        dy_pred = model(dx, df)\n",
    "        _,py = torch.max(dy_pred, 1)\n",
    "        ll += torch.sum(py==dy)\n",
    "        pred.append(py.cpu().data)\n",
    "        ctrr += dx.shape[0]\n",
    "    dev_acc = ll.item()/ctrr"
   ]
  },
  {
   "cell_type": "code",
   "execution_count": 40,
   "metadata": {},
   "outputs": [],
   "source": [
    "pred_y = torch.cat(pred).numpy()"
   ]
  },
  {
   "cell_type": "code",
   "execution_count": 42,
   "metadata": {},
   "outputs": [
    {
     "name": "stdout",
     "output_type": "stream",
     "text": [
      "Fcc(\n",
      "  (embedding): PlayerEmbedding(\n",
      "    (embedding1): Embedding(1073, 30)\n",
      "    (embedding2): Embedding(1409, 30)\n",
      "  )\n",
      "  (drop_emb): Dropout(p=0.2)\n",
      "  (drop1): Dropout(p=0.2)\n",
      "  (drop2): Dropout(p=0.2)\n",
      "  (lin1): Linear(in_features=64, out_features=600, bias=True)\n",
      "  (act1): SELU()\n",
      "  (lin2): Linear(in_features=600, out_features=200, bias=True)\n",
      "  (act2): SELU()\n",
      "  (lin3): Linear(in_features=200, out_features=3, bias=True)\n",
      ")\n",
      "test loss: 1.0139234410259232 dev_los: 0.4691603830700644\n"
     ]
    },
    {
     "data": {
      "image/png": "[encoded data removed]",
      "text/plain": [
       "<matplotlib.figure.Figure at 0x7f99e3878668>"
      ]
     },
     "metadata": {},
     "output_type": "display_data"
    }
   ],
   "source": [
    "print(model)\n",
    "print(\"test loss: {} dev_los: {}\".format(dev_loss, dev_acc))\n",
    "generate_confusion_matrix(test_y, pred_y)"
   ]
  },
  {
   "cell_type": "markdown",
   "metadata": {},
   "source": [
    "# DeepModel\n",
    "\n",
    "----------"
   ]
  },
  {
   "cell_type": "code",
   "execution_count": null,
   "metadata": {},
   "outputs": [],
   "source": [
    "class PlayerStat:\n",
    "    def __init__(self, train_x):\n",
    "        self.types = list(set(train_x[:,2]))\n",
    "        self.pitchers = list(set(train_x[:,0]))\n",
    "        self.batters = list(set(train_x[:,1]))\n",
    "        self.type_dist = {}\n",
    "        self.type_sum = {}\n",
    "        self.feat_dim = train_x.shape[1]-3\n",
    "        for i in range(train_x.shape[0]):\n",
    "            p = train_x[i,0]\n",
    "            b = train_x[i,1]\n",
    "            t = train_x[i,2]\n",
    "            self.addWord(p+' '+b, t, train_x[i,3:])\n",
    "            self.addWord(p, t, train_x[i,3:])\n",
    "            self.addWord(b, t, train_x[i,3:])\n",
    "            self.addWord('<TOTAL>', t, train_x[i,3:])\n",
    "    def addWord(self, label, t, data):\n",
    "        if label not in self.type_dist:\n",
    "            self.type_dist[label] = {}\n",
    "            self.type_sum[label] = {}\n",
    "            for tt in self.types:\n",
    "                self.type_dist[label][tt]=0\n",
    "                self.type_sum[label][tt] = np.zeros((1,self.feat_dim))\n",
    "        self.type_dist[label][t] +=1\n",
    "        self.type_sum[label][t] += data.astype(np.float32)"
   ]
  },
  {
   "cell_type": "code",
   "execution_count": null,
   "metadata": {},
   "outputs": [],
   "source": [
    "ps = PlayerStat(train_x)"
   ]
  },
  {
   "cell_type": "code",
   "execution_count": null,
   "metadata": {},
   "outputs": [],
   "source": [
    "def predictd(self, X, model):\n",
    "    model.eval()\n",
    "    pred_y = np.zeros((X.shape[0], 3))\n",
    "    for i in range(X.shape[0]):\n",
    "        p = str(X[i,0])\n",
    "        b = str(X[i,1])\n",
    "        inp_mat = np.zeros((len(self.types), self.feat_dim))\n",
    "        if p+' '+b in self.type_dist:\n",
    "            for j in range(len(self.types)):\n",
    "                tp = self.types[j]\n",
    "                inp_mat[j,:] = self.type_sum[p+' '+b][tp] / self.type_dist[p+' '+b][tp]\n",
    "                inp_mat[j, -3:] = X[i, -3:]\n",
    "            vx = Variable(torch.from_numpy(map2idx(np.asarray([[p,b]]*len(self.types))).astype(np.long))).cuda()\n",
    "            vf = Variable(torch.from_numpy( inp_mat.astype(np.float32) )).cuda()\n",
    "            pp = model(vx,vf)\n",
    "            pp = pp.exp().cpu().data.numpy()\n",
    "            ctr = 0\n",
    "            for j in range(len(self.types)):\n",
    "                pred_y[i,:]+=pp[j,:] * self.type_dist[p+' '+b][self.types[j]]\n",
    "                ctr += self.type_dist[p+' '+b][self.types[j]]\n",
    "            pred_y[i,:] /= ctr\n",
    "        elif p in self.type_dist:\n",
    "            for j in range(len(self.types)):\n",
    "                tp = self.types[j]\n",
    "                inp_mat[j,:] = self.type_sum[p][tp] / self.type_dist[p][tp]\n",
    "                inp_mat[j, -3:] = X[i, -3:]\n",
    "                \n",
    "            vx = Variable(torch.from_numpy(map2idx(np.asarray([[p,'<UNK>']]*len(self.types))).astype(np.long))).cuda()\n",
    "            vf = Variable(torch.from_numpy( inp_mat.astype(np.float32) )).cuda()\n",
    "            pp = model(vx,vf)\n",
    "            pp = pp.exp().cpu().data.numpy()\n",
    "\n",
    "            ctr = 0\n",
    "            for j in range(len(self.types)):\n",
    "                pred_y[i,:]+=pp[j,:] * self.type_dist[p][self.types[j]]\n",
    "                ctr += self.type_dist[p][self.types[j]]\n",
    "            pred_y[i,:] /= ctr\n",
    "\n",
    "        elif b in self.type_dist:\n",
    "            for j in range(len(self.types)):\n",
    "                tp = self.types[j]\n",
    "                inp_mat[j,:] = self.type_sum[b][tp] / self.type_dist[b][tp]\n",
    "                inp_mat[j, -3:] = X[i, -3:]\n",
    "                \n",
    "            vx = Variable(torch.from_numpy(map2idx(np.asarray([['<UNK>',b]]*len(self.types))).astype(np.long))).cuda()\n",
    "            vf = Variable(torch.from_numpy( inp_mat.astype(np.float32) )).cuda()\n",
    "            pp = model(vx,vf)\n",
    "            pp = pp.exp().cpu().data.numpy()\n",
    "\n",
    "            ctr = 0\n",
    "            for j in range(len(self.types)):\n",
    "                pred_y[i,:]+=pp[j,:] * self.type_dist[b][self.types[j]]\n",
    "                ctr += self.type_dist[b][self.types[j]]\n",
    "            pred_y[i,:] /= ctr\n",
    "        else:\n",
    "            for j in range(len(self.types)):\n",
    "                tp = self.types[j]\n",
    "                inp_mat[j,:] = self.type_sum['<TOTAL>'][tp] / self.type_dist['<TOTAL>'][tp]\n",
    "                inp_mat[j, -3:] = X[i, -3:]\n",
    "                \n",
    "            vx = Variable(torch.from_numpy(map2idx(np.asarray([['<UNK>','<UNK>']]*len(self.types))).astype(np.long))).cuda()\n",
    "            vf = Variable(torch.from_numpy( inp_mat.astype(np.float32) )).cuda()\n",
    "            pp = model(vx,vf)\n",
    "            pp = pp.exp().cpu().data.numpy()\n",
    "\n",
    "            ctr = 0\n",
    "            for j in range(len(self.types)):\n",
    "                pred_y[i,:]+=pp[j,:] * self.type_dist['<TOTAL>'][self.types[j]]\n",
    "                ctr += self.type_dist['<TOTAL>'][self.types[j]]\n",
    "            pred_y[i,:] /= ctr\n",
    "    return pred_y"
   ]
  },
  {
   "cell_type": "code",
   "execution_count": null,
   "metadata": {},
   "outputs": [],
   "source": [
    "pred = predictd(ps, test_x, model)"
   ]
  },
  {
   "cell_type": "code",
   "execution_count": null,
   "metadata": {},
   "outputs": [],
   "source": [
    "np.sum(np.argmax(pred, axis=1) == test_y) / test_y.shape[0]"
   ]
  },
  {
   "cell_type": "code",
   "execution_count": null,
   "metadata": {},
   "outputs": [],
   "source": [
    "def criterion(pred, y):\n",
    "    s = 0;\n",
    "    for i in range(pred.shape[0]):\n",
    "        s -= np.log(pred[i,y[i]])\n",
    "    return s/y.shape[0]"
   ]
  },
  {
   "cell_type": "code",
   "execution_count": null,
   "metadata": {},
   "outputs": [],
   "source": [
    "criterion(pred, test_y)"
   ]
  },
  {
   "cell_type": "code",
   "execution_count": null,
   "metadata": {},
   "outputs": [],
   "source": [
    "from sklearn.metrics import confusion_matrix\n",
    "cf = confusion_matrix(test_y, pred_y) / test_y.shape[0]\n",
    "print(cf)\n",
    "plt.matshow(cf, vmin=0, vmax=1)\n",
    "plt.colorbar()\n",
    "plt.show()"
   ]
  },
  {
   "cell_type": "markdown",
   "metadata": {
    "collapsed": true
   },
   "source": [
    "# Model 2"
   ]
  },
  {
   "cell_type": "code",
   "execution_count": null,
   "metadata": {},
   "outputs": [],
   "source": [
    "class PlayerEmbedding(nn.Module):\n",
    "    def __init__(self, pitcher_size, batter_size, embedding_dim):\n",
    "        super(PlayerEmbedding, self).__init__()\n",
    "        self.embedding1 = nn.Embedding(pitcher_size, embedding_dim)\n",
    "        self.embedding2 = nn.Embedding(batter_size, embedding_dim)\n",
    "        self.out_dim = embedding_dim*16\n",
    "        self.conv1 = nn.Conv1d(2,32,1, padding=0)\n",
    "\n",
    "        self.conv2 = nn.Conv1d(32,32,1, padding=0)\n",
    "        self.conv3 = nn.Conv1d(32,32,1, padding=0)\n",
    "        self.maxpol = nn.MaxPool1d(2)\n",
    "        self.embedding_dim = embedding_dim\n",
    "\n",
    "    def forward(self, p, b):\n",
    "        emb_p = self.embedding1(p)\n",
    "        emb_b = self.embedding2(b)\n",
    "        emb_p = emb_p.unsqueeze(1)\n",
    "        emb_b = emb_b.unsqueeze(1)\n",
    "\n",
    "        emb_all = torch.cat([emb_p, emb_b], dim=1)\n",
    "        bypass = F.relu(self.conv1(emb_all))\n",
    "        \n",
    "        emb_all = F.relu(self.conv2(bypass))\n",
    "        emb_all = F.relu(self.conv3(emb_all))\n",
    "        emb_all += bypass\n",
    "        emb_all = self.maxpol(emb_all)\n",
    "        emb_all = emb_all.view(emb_all.shape[0],-1)\n",
    "        \n",
    "        return emb_all\n",
    "\n",
    "    def init_weights(self):\n",
    "        initrange = 0.5\n",
    "        em_layer = [self.embedding1, self.embedding2]\n",
    "\n",
    "        for layer in em_layer:\n",
    "            #layer.weight.data.normal_(0, initrange)\n",
    "            layer.weight.data.uniform_(-initrange, initrange)\n",
    "\n",
    "class ResNet(nn.Module):\n",
    "    def __init__(self, in_dim):\n",
    "        super(ResNet, self).__init__()\n",
    "\n",
    "        self.lin1 = nn.Linear(in_dim, in_dim)\n",
    "        self.lin2 = nn.Linear(in_dim, in_dim)\n",
    "    def forward(self, x):\n",
    "        output = F.relu(self.lin1(x))\n",
    "        return self.lin2(output) + x\n",
    "class Fcc(nn.Module):\n",
    "    def __init__(self, embedding_layer):\n",
    "        super(Fcc, self).__init__()\n",
    "\n",
    "        self.embedding = embedding_layer\n",
    "        #hid_dim = [100,100,100,100,100]\n",
    "        p = 0.0\n",
    "        res_dim=1024\n",
    "        expand_fea_dim = 64\n",
    "\n",
    "        self.bn = torch.nn.BatchNorm1d(feature_length)\n",
    "        #self.drop1 = nn.Dropout(p)\n",
    "        #self.lin1 = nn.Linear(2*self.embedding.embedding_dim + 22, hid_dim[0])\n",
    "\n",
    "        self.fea1 = nn.Linear(feature_length,64)\n",
    "        #self.feadrop1 = nn.Dropout(p)\n",
    "        self.feares2 = ResNet(64)\n",
    "        #self.feadrop2 = nn.Dropout(p)\n",
    "        self.fea3 = nn.Linear(64,expand_fea_dim)\n",
    "\n",
    "        self.lin1 = nn.Linear(self.embedding.out_dim + expand_fea_dim, res_dim)\n",
    "        #self.lin1 = nn.Linear(2*self.embedding.embedding_dim, hid_dim[0])\n",
    "        #self.drop2 = nn.Dropout(p)\n",
    "        self.res2 = ResNet(res_dim)\n",
    "        #self.drop3 = nn.Dropout(p)\n",
    "        self.res3 = ResNet(res_dim)\n",
    "        #self.drop4 = nn.Dropout(p)\n",
    "\n",
    "        self.lin3 = nn.Linear(res_dim, 256)\n",
    "\n",
    "        self.res4 = ResNet(256)\n",
    "        #self.drop5 = nn.Dropout(p)\n",
    "        self.res5 = ResNet(256)\n",
    "        #self.drop6 = nn.Dropout(p)\n",
    "        #self.lin6 = nn.Linear(256, 64)\n",
    "        #self.lin7 = nn.Linear(64,64)\n",
    "        self.lin8 = nn.Linear(256,3)\n",
    "    \n",
    "    def forward(self, players, features):\n",
    "        embedded = F.relu(self.embedding(players[:,0], players[:,1]))\n",
    "        fea = self.bn(features)\n",
    "        fea = F.relu(self.fea1(fea))\n",
    "        #fea = self.feadrop1(fea)\n",
    "        fea = F.relu(self.feares2(fea))\n",
    "        #fea = self.feadrop2(fea)\n",
    "        fea = F.relu(self.fea3(fea))\n",
    "        output = torch.cat([embedded, fea], dim=1)\n",
    "        #output = embedded\n",
    "\n",
    "        #output = self.drop1(output)\n",
    "        output = self.lin1(output)\n",
    "        output = F.relu(output)\n",
    "        \n",
    "        #output = self.drop2(output)\n",
    "        output = self.res2(output)\n",
    "        output = F.relu(output)\n",
    "        \n",
    "        #output = self.drop3(output)\n",
    "        output = self.res3(output)\n",
    "        output = F.relu(output)\n",
    "        \n",
    "        output = F.relu(self.lin3(output))\n",
    "\n",
    "        #output = self.drop4(output)\n",
    "        output = self.res4(output)\n",
    "        output = F.relu(output)\n",
    "\n",
    "        #output = self.drop5(output)\n",
    "        output = self.res5(output)\n",
    "        output = F.relu(output)\n",
    "\n",
    "        #output = self.lin6(output)\n",
    "        #output = F.relu(output)\n",
    "        #output = self.lin7(output)\n",
    "        #output = F.relu(output)\n",
    "\n",
    "        output = self.lin8(output)\n",
    "        output = F.log_softmax(output, dim=1)\n",
    "\n",
    "        return output"
   ]
  },
  {
   "cell_type": "code",
   "execution_count": null,
   "metadata": {},
   "outputs": [],
   "source": [
    "emb_layer = PlayerEmbedding(pitch_lang.n_words,batter_lang.n_words, 100).cuda()\n",
    "model = Fcc(emb_layer).cuda()\n",
    "print(model)\n",
    "opt = torch.optim.Adam(model.parameters(), lr=1e-3)\n",
    "crit = nn.NLLLoss()\n",
    "train(vtx, vtf, vty, vdx, vdf, vdy, model, opt, crit, max_epoch=5, batch_size=2048, validation_interv=500)"
   ]
  },
  {
   "cell_type": "code",
   "execution_count": null,
   "metadata": {},
   "outputs": [],
   "source": [
    "train(vtx, vtf, vty, vdx, vdf, vdy, model, opt, crit, max_epoch=5, batch_size=2048, validation_interv=500)"
   ]
  },
  {
   "cell_type": "code",
   "execution_count": null,
   "metadata": {},
   "outputs": [],
   "source": [
    "emb_layer_15 = PlayerEmbedding(pitch_lang.n_words,batter_lang.n_words, 100).cuda()\n",
    "emb_layer_15.load_state_dict(emb_layer.state_dict())\n",
    "model_15 = Fcc(emb_layer_15).cuda()\n",
    "model_15.load_state_dict(model.state_dict())"
   ]
  },
  {
   "cell_type": "code",
   "execution_count": null,
   "metadata": {},
   "outputs": [],
   "source": [
    "model_15.eval()\n",
    "ctrr=0\n",
    "ll=0\n",
    "for dx,df,dy in data_gen(vtestx, vtestf, vtesty, batch_size=128):\n",
    "    dy_pred = model_15(dx, df)\n",
    "    pred_y = dy_pred.cpu().data.numpy()\n",
    "    tmp = np.sum(np.argmax(pred_y,axis=1) == dy.cpu().data.numpy()) / dx.shape[0]\n",
    "    ll += tmp * dx.shape[0]\n",
    "    ctrr += dx.shape[0]"
   ]
  },
  {
   "cell_type": "code",
   "execution_count": null,
   "metadata": {},
   "outputs": [],
   "source": [
    "ll / ctrr"
   ]
  },
  {
   "cell_type": "code",
   "execution_count": null,
   "metadata": {},
   "outputs": [],
   "source": [
    "model_15.eval()\n",
    "ctrr=0\n",
    "ll=0\n",
    "for dx,df,dy in data_gen(vtestx, vtestf, vtesty, batch_size=128):\n",
    "    dy_pred = model_15(dx, df)\n",
    "    tmp = crit(dy_pred, dy).data[0]\n",
    "    ll += tmp * dx.shape[0]\n",
    "    ctrr += dx.shape[0]\n",
    "ll/ctrr"
   ]
  },
  {
   "cell_type": "code",
   "execution_count": null,
   "metadata": {},
   "outputs": [],
   "source": [
    "pred = []\n",
    "for dx,df,dy in data_gen(vtestx, vtestf, vtesty, batch_size=128):\n",
    "    dy_pred = model_15(dx, df)\n",
    "    pred_y = dy_pred.cpu().data.numpy()\n",
    "    pred.append(np.argmax(pred_y, axis=1))"
   ]
  },
  {
   "cell_type": "code",
   "execution_count": null,
   "metadata": {},
   "outputs": [],
   "source": [
    "pred_l = pred[0]\n",
    "for i in range(1,len(pred)):\n",
    "    pred_l = np.concatenate((pred_l, pred[i]))"
   ]
  },
  {
   "cell_type": "code",
   "execution_count": null,
   "metadata": {},
   "outputs": [],
   "source": [
    "confusion_matrix(test_y, pred_l)"
   ]
  },
  {
   "cell_type": "code",
   "execution_count": null,
   "metadata": {},
   "outputs": [],
   "source": [
    "from sklearn.metrics import confusion_matrix"
   ]
  },
  {
   "cell_type": "code",
   "execution_count": null,
   "metadata": {},
   "outputs": [],
   "source": [
    "pred = predictd(ps, test_x, model_15)"
   ]
  },
  {
   "cell_type": "code",
   "execution_count": null,
   "metadata": {},
   "outputs": [],
   "source": [
    "np.sum(np.argmax(pred, axis=1) == test_y) / test_y.shape[0]"
   ]
  },
  {
   "cell_type": "code",
   "execution_count": null,
   "metadata": {},
   "outputs": [],
   "source": [
    "criterion(pred, test_y)"
   ]
  },
  {
   "cell_type": "code",
   "execution_count": null,
   "metadata": {},
   "outputs": [],
   "source": [
    "confusion_matrix(test_y, np.argmax(pred, axis=1))"
   ]
  },
  {
   "cell_type": "markdown",
   "metadata": {},
   "source": [
    "# Model 3\n",
    "\n",
    "Learn only from previous available data"
   ]
  },
  {
   "cell_type": "code",
   "execution_count": null,
   "metadata": {},
   "outputs": [],
   "source": [
    "emb_layer = PlayerEmbedding(pitch_lang.n_words,batter_lang.n_words, 100).cuda()\n",
    "model2 = Fcc(emb_layer).cuda()\n",
    "print(model2)\n",
    "opt = torch.optim.Adam(model2.parameters(), lr=1e-3)\n",
    "crit = nn.NLLLoss()\n",
    "train(vtx, vtf, vty, vdx, vdf, vdy, model2, opt, crit, max_epoch=5, batch_size=2048, validation_interv=500)"
   ]
  },
  {
   "cell_type": "code",
   "execution_count": null,
   "metadata": {},
   "outputs": [],
   "source": [
    "train(vtx, vtf, vty, vdx, vdf, vdy, model2, opt, crit, max_epoch=5, batch_size=2048, validation_interv=500)"
   ]
  },
  {
   "cell_type": "code",
   "execution_count": null,
   "metadata": {},
   "outputs": [],
   "source": [
    "emb_layer_5 = PlayerEmbedding(pitch_lang.n_words,batter_lang.n_words, 100).cuda()\n",
    "emb_layer_5.load_state_dict(emb_layer.state_dict())\n",
    "model_5 = Fcc(emb_layer_5).cuda()\n",
    "model_5.load_state_dict(model2.state_dict())"
   ]
  },
  {
   "cell_type": "code",
   "execution_count": null,
   "metadata": {},
   "outputs": [],
   "source": [
    "model_5.eval()\n",
    "ctrr=0\n",
    "ll=0\n",
    "for dx,df,dy in data_gen(vtestx, vtestf, vtesty, batch_size=128):\n",
    "    dy_pred = model_5(dx, df)\n",
    "    pred_y = dy_pred.cpu().data.numpy()\n",
    "    tmp = np.sum(np.argmax(pred_y,axis=1) == dy.cpu().data.numpy()) / dx.shape[0]\n",
    "    ll += tmp * dx.shape[0]\n",
    "    ctrr += dx.shape[0]"
   ]
  },
  {
   "cell_type": "code",
   "execution_count": null,
   "metadata": {},
   "outputs": [],
   "source": [
    "ll / ctrr"
   ]
  },
  {
   "cell_type": "code",
   "execution_count": null,
   "metadata": {},
   "outputs": [],
   "source": [
    "model_5.eval()\n",
    "ctrr=0\n",
    "ll=0\n",
    "for dx,df,dy in data_gen(vtestx, vtestf, vtesty, batch_size=128):\n",
    "    dy_pred = model_5(dx, df)\n",
    "    tmp = crit(dy_pred, dy).data[0]\n",
    "    ll += tmp * dx.shape[0]\n",
    "    ctrr += dx.shape[0]"
   ]
  },
  {
   "cell_type": "code",
   "execution_count": null,
   "metadata": {},
   "outputs": [],
   "source": [
    "ll/ctrr"
   ]
  },
  {
   "cell_type": "code",
   "execution_count": null,
   "metadata": {},
   "outputs": [],
   "source": [
    "from sklearn.metrics import confusion_matrix\n",
    "model_5.eval()\n",
    "ctrr=0\n",
    "ll=np.zeros((3,3))\n",
    "for dx,df,dy in data_gen(vtestx, vtestf, vtesty, batch_size=128):\n",
    "    dy_pred = model_5(dx, df)\n",
    "    pred_y = np.argmax(dy_pred.cpu().data.numpy(), axis=1)\n",
    "    tmp = confusion_matrix(pred_y, dy.cpu().data.numpy())\n",
    "    ll += tmp"
   ]
  },
  {
   "cell_type": "code",
   "execution_count": null,
   "metadata": {},
   "outputs": [],
   "source": [
    "ll"
   ]
  },
  {
   "cell_type": "markdown",
   "metadata": {},
   "source": [
    "# Baseline codes"
   ]
  },
  {
   "cell_type": "code",
   "execution_count": null,
   "metadata": {},
   "outputs": [],
   "source": [
    "np.sum(1 == test_y) / test_y.shape[0]"
   ]
  },
  {
   "cell_type": "code",
   "execution_count": null,
   "metadata": {},
   "outputs": [],
   "source": [
    "dum_pred = np.zeros((test_y.shape[0],3))\n",
    "pad = 3.333333333333333333e-1\n",
    "dum_pred[:, 1] = 1 - 2*pad\n",
    "dum_pred[:,0] = pad\n",
    "dum_pred[:,2] = pad\n",
    "criterion(dum_pred, test_y)"
   ]
  },
  {
   "cell_type": "code",
   "execution_count": null,
   "metadata": {},
   "outputs": [],
   "source": [
    "confusion_matrix(test_y, np.argmax(dum_pred, axis=1))"
   ]
  },
  {
   "cell_type": "markdown",
   "metadata": {},
   "source": [
    "# Result\n",
    "Here are some of the result on the dataset\n",
    "\n",
    "training: 2015,2016,2017 regular season\n",
    "\n",
    "dev: 0.1 of the training set\n",
    "\n",
    "test: 2017 post season"
   ]
  },
  {
   "cell_type": "markdown",
   "metadata": {},
   "source": [
    "## Baseline\n",
    "We can simply predict the output to be all 1 as the 'S' is the most outcome in our training data. The accuracy of this simple prediction function is:"
   ]
  },
  {
   "cell_type": "markdown",
   "metadata": {},
   "source": [
    "The accuracy on the test set is: 0.47999643589058183\n",
    "\n",
    "The cross-entropy on the test set is: 1.0986122886679723\n",
    "\n",
    "The confusion matrix is:\n",
    "```text\n",
    "array([[   0, 4009,    0],\n",
    "       [   0, 5387,    0],\n",
    "       [   0, 1827,    0]])\n",
    "```"
   ]
  },
  {
   "cell_type": "markdown",
   "metadata": {},
   "source": [
    "The cross-entropy of this model is actually affected by the probability assigned to the other two classes(class 0 and 2). The minimum cross-entropy is: 1.0986122886679723"
   ]
  },
  {
   "cell_type": "markdown",
   "metadata": {},
   "source": [
    "# Shallow NN w/ Post + Avg. Gen.\n",
    "In this model, we first train our shallow Net with data including the post pitch features. And use a generative model to make the prediction."
   ]
  },
  {
   "cell_type": "markdown",
   "metadata": {},
   "source": [
    "We use all of the following features as our input:\n",
    "``` text\n",
    "'pitcher','batter', 'pitch_type','x0','x','y','ax','ay','az','px','pz','sz_top','sz_bot',\n",
    " 'vx0','vy0','vz0','pfx_x','z0','start_speed','end_speed',\n",
    " 'break_y','break_angle','break_length','spin_dir','spin_rate',\n",
    " 'inning','balls','strikes'```"
   ]
  },
  {
   "cell_type": "markdown",
   "metadata": {},
   "source": [
    "This is the structure of the shallow NN:\n",
    "```text\n",
    "Fcc(\n",
    "  (embedding): PlayerEmbedding(\n",
    "    (embedding1): Embedding(1120, 100)\n",
    "    (embedding2): Embedding(1445, 100)\n",
    "  )\n",
    "  (drop1): Dropout(p=0.1)\n",
    "  (lin1): Linear(in_features=225, out_features=100, bias=True)\n",
    "  (lin2): Linear(in_features=100, out_features=100, bias=True)\n",
    "  (lin3): Linear(in_features=100, out_features=50, bias=True)\n",
    "  (lin4): Linear(in_features=50, out_features=3, bias=True)\n",
    ")```\n",
    "After 30 epoch of training:"
   ]
  },
  {
   "cell_type": "markdown",
   "metadata": {},
   "source": [
    "The accuracy on the test set is: 0.7106440969731745\n",
    "\n",
    "The cross-entropy on the test set is: 0.6153840772368059\n",
    "\n",
    "The confusion matrix is:\n",
    "```text\n",
    "array([[3276,  721,   12],\n",
    "       [ 658, 4446,  283],\n",
    "       [  92, 1446,  289]])\n",
    "```"
   ]
  },
  {
   "cell_type": "markdown",
   "metadata": {},
   "source": [
    "One observation is that the 'X'(2) classes is likely to be predicted as 'S'(1). This coincide to our knowledge of the baseball."
   ]
  },
  {
   "cell_type": "markdown",
   "metadata": {},
   "source": [
    "## The Generation Model\n",
    "Since we do not have most of the pitch/fx features. We average the feature from the training data grouped by pitcher,batter and pitch_type"
   ]
  },
  {
   "cell_type": "markdown",
   "metadata": {},
   "source": [
    "The accuracy on the test set is: 0.450325224984407\n",
    "\n",
    "The cross-entropy on the test set is: 1.7214855619830554\n",
    "\n",
    "The confusion matrix is:\n",
    "```text\n",
    "array([[  99, 3454,  456],\n",
    "       [ 124, 4656,  607],\n",
    "       [  30, 1498,  299]])\n",
    "```"
   ]
  },
  {
   "cell_type": "markdown",
   "metadata": {},
   "source": [
    "From the confusion matrix, we can see that most of the prediction is 'S'. This might be dut to we are averaging dataset to generate input and most entries in the dataset are 'S'."
   ]
  },
  {
   "cell_type": "markdown",
   "metadata": {},
   "source": [
    "# Shallow NN w/o Post Features\n",
    "We use the same structure as the previous model but with only the input features:\n",
    "```text\n",
    "'pitcher','batter','balls', 'strikes','inning','pitch_count'\n",
    "```"
   ]
  },
  {
   "cell_type": "markdown",
   "metadata": {},
   "source": [
    "The accuracy on the test set is: 0.47042509443886577\n",
    "\n",
    "The cross-entropy on the test set is: 0.9997494564191931\n",
    "\n",
    "The confusion matrix is:\n",
    "```text\n",
    "array([[ 928, 3066,   15],\n",
    "       [ 866, 4489,   32],\n",
    "       [ 326, 1485,   16]])\n",
    "```"
   ]
  },
  {
   "cell_type": "markdown",
   "metadata": {},
   "source": [
    "# Deep Model w/ Post + Avg. Gen\n",
    "We follow the same procedure in the shallow model."
   ]
  },
  {
   "cell_type": "markdown",
   "metadata": {},
   "source": [
    "We use all of the following features as our input:\n",
    "``` text\n",
    "'pitcher','batter', 'pitch_type','x0','x','y','ax','ay','az','px','pz','sz_top','sz_bot',\n",
    " 'vx0','vy0','vz0','pfx_x','z0','start_speed','end_speed',\n",
    " 'break_y','break_angle','break_length','spin_dir','spin_rate',\n",
    " 'inning','balls','strikes'```"
   ]
  },
  {
   "cell_type": "markdown",
   "metadata": {},
   "source": [
    "```text\n",
    "Fcc(\n",
    "  (embedding): PlayerEmbedding(\n",
    "    (embedding1): Embedding(1120, 100)\n",
    "    (embedding2): Embedding(1445, 100)\n",
    "    (conv1): Conv1d(2, 32, kernel_size=(1,), stride=(1,))\n",
    "    (conv2): Conv1d(32, 32, kernel_size=(1,), stride=(1,))\n",
    "    (conv3): Conv1d(32, 32, kernel_size=(1,), stride=(1,))\n",
    "    (maxpol): MaxPool1d(kernel_size=2, stride=2, padding=0, dilation=1, ceil_mode=False)\n",
    "  )\n",
    "  (bn): BatchNorm1d(25, eps=1e-05, momentum=0.1, affine=True)\n",
    "  (fea1): Linear(in_features=25, out_features=64, bias=True)\n",
    "  (feares2): ResNet(\n",
    "    (lin1): Linear(in_features=64, out_features=64, bias=True)\n",
    "    (lin2): Linear(in_features=64, out_features=64, bias=True)\n",
    "  )\n",
    "  (fea3): Linear(in_features=64, out_features=64, bias=True)\n",
    "  (lin1): Linear(in_features=1664, out_features=1024, bias=True)\n",
    "  (res2): ResNet(\n",
    "    (lin1): Linear(in_features=1024, out_features=1024, bias=True)\n",
    "    (lin2): Linear(in_features=1024, out_features=1024, bias=True)\n",
    "  )\n",
    "  (res3): ResNet(\n",
    "    (lin1): Linear(in_features=1024, out_features=1024, bias=True)\n",
    "    (lin2): Linear(in_features=1024, out_features=1024, bias=True)\n",
    "  )\n",
    "  (lin3): Linear(in_features=1024, out_features=256, bias=True)\n",
    "  (res4): ResNet(\n",
    "    (lin1): Linear(in_features=256, out_features=256, bias=True)\n",
    "    (lin2): Linear(in_features=256, out_features=256, bias=True)\n",
    "  )\n",
    "  (res5): ResNet(\n",
    "    (lin1): Linear(in_features=256, out_features=256, bias=True)\n",
    "    (lin2): Linear(in_features=256, out_features=256, bias=True)\n",
    "  )\n",
    "  (lin8): Linear(in_features=256, out_features=3, bias=True)\n",
    ")```"
   ]
  },
  {
   "cell_type": "markdown",
   "metadata": {},
   "source": [
    "After 10 epoch of training,\n",
    "\n",
    "The accuracy on the test set is: 0.743473224627996\n",
    "\n",
    "The cross-entropy on the test set is: 0.6006864595759783\n",
    "\n",
    "The confusion matrix is:\n",
    "```text\n",
    "array([[3404,  598,    7],\n",
    "       [ 453, 4488,  446],\n",
    "       [  44, 1331,  452]])\n",
    "```"
   ]
  },
  {
   "cell_type": "markdown",
   "metadata": {},
   "source": [
    "## The Generation Model\n",
    "Since we do not have most of the pitch/fx features. We average the feature from the training data grouped by pitcher,batter and pitch_type"
   ]
  },
  {
   "cell_type": "markdown",
   "metadata": {},
   "source": [
    "The accuracy on the test set is: 0.4631560188897799 <- 0.450325224984407\n",
    "\n",
    "The cross-entropy on the test set is: 1.7626901821693999 <- 1.7214855619830554\n",
    "\n",
    "The confusion matrix is:\n",
    "```text\n",
    "array([[ 130, 3624,  255],\n",
    "       [ 166, 4894,  327],\n",
    "       [  51, 1602,  174]])\n",
    "```"
   ]
  },
  {
   "cell_type": "markdown",
   "metadata": {},
   "source": [
    "# Deep NN w/o Post Features\n",
    "We use the same structure as the previous model but with only the input features:\n",
    "```text\n",
    "'pitcher','batter','balls', 'strikes','inning','pitch_count'\n",
    "```"
   ]
  },
  {
   "cell_type": "markdown",
   "metadata": {},
   "source": [
    "After 5 epoch,\n",
    "\n",
    "The accuracy on the test set is: 0.48730286019780805\n",
    "\n",
    "The cross-entropy on the test set is: 0.9971903735363663\n",
    "\n",
    "The confusion matrix is:\n",
    "```text\n",
    "array([[ 846, 3163,    0],\n",
    "       [ 764, 4623,    0],\n",
    "       [ 290, 1537,    0]])\n",
    "```"
   ]
  },
  {
   "cell_type": "markdown",
   "metadata": {},
   "source": [
    "Interesting, the model never predict the outcome as 'X'."
   ]
  },
  {
   "cell_type": "code",
   "execution_count": null,
   "metadata": {},
   "outputs": [],
   "source": []
  }
 ],
 "metadata": {
  "kernelspec": {
   "display_name": "Python 3",
   "language": "python",
   "name": "python3"
  },
  "language_info": {
   "codemirror_mode": {
    "name": "ipython",
    "version": 3
   },
   "file_extension": ".py",
   "mimetype": "text/x-python",
   "name": "python",
   "nbconvert_exporter": "python",
   "pygments_lexer": "ipython3",
   "version": "3.5.2"
  }
 },
 "nbformat": 4,
 "nbformat_minor": 2
}
